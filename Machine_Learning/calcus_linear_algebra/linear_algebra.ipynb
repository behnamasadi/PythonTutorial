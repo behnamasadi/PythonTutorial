{
 "cells": [
  {
   "cell_type": "markdown",
   "metadata": {},
   "source": [
    "### Changes of basis vectors\n",
    "Let say our first basis vector set is:\n",
    "\n",
    "$\\begin{bmatrix} 1\\\\ 0\\end{bmatrix}$, $\\begin{bmatrix} 0\\\\ 1\\end{bmatrix}$ \n",
    "\n",
    "and our second basis vector set is:\n",
    "\n",
    "$\\begin{bmatrix} 2\\\\ 1\\end{bmatrix}$, $\\begin{bmatrix} -1\\\\ 1\\end{bmatrix}$.\n",
    "\n",
    "In fact these are the position of the second basis vectors in our first basis set.\n",
    "If a vector is described as \n",
    "$\\begin{bmatrix} -1\\\\ 2\\end{bmatrix}$ in our second basis we can find it in the first basis as:\n",
    "\n",
    "$-1\\times\\begin{bmatrix} 2\\\\ 1\\end{bmatrix} + 2\\times\\begin{bmatrix} -1\\\\ 1\\end{bmatrix}=\\begin{bmatrix} -4\\\\ 1\\end{bmatrix}$ or matrix multipication where the columns of the matrix are second basis vectors:\n",
    "\n",
    "$\\begin{bmatrix}\n",
    " 2& -1\\\\ \n",
    " 1& 1 \n",
    "\\end{bmatrix} \\times \\begin{bmatrix} -1\\\\ 2\\end{bmatrix} =\\begin{bmatrix} -4\\\\ 1\\end{bmatrix} $"
   ]
  },
  {
   "cell_type": "markdown",
   "metadata": {},
   "source": [
    "### Covariance and contravariance of vectors\n",
    "\n",
    "Two ways to describe a vector in basis vectors:\n",
    "\n",
    "1) Parallel Projection Counting how many unit vectors we should add to get our vector. In our example:\n",
    "\n",
    "$-1\\times \\begin{bmatrix} 2\\\\ 1\\end{bmatrix} + 2\\times\\begin{bmatrix} -1\\\\ 1\\end{bmatrix}=0$ \n",
    "\n",
    "2)perpendicular projection Dot product our vector with basis vector:\n",
    "\n",
    "$\\begin{bmatrix} -1, 2\\end{bmatrix} \\cdot \\begin{bmatrix} 2\\\\1\\end{bmatrix}=0$\n",
    "\n",
    "\n",
    "\n",
    "$\\begin{bmatrix} -1, 2\\end{bmatrix} \\cdot \\begin{bmatrix} -1\\\\1\\end{bmatrix}=4$\n"
   ]
  },
  {
   "cell_type": "markdown",
   "metadata": {},
   "source": [
    "If we double the size of the basis vectors, our new basis is:\n",
    "\n",
    "$\\begin{bmatrix} 4\\\\ 2\\end{bmatrix}$, $\\begin{bmatrix} -2\\\\2\\end{bmatrix}$.\n",
    "\n",
    "This will turn our old vector $\\begin{bmatrix} -1\\\\ 2\\end{bmatrix}$  into:\n",
    "\n",
    "$\\begin{bmatrix} -0.5\\\\ 1\\end{bmatrix}$\n",
    "\n",
    "Because these two quantities change \"contrary\" to one other, they are are refered as \"contra-variant\" componenet of the vector.\n",
    "\n",
    "If we use the second approach to repsent our vector, the asscociated dot product will also double. "
   ]
  },
  {
   "cell_type": "markdown",
   "metadata": {},
   "source": [
    "Ref: [1](https://mathinsight.org/taylors_theorem_multivariable_introduction), [2](http://www.math.toronto.edu/courses/mat237y1/20199/notes/Chapter2/S2.6.html), [3](https://www.youtube.com/watch?v=vvE5w3iOtGs), [4](http://jccc-mpg.wikidot.com/vector-projection), [5](https://www.youtube.com/watch?v=P2LTAUO1TdA&list=PLZHQObOWTQDPD3MizzM2xVFitgF8hE_ab&index=13)"
   ]
  },
  {
   "cell_type": "markdown",
   "metadata": {},
   "source": [
    "### Creating a basis set"
   ]
  },
  {
   "cell_type": "markdown",
   "metadata": {},
   "source": [
    "### Change of basis"
   ]
  },
  {
   "cell_type": "markdown",
   "metadata": {},
   "source": [
    "### Vector Fields\n",
    "\n",
    "Ref: [1](https://tutorial.math.lamar.edu/classes/calciii/VectorFields.aspx)"
   ]
  },
  {
   "cell_type": "markdown",
   "metadata": {},
   "source": [
    "### Coordinate system\n",
    "#### Cartesian, Polar, Curvilinear coordinates ,Cylindrical and Spherical Coordinates\n",
    "\n",
    "Ref: [1](https://www.skillsyouneed.com/num/polar-cylindrical-spherical-coordinates.html)"
   ]
  },
  {
   "cell_type": "markdown",
   "metadata": {},
   "source": [
    "## Coordinate transformations\n",
    "Refs [1](https://en.wikipedia.org/wiki/List_of_common_coordinate_transformations)"
   ]
  },
  {
   "cell_type": "markdown",
   "metadata": {},
   "source": [
    "### Affine & Curvilinear Transformations"
   ]
  },
  {
   "cell_type": "markdown",
   "metadata": {},
   "source": [
    "## Vector Products\n",
    "### Dot Procuct\n",
    "\n",
    "### The Hadamard product (Schur product)\n",
    "we use $s \\odot t$ to denote the elementwise product of the two vectors.\n",
    "\n",
    "$(s \\odot t)_j = s_j t_j$\n",
    "\n",
    "\n",
    "$\\begin{eqnarray}\n",
    "\\left[\\begin{array}{c} 1 \\\\ 2 \\end{array}\\right] \n",
    "  \\odot \\left[\\begin{array}{c} 3 \\\\ 4\\end{array} \\right]\n",
    "= \\left[ \\begin{array}{c} 1 * 3 \\\\ 2 * 4 \\end{array} \\right]\n",
    "= \\left[ \\begin{array}{c} 3 \\\\ 8 \\end{array} \\right].\n",
    "\\tag{28}\\end{eqnarray}$\n",
    "\n",
    "### Kronecker product\n",
    "If $A$ is an $m × n$ matrix and $B$ is a $p × q$ matrix, then the Kronecker product $A \\bigotimes B$ is the $pm × qn$ block matrix:\n",
    "\n",
    "\n",
    "${\\displaystyle {\\begin{bmatrix}1&2\\\\3&4\\\\\\end{bmatrix}}\\otimes {\\begin{bmatrix}0&5\\\\6&7\\\\\\end{bmatrix}}={\\begin{bmatrix}1{\\begin{bmatrix}0&5\\\\6&7\\\\\\end{bmatrix}}&2{\\begin{bmatrix}0&5\\\\6&7\\\\\\end{bmatrix}}\\\\3{\\begin{bmatrix}0&5\\\\6&7\\\\\\end{bmatrix}}&4{\\begin{bmatrix}0&5\\\\6&7\\\\\\end{bmatrix}}\\\\\\end{bmatrix}}={\\begin{bmatrix}1\\times 0&1\\times 5&2\\times 0&2\\times 5\\\\1\\times 6&1\\times 7&2\\times 6&2\\times 7\\\\3\\times 0&3\\times 5&4\\times 0&4\\times 5\\\\3\\times 6&3\\times 7&4\\times 6&4\\times 7\\\\\\end{bmatrix}}={\\begin{bmatrix}0&5&0&10\\\\6&7&12&14\\\\0&15&0&20\\\\18&21&24&28\\end{bmatrix}}.}\n",
    "$"
   ]
  }
 ],
 "metadata": {
  "kernelspec": {
   "display_name": "Python 3",
   "language": "python",
   "name": "python3"
  },
  "language_info": {
   "codemirror_mode": {
    "name": "ipython",
    "version": 3
   },
   "file_extension": ".py",
   "mimetype": "text/x-python",
   "name": "python",
   "nbconvert_exporter": "python",
   "pygments_lexer": "ipython3",
   "version": "3.8.5"
  }
 },
 "nbformat": 4,
 "nbformat_minor": 4
}
