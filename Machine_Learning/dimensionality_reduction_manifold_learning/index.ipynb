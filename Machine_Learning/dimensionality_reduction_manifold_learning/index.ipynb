{
 "cells": [
  {
   "cell_type": "markdown",
   "metadata": {},
   "source": [
    "# Self-organizing map\n",
    "# Hessian Locally-Linear Embedding (Hessian LLE)\n",
    "# Gaussian process latent variable models\n",
    "# t-distributed stochastic neighbor embedding\n",
    "# PCA\n",
    "# Isomap"
   ]
  },
  {
   "cell_type": "markdown",
   "metadata": {},
   "source": [
    "Refs: [1](https://en.wikipedia.org/wiki/Nonlinear_dimensionality_reduction#Nonlinear_PCA), [2](https://github.com/jakevdp/PythonDataScienceHandbook/blob/master/notebooks/06.00-Figure-Code.ipynb)"
   ]
  }
 ],
 "metadata": {
  "kernelspec": {
   "display_name": "Python 3",
   "language": "python",
   "name": "python3"
  },
  "language_info": {
   "codemirror_mode": {
    "name": "ipython",
    "version": 3
   },
   "file_extension": ".py",
   "mimetype": "text/x-python",
   "name": "python",
   "nbconvert_exporter": "python",
   "pygments_lexer": "ipython3",
   "version": "3.8.5"
  }
 },
 "nbformat": 4,
 "nbformat_minor": 4
}
