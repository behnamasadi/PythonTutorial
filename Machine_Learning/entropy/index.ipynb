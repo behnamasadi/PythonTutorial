{
 "cells": [
  {
   "cell_type": "markdown",
   "id": "0e633fc2",
   "metadata": {},
   "source": [
    "## Entropy\n",
    "In machine learning, particularly in the context of decision trees and other related algorithms, entropy is a measure of impurity or disorder. It is used to evaluate how much \"mixed up\" the classes in a dataset are, and it helps in deciding the best feature to split the dataset on at each level of the tree.\n",
    "\n",
    "### Formula:\n",
    "\n",
    "The entropy $H$ of a dataset $S$ is calculated using the formula:\n",
    "\n",
    "$ H(S) = - \\sum_{i=1}^{c} p_i \\log_2(p_i) $\n",
    "\n",
    "Where:\n",
    "- $c$ is the number of classes.\n",
    "- $p_i$ is the proportion of instances of class $i$ in the dataset $S$.\n",
    "\n",
    "### Explanation:\n",
    "\n",
    "- If all examples in the dataset belong to a single class (i.e., the dataset is pure), the entropy is 0.\n",
    "- If the examples are evenly distributed among all classes, the entropy is at its maximum value (which is $ \\log_2(c) $ for $c$ classes).\n",
    "\n",
    "### Working:\n",
    "\n",
    "In the context of building a decision tree:\n",
    "\n",
    "1. **Calculate Entropy of the Dataset:**\n",
    "   - Calculate the entropy of the entire dataset.\n",
    "  \n",
    "2. **Calculate Entropy After Split:**\n",
    "   - For each attribute, calculate the entropy of the dataset after splitting on that attribute.\n",
    "  \n",
    "3. **Calculate Information Gain:**\n",
    "   - Information gain is the difference between the original entropy and the entropy after the split.\n",
    "   - $ \\text{Information Gain} = \\text{Entropy before split} - \\text{Entropy after split} $\n",
    "  \n",
    "4. **Choose the Best Split:**\n",
    "   - Choose the attribute that results in the highest information gain to make the split.\n",
    "   - Repeat the process for the sub-datasets after the split.\n",
    "\n",
    "### Example:\n",
    "\n",
    "Consider a dataset with two classes, A and B. If the dataset contains 8 instances of class A and 2 of class B, the entropy of the dataset is:\n",
    "\n",
    "$ H(S) = - \\left( \\frac{8}{10} \\log_2\\left(\\frac{8}{10}\\right) + \\frac{2}{10} \\log_2\\left(\\frac{2}{10}\\right) \\right) $\n",
    "\n",
    "### Applications:\n",
    "\n",
    "- **Decision Trees:**\n",
    "  - Used in algorithms like ID3 (Iterative Dichotomiser 3) to decide the best feature for splitting the dataset.\n",
    "- **Feature Selection:**\n",
    "  - Helps in selecting important features by calculating information gain.\n",
    "  \n",
    "By minimizing entropy (maximizing information gain), algorithms can make better and more informed decisions when constructing models from data."
   ]
  }
 ],
 "metadata": {
  "kernelspec": {
   "display_name": "Python 3 (ipykernel)",
   "language": "python",
   "name": "python3"
  },
  "language_info": {
   "codemirror_mode": {
    "name": "ipython",
    "version": 3
   },
   "file_extension": ".py",
   "mimetype": "text/x-python",
   "name": "python",
   "nbconvert_exporter": "python",
   "pygments_lexer": "ipython3",
   "version": "3.10.6"
  }
 },
 "nbformat": 4,
 "nbformat_minor": 5
}
