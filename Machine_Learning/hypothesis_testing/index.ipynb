{
 "cells": [
  {
   "cell_type": "markdown",
   "id": "550c4629",
   "metadata": {},
   "source": [
    "# Hypothesis Testing\n",
    "\n",
    "The $ p $-value is a fundamental concept in statistics, particularly in hypothesis testing. Here's a breakdown:\n",
    "\n",
    "1. **Hypothesis Testing**: When you're trying to make a decision based on statistical evidence, you often set up two opposing hypotheses:\n",
    "   - **Null Hypothesis ($ H_0 $)**: This is a statement that there is no effect or no difference. It's what you're trying to test against.\n",
    "   - **Alternative Hypothesis ($ H_a $ or $ H_1 $)**: This is what you want to prove, e.g., that there is a difference or an effect.\n",
    "\n",
    "2. **Test Statistic**: You then collect data and compute a test statistic, which gives you a measure of how far your observed data is from what the null hypothesis would predict.\n",
    "\n",
    "3. **$ p $-value**: The $ p $-value is the probability of observing a test statistic as extreme as, or more extreme than, the statistic computed from the data, assuming that the null hypothesis is true. \n",
    "\n",
    "   - If the $ p $-value is small (typically ≤ 0.05), it suggests that the observed data is inconsistent with the null hypothesis, so you might reject the null hypothesis in favor of the alternative hypothesis.\n",
    "   - If the $ p $-value is large, you don't have enough statistical evidence to reject the null hypothesis.\n",
    "\n",
    "4. **Interpretation**:\n",
    "   - A small $ p $-value (e.g., ≤ 0.05) indicates that the observed data would be unlikely if the null hypothesis were true. This is often interpreted as evidence against the null hypothesis.\n",
    "   - A large $ p $-value suggests that the observed data is consistent with what we would expect under the null hypothesis.\n",
    "   - It's important to note that a $ p $-value does not provide the probability that either hypothesis is true. It only tells us how surprising our data would be if the null hypothesis were true.\n",
    "\n",
    "5. **Caveats**:\n",
    "   - **Not proof**: A small $ p $-value is not proof that the alternative hypothesis is true. It just indicates that the data observed would be unlikely under the null hypothesis.\n",
    "   - **Arbitrary threshold**: The 0.05 threshold is conventional, but it's arbitrary. Some fields or situations might use stricter thresholds (like 0.01) or more lenient ones.\n",
    "   - **Multiple comparisons**: If you're testing many hypotheses simultaneously, you need to adjust your $ p $-values or use techniques designed for multiple comparisons to avoid false positives.\n",
    "   - **Data dredging/p-hacking**: This refers to the practice of repeatedly searching data for patterns and conducting many statistical tests until a significant result is found. This can lead to misleading results.\n",
    "\n",
    "6. **Context Matters**: Always interpret $ p $-values in the context of the study, the data, and the specific hypotheses being tested. A $ p $-value by itself doesn't tell the whole story.\n",
    "\n",
    "In summary, the $ p $-value is a tool that helps researchers determine the statistical significance of their results. However, it's essential to understand its limitations and use it appropriately in the context of comprehensive data analysis."
   ]
  },
  {
   "cell_type": "markdown",
   "id": "a882a915",
   "metadata": {},
   "source": [
    "example\n",
    "\n",
    "Of course! Let's consider a practical example:\n",
    "\n",
    "**Scenario**: Imagine you're a botanist studying the effects of a new fertilizer on plant growth. You have two groups of plants:\n",
    "\n",
    "1. **Control Group**: Plants not given the fertilizer.\n",
    "2. **Treatment Group**: Plants given the fertilizer.\n",
    "\n",
    "You want to know if the fertilizer has a significant effect on plant growth. To do this, you measure the height of the plants after a fixed period.\n",
    "\n",
    "**Hypotheses**:\n",
    "- $ H_0 $: The fertilizer has no effect on plant growth. (Mean height of Control Group = Mean height of Treatment Group)\n",
    "- $ H_a $: The fertilizer has an effect on plant growth. (Mean height of Control Group ≠ Mean height of Treatment Group)\n",
    "\n",
    "**Data**:\n",
    "Let's assume you measured the height (in cm) of 10 plants from each group:\n",
    "\n",
    "- Control Group: [15, 17, 16, 14, 15, 16, 17, 15, 16, 17]\n",
    "- Treatment Group: [18, 19, 20, 19, 18, 21, 19, 20, 19, 18]\n",
    "\n",
    "We'll use a two-sample t-test to determine if there's a significant difference in the means of the two groups."
   ]
  },
  {
   "cell_type": "code",
   "execution_count": 2,
   "id": "81ac039f",
   "metadata": {},
   "outputs": [
    {
     "name": "stdout",
     "output_type": "stream",
     "text": [
      "t-statistic: -7.279\n",
      "p-value: 0.000\n",
      "Reject the null hypothesis: There's a significant difference in plant heights.\n"
     ]
    }
   ],
   "source": [
    "\n",
    "import scipy.stats as stats\n",
    "\n",
    "# Data\n",
    "control_group = [15, 17, 16, 14, 15, 16, 17, 15, 16, 17]\n",
    "treatment_group = [18, 19, 20, 19, 18, 21, 19, 20, 19, 18]\n",
    "\n",
    "# Two-sample t-test\n",
    "t_stat, p_value = stats.ttest_ind(control_group, treatment_group)\n",
    "\n",
    "print(f\"t-statistic: {t_stat:.3f}\")\n",
    "print(f\"p-value: {p_value:.3f}\")\n",
    "\n",
    "# Decision\n",
    "alpha = 0.05\n",
    "if p_value < alpha:\n",
    "    print(\"Reject the null hypothesis: There's a significant difference in plant heights.\")\n",
    "else:\n",
    "    print(\"Fail to reject the null hypothesis: No significant difference in plant heights.\")\n",
    "\n",
    "    "
   ]
  },
  {
   "cell_type": "markdown",
   "id": "5136c68d",
   "metadata": {},
   "source": [
    "When you run the above code, you'll get the t-statistic and p-value for the test. If the p-value is less than 0.05 (or another significance level you choose), you would reject the null hypothesis, suggesting that the fertilizer has a significant effect on plant growth. Otherwise, you wouldn't have enough evidence to say the fertilizer has an effect."
   ]
  },
  {
   "cell_type": "markdown",
   "id": "70810970",
   "metadata": {},
   "source": [
    "The two-sample t-test for independent samples can be computed from scratch using the following formula:\n",
    "\n",
    "$ t = \\frac{\\bar{X}_1 - \\bar{X}_2}{\\sqrt{\\frac{s_1^2}{n_1} + \\frac{s_2^2}{n_2}}} $\n",
    "\n",
    "Where:\n",
    "- $ \\bar{X}_1 $ and $ \\bar{X}_2 $ are the sample means of the two groups.\n",
    "- $ s_1^2 $ and $ s_2^2 $ are the sample variances of the two groups.\n",
    "- $ n_1 $ and $ n_2 $ are the sample sizes of the two groups.\n",
    "\n",
    "The degrees of freedom for this test is:\n",
    "\n",
    "$ df = n_1 + n_2 - 2 $\n",
    "\n",
    "Once we have the t-statistic and degrees of freedom, we can find the p-value by looking up the t-distribution. For simplicity, we'll use Python's `math` module and the cumulative distribution function (CDF) for the t-distribution.\n",
    "\n"
   ]
  },
  {
   "cell_type": "code",
   "execution_count": 6,
   "id": "a5e36778",
   "metadata": {},
   "outputs": [
    {
     "name": "stdout",
     "output_type": "stream",
     "text": [
      "t-statistic: -7.279\n",
      "p-value: 0.000\n",
      "Reject the null hypothesis: There's a significant difference in plant heights.\n"
     ]
    }
   ],
   "source": [
    "import math\n",
    "from scipy.stats import t as t_dist\n",
    "\n",
    "def mean(data):\n",
    "    return sum(data) / len(data)\n",
    "\n",
    "def variance(data):\n",
    "    m = mean(data)\n",
    "    return sum([(xi - m) ** 2 for xi in data]) / (len(data) - 1)\n",
    "\n",
    "def t_statistic(group1, group2):\n",
    "    mean1, mean2 = mean(group1), mean(group2)\n",
    "    var1, var2 = variance(group1), variance(group2)\n",
    "    n1, n2 = len(group1), len(group2)\n",
    "    \n",
    "    numerator = mean1 - mean2\n",
    "    denominator = math.sqrt(var1/n1 + var2/n2)\n",
    "    \n",
    "    return numerator / denominator\n",
    "\n",
    "def degrees_of_freedom(group1, group2):\n",
    "    return len(group1) + len(group2) - 2\n",
    "\n",
    "# Data\n",
    "control_group = [15, 17, 16, 14, 15, 16, 17, 15, 16, 17]\n",
    "treatment_group = [18, 19, 20, 19, 18, 21, 19, 20, 19, 18]\n",
    "\n",
    "# Compute t-statistic and degrees of freedom\n",
    "t = t_statistic(control_group, treatment_group)\n",
    "df = degrees_of_freedom(control_group, treatment_group)\n",
    "\n",
    "# Compute p-value (two-tailed)\n",
    "p_value = 2 * (1 - t_dist.cdf(abs(t), df))\n",
    "\n",
    "print(f\"t-statistic: {t:.3f}\")\n",
    "print(f\"p-value: {p_value:.3f}\")\n",
    "\n",
    "# Decision\n",
    "alpha = 0.05\n",
    "if p_value < alpha:\n",
    "    print(\"Reject the null hypothesis: There's a significant difference in plant heights.\")\n",
    "else:\n",
    "    print(\"Fail to reject the null hypothesis: No significant difference in plant heights.\")\n"
   ]
  }
 ],
 "metadata": {
  "kernelspec": {
   "display_name": "Python 3 (ipykernel)",
   "language": "python",
   "name": "python3"
  },
  "language_info": {
   "codemirror_mode": {
    "name": "ipython",
    "version": 3
   },
   "file_extension": ".py",
   "mimetype": "text/x-python",
   "name": "python",
   "nbconvert_exporter": "python",
   "pygments_lexer": "ipython3",
   "version": "3.10.6"
  }
 },
 "nbformat": 4,
 "nbformat_minor": 5
}
