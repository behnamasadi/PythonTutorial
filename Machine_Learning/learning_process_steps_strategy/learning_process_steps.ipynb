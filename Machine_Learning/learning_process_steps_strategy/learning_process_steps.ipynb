{
 "cells": [
  {
   "cell_type": "markdown",
   "metadata": {},
   "source": [
    "## Preprocessinf Data\n"
   ]
  },
  {
   "cell_type": "markdown",
   "metadata": {},
   "source": [
    "\n",
    "\n",
    "each example in a row:\n",
    "\n",
    "X=np.array([n_samples,n_dim])\n",
    "\n",
    "axis=0 means columnwise:\n",
    "\n",
    "X=X-np.mean(X,axis=0)\n",
    "\n",
    "X=X/np.std(X,axis=0)\n",
    "<img src='images/pre_processing_data.svg'/>"
   ]
  },
  {
   "cell_type": "markdown",
   "metadata": {},
   "source": [
    "# Choose the architecture"
   ]
  },
  {
   "cell_type": "markdown",
   "metadata": {},
   "source": [
    "## Initialization\n",
    "\n",
    "\n",
    "## Batch Normalization\n",
    "\n",
    "\n",
    "\n",
    "\n",
    "Monitor training\n",
    "\n",
    "Preprocess the data\n",
    "zero mean\n",
    "\n",
    "We initialize teh network pass through it, disable regularization, lost should be reasonable, like we have a softmax classifier  \n",
    "\n",
    "negative log likelihood\n",
    "\n",
    "Then crank up regulaztiation \n",
    "\n",
    "loss should go up\n",
    "\n",
    "Now train \n",
    "\n",
    "very small amount of data \n",
    "\n",
    "\n",
    "Accuracy on test data based on epoch\n",
    "\n",
    "Cost on the test data\n",
    "\n",
    "Accuracy on training data based on epoch\n",
    "\n",
    "Cost on training data\n",
    "\n",
    "Once the classification accuracy on the validation_data has\n",
    "saturated, we stop training. This strategy is called early stopping. Of course, in practice we\n",
    "won’t immediately know when the accuracy has saturated. Instead, we continue training\n",
    "until we’re confident that the accuracy has saturated.\n",
    "\n",
    "one of the best ways of reducing overfitting is to\n",
    "increase the size of the training data. With enough training data it is difficult for even a very\n",
    "large network to overfit. \n",
    "\n",
    "\n",
    "One possible approach is to reduce the size of our network. However, large networks have the potential to be more\n",
    "powerful than small networks, and so this is an option we’d only adopt reluctantly.\n",
    "\n",
    "\n",
    "\n",
    "\n",
    "Refs: [1](https://youtu.be/wEoyxE0GP2M?list=PL3FW7Lu3i5JvHM8ljYj-zLfQRF3EO8sYv&t=3877)"
   ]
  }
 ],
 "metadata": {
  "kernelspec": {
   "display_name": "Python 3",
   "language": "python",
   "name": "python3"
  },
  "language_info": {
   "codemirror_mode": {
    "name": "ipython",
    "version": 3
   },
   "file_extension": ".py",
   "mimetype": "text/x-python",
   "name": "python",
   "nbconvert_exporter": "python",
   "pygments_lexer": "ipython3",
   "version": "3.8.5"
  }
 },
 "nbformat": 4,
 "nbformat_minor": 4
}
