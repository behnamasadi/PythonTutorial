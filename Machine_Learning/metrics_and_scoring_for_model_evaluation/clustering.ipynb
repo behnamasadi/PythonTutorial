{
 "cells": [
  {
   "cell_type": "markdown",
   "metadata": {},
   "source": [
    "# Clustering\n",
    "## Adjusted Mutual Info Score\n",
    "## Adjusted Rand Score\n",
    "## Completeness Score\n",
    "## Fowlkes Mallows Score\n",
    "## Homogeneity Score\n",
    "## Mutual Info Score\n",
    "## Normalized Mutual Info Score\n",
    "## Rand Score\n",
    "## V Measure Score"
   ]
  }
 ],
 "metadata": {
  "kernelspec": {
   "display_name": "Python 3",
   "language": "python",
   "name": "python3"
  },
  "language_info": {
   "codemirror_mode": {
    "name": "ipython",
    "version": 3
   },
   "file_extension": ".py",
   "mimetype": "text/x-python",
   "name": "python",
   "nbconvert_exporter": "python",
   "pygments_lexer": "ipython3",
   "version": "3.8.5"
  }
 },
 "nbformat": 4,
 "nbformat_minor": 4
}
