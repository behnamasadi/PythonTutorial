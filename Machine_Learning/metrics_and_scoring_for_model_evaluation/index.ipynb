{
 "cells": [
  {
   "cell_type": "markdown",
   "metadata": {},
   "source": [
    "# Metrics and scoring\n",
    "\n",
    "There are 3 different ways to evaluat the quality of a model’s predictions:\n",
    "\n",
    "- **Estimator score method:** Estimators have a score method providing a default evaluation criterion for the problem they are designed to solve.\n",
    "\n",
    "- **Scoring parameter:** Model-evaluation tools using cross-validation (such as cross val score and grid search) rely on an internal scoring strategy.\n",
    "\n",
    "- **Metric functions:** Assessing prediction error.\n",
    "\n",
    "Refs: [1](https://scikit-learn.org/stable/modules/model_evaluation.html#scoring-parameter)"
   ]
  },
  {
   "cell_type": "markdown",
   "metadata": {},
   "source": [
    "# Classification"
   ]
  },
  {
   "cell_type": "markdown",
   "metadata": {},
   "source": [
    "# Clustering\n"
   ]
  },
  {
   "cell_type": "markdown",
   "metadata": {},
   "source": [
    "# Regression\n"
   ]
  }
 ],
 "metadata": {
  "kernelspec": {
   "display_name": "Python 3",
   "language": "python",
   "name": "python3"
  },
  "language_info": {
   "codemirror_mode": {
    "name": "ipython",
    "version": 3
   },
   "file_extension": ".py",
   "mimetype": "text/x-python",
   "name": "python",
   "nbconvert_exporter": "python",
   "pygments_lexer": "ipython3",
   "version": "3.8.5"
  }
 },
 "nbformat": 4,
 "nbformat_minor": 4
}
