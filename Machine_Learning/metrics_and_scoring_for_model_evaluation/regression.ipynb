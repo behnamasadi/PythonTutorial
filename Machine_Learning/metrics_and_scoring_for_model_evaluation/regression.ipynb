{
 "cells": [
  {
   "cell_type": "markdown",
   "metadata": {},
   "source": [
    "# Regression\n",
    "## Explained Variance\n",
    "## Max Error\n",
    "## Neg Mean Absolute Error\n",
    "## Neg mean Squared Error\n",
    "## Neg Root Mean Squared Error\n",
    "## Neg Mean Squared Log Error\n",
    "## Neg Median Absolute Error\n",
    "## R2\n",
    "## Neg Mean Poisson Deviance\n",
    "## Neg Mean Gamma Deviance\n",
    "## Neg Mean Absolute Percentage Error"
   ]
  }
 ],
 "metadata": {
  "kernelspec": {
   "display_name": "Python 3",
   "language": "python",
   "name": "python3"
  },
  "language_info": {
   "codemirror_mode": {
    "name": "ipython",
    "version": 3
   },
   "file_extension": ".py",
   "mimetype": "text/x-python",
   "name": "python",
   "nbconvert_exporter": "python",
   "pygments_lexer": "ipython3",
   "version": "3.8.5"
  }
 },
 "nbformat": 4,
 "nbformat_minor": 4
}
