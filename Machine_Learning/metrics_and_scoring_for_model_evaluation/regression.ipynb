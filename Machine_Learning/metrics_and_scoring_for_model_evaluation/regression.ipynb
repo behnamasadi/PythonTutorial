{
 "cells": [
  {
   "cell_type": "markdown",
   "metadata": {},
   "source": [
    "# Regression Validation\n"
   ]
  },
  {
   "cell_type": "markdown",
   "metadata": {},
   "source": [
    "## Coefficient of Determination (R2)\n",
    "\n",
    "\n",
    "\n",
    "$R^{2}=1-{\\frac {{SS_{\\text{res}}}}{{SS_{\\text{tot}}}}}$\n",
    "\n",
    "\n",
    "The total sum of squares: ${\\displaystyle SS_{\\text{tot}}=\\sum _{i}(y_{i}-{\\bar {y}})^{2}}$\n",
    "\n",
    "The sum of squares of residuals: $:\n",
    "{\\displaystyle SS_{\\text{res}}=\\sum _{i}(y_{i}-f_{i})^{2}=\\sum _{i}e_{i}^{2}\\,}$\n",
    "\n",
    "$e_i = y_i − f_i $\n",
    "\n",
    "R-squared is valid  only for Linear Regression. For non linear regression use [Standard Error](https://en.wikipedia.org/wiki/Standard_error)\n",
    "\n",
    "\n",
    "\n",
    "Refs: [1](https://www.youtube.com/watch?v=2AQKmw14mHM)\n"
   ]
  },
  {
   "cell_type": "markdown",
   "metadata": {},
   "source": [
    "\n",
    "## Explained Variance\n",
    "## Max Error\n",
    "## Neg Mean Absolute Error\n",
    "## Neg mean Squared Error\n",
    "## Neg Root Mean Squared Error\n",
    "## Neg Mean Squared Log Error\n",
    "## Neg Median Absolute Error\n",
    "\n",
    "## Neg Mean Poisson Deviance\n",
    "## Neg Mean Gamma Deviance\n",
    "## Neg Mean Absolute Percentage Error"
   ]
  },
  {
   "cell_type": "markdown",
   "metadata": {},
   "source": [
    "Refs: [1](https://scikit-learn.org/stable/modules/model_evaluation.html#scoring-parameter)"
   ]
  }
 ],
 "metadata": {
  "kernelspec": {
   "display_name": "Python 3",
   "language": "python",
   "name": "python3"
  },
  "language_info": {
   "codemirror_mode": {
    "name": "ipython",
    "version": 3
   },
   "file_extension": ".py",
   "mimetype": "text/x-python",
   "name": "python",
   "nbconvert_exporter": "python",
   "pygments_lexer": "ipython3",
   "version": "3.8.5"
  }
 },
 "nbformat": 4,
 "nbformat_minor": 4
}
