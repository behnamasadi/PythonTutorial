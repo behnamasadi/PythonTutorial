{
 "cells": [
  {
   "cell_type": "markdown",
   "metadata": {},
   "source": [
    "You have two scalare that want to minimize, you will use some hyperparameter that gives weight betwenn theses two losses (weighted some of loss functions) for finall loss for computing gradient.\n",
    "\n",
    "\n",
    "This hyperparameter is different from other parameters because it will change the value of the loss function, while in other hyperparameter, we change the value of hyperparameter and check the value of te loss function.\n",
    "\n",
    "\n",
    "General strategy: have some other metric performance that you care about (other than the loss value) and use that one over the cross validation choices rather than looking at the value of the loss.\n",
    "\n",
    "Why not do it seperetly?\n",
    "You can do that but in general if you do that jointly you will have better performance. Because there will be some mismatch between \n",
    "One strategy is learn of them task, train netwrok on both losses seperatly untill convergence , freez the network, fine tune them togheter.\n",
    "\n",
    "# Human Pose Body Estimation\n"
   ]
  }
 ],
 "metadata": {
  "kernelspec": {
   "display_name": "Python 3",
   "language": "python",
   "name": "python3"
  },
  "language_info": {
   "codemirror_mode": {
    "name": "ipython",
    "version": 3
   },
   "file_extension": ".py",
   "mimetype": "text/x-python",
   "name": "python",
   "nbconvert_exporter": "python",
   "pygments_lexer": "ipython3",
   "version": "3.8.5"
  }
 },
 "nbformat": 4,
 "nbformat_minor": 4
}
