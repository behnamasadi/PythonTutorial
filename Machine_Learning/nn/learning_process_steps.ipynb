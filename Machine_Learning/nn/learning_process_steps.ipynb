{
 "cells": [
  {
   "cell_type": "markdown",
   "metadata": {},
   "source": [
    "Monitor training\n",
    "\n",
    "Preprocess the data\n",
    "zero mean\n",
    "\n",
    "We initialize teh network pass through it, disable regularization, lost should be reasonable, like we have a softmax classifier  \n",
    "\n",
    "negative log likelihood\n",
    "\n",
    "Then crank up regulaztiation \n",
    "\n",
    "loss should go up\n",
    "\n",
    "Now train \n",
    "\n",
    "very small amount of data \n",
    "\n",
    "\n",
    "Refs: [1](https://youtu.be/wEoyxE0GP2M?list=PL3FW7Lu3i5JvHM8ljYj-zLfQRF3EO8sYv&t=3877)"
   ]
  }
 ],
 "metadata": {
  "kernelspec": {
   "display_name": "Python 3",
   "language": "python",
   "name": "python3"
  },
  "language_info": {
   "codemirror_mode": {
    "name": "ipython",
    "version": 3
   },
   "file_extension": ".py",
   "mimetype": "text/x-python",
   "name": "python",
   "nbconvert_exporter": "python",
   "pygments_lexer": "ipython3",
   "version": "3.8.5"
  }
 },
 "nbformat": 4,
 "nbformat_minor": 4
}
