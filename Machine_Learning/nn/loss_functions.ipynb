{
 "cells": [
  {
   "cell_type": "markdown",
   "metadata": {},
   "source": [
    "# Regression Loss Functions"
   ]
  },
  {
   "cell_type": "markdown",
   "metadata": {},
   "source": [
    "scoring function: $|\\textbf{W}.\\textbf{X}_i+b|$"
   ]
  },
  {
   "cell_type": "code",
   "execution_count": 4,
   "metadata": {},
   "outputs": [
    {
     "data": {
      "image/png": "[encoded data removed]",
      "text/plain": [
       "<Figure size 432x288 with 1 Axes>"
      ]
     },
     "metadata": {
      "needs_background": "light"
     },
     "output_type": "display_data"
    }
   ],
   "source": [
    "import numpy as np\n",
    "import matplotlib.pylab as plt\n",
    "%matplotlib inline\n",
    "\n",
    "\n",
    "def xPolynominalExtender(x,PolynominalOrder=1 ):\n",
    "    number_of_rows=x.shape[0]\n",
    "    number_of_cols=PolynominalOrder+1\n",
    "    new_x=np.ones((number_of_rows,number_of_cols))\n",
    "    for n in range(PolynominalOrder,0,-1):\n",
    "        new_x[ :,PolynominalOrder-n] =np.power(x[:,0],n)\n",
    "    return new_x\n",
    "\n",
    "def pseudoInverseSolver(x,y):\n",
    "    return np.dot(np.dot(np.linalg.inv(np.dot(np.transpose(x), x)), np.transpose(x)), y)\n",
    "\n",
    "# coefficients[0]*x^n + coefficients[1]*x^(n-1) + coefficients[2]*x^(n-2)\n",
    "def polynominalFunction(x,coefficients):\n",
    "    y=np.zeros_like(x)\n",
    "    for n in range(len(coefficients)):\n",
    "        y=y+np.power(x, n)* coefficients[-n-1]\n",
    "    return y\n",
    "\n",
    "noise_magnitude=2\n",
    "number_of_samples=100\n",
    "x_min=-5\n",
    "x_max=5\n",
    "m=3\n",
    "b=2\n",
    "\n",
    "x= np.linspace(x_min,x_max, number_of_samples  )\n",
    "x= np.reshape(x,(x.shape[0],-1))\n",
    "\n",
    "y= polynominalFunction(x,[m,b])\n",
    "y =y +noise_magnitude*np.random.randn(number_of_samples,1)\n",
    "\n",
    "actual_y=polynominalFunction(x,[m,b])\n",
    "\n",
    "labels=[]\n",
    "data_without_noise, =plt.plot(x,actual_y,color='g',label='data without noise' )\n",
    "\n",
    "\n",
    "noise_magnitude2=4\n",
    "number_of_samples2=20\n",
    "x_min2=-4\n",
    "x_max2=-2\n",
    "m2=1\n",
    "b2=12\n",
    "x2= np.linspace(x_min2,x_max2, number_of_samples2  )\n",
    "x2= np.reshape(x2,(x2.shape[0],-1))\n",
    "y2= polynominalFunction(x2,[m2,b2])\n",
    "y2 =y2 +noise_magnitude2*np.random.randn(number_of_samples2,1)\n",
    "\n",
    "\n",
    "\n",
    "plt.scatter(x2,y2, color='r')\n",
    "\n",
    "plt.scatter(x,y)\n",
    "\n",
    "\n",
    "\n",
    "labels.append(data_without_noise)\n",
    "\n",
    "\n",
    "\n",
    "y=np.vstack((y,y2))\n",
    "x=np.vstack((x,x2))\n",
    "\n",
    "polynominal_order=1\n",
    "new_x=xPolynominalExtender(x,polynominal_order )\n",
    "\n",
    "params=pseudoInverseSolver(new_x,y)\n",
    "y = polynominalFunction(x, params)\n",
    "random_color = list(np.random.random(3))\n",
    "params_label, = plt.plot(x, y, color=random_color, label=str(1))\n",
    "labels.append(params_label)\n",
    "\n",
    "plt.legend(handles=labels)\n",
    "plt.show()\n"
   ]
  },
  {
   "cell_type": "markdown",
   "metadata": {},
   "source": [
    "### 1) Mean Absolute Error Loss\n",
    "Treats outlier like anyother point so it won't go out of its way for outliers which might lead to poor prediction from time to time. Also it is not optimized for gradient descent (due to incontinuty on zero)Support vector regression use this."
   ]
  },
  {
   "cell_type": "markdown",
   "metadata": {},
   "source": [
    "### 2) Mean Squared Error Loss\n",
    "The adventage is we can easily compute gradient for ML. Good for regression but outlier will make it a poor model"
   ]
  },
  {
   "cell_type": "markdown",
   "metadata": {},
   "source": [
    "### 3) Pseudo-Huber Loss\n",
    "Mean Absolute Error doenst comply with outlier and Mean Squared Error freaks out with outlier. If your data is 70% on one side and 30% on the other side, both will reult in a poor model."
   ]
  },
  {
   "cell_type": "markdown",
   "metadata": {},
   "source": [
    "### 4) Welsch (Leclerc)\n"
   ]
  },
  {
   "cell_type": "markdown",
   "metadata": {},
   "source": [
    "### 5) Geman McClure\n"
   ]
  },
  {
   "cell_type": "markdown",
   "metadata": {},
   "source": [
    "### 6) Causchy\n"
   ]
  },
  {
   "cell_type": "markdown",
   "metadata": {},
   "source": [
    "# Classification Loss Functions\n"
   ]
  },
  {
   "cell_type": "markdown",
   "metadata": {},
   "source": [
    "### 1) Cross-Entropy Loss\n",
    "When we use <b>sigmoid</b> as activation function and <b>Mean Squared Error Loss</b>, if our neuron output is very wrong (large $z$),since $\\sigma(z)$ s saturated and it is almost a flat line, $\\sigma'(z)$ gives us a small value so learning will be very slow.\n",
    "\n",
    "$\\begin{eqnarray}\\frac{\\partial C}{\\partial w} & = & (a-y)\\sigma'(z) x = a \\sigma'(z)\\end{eqnarray}$\n",
    "  \n",
    "$\\begin{eqnarray}\\frac{\\partial C}{\\partial b} & = & (a-y)\\sigma'(z) = a \\sigma'(z),\\end{eqnarray}$\n",
    "\n",
    "Let say we have binary classifier, so we have 1 output node and the class labeles are either 1 or 0, \n",
    "$C=-\\frac{1}{n} \\sum_{x} y\\ln(a)+ (1-y)\\ln(1-a)$\n"
   ]
  },
  {
   "cell_type": "markdown",
   "metadata": {},
   "source": [
    "### 2) Multi-Class Cross-Entropy Loss\n",
    "If we have $j$ output in the last layer $L$, the total cost for all inputs is:\n",
    "\n",
    "$\\begin{eqnarray}  C = -\\frac{1}{n} \\sum_x\n",
    "  \\sum_j \\left[y_j \\ln a^L_j + (1-y_j) \\ln (1-a^L_j) \\right].\n",
    "\\end{eqnarray} $\n",
    "\n",
    "One way to remmeber that the order is  $ y_j \\ln a^L_j$ and noy oder way around is to remmeber that $y_j$ could be \n",
    "absoulute zero so it can't be the parameter for logarithm function, but $a^L_j$ can $\\lim a^L_j \\to 0 $, so it is the parameter of $\\ln$"
   ]
  },
  {
   "cell_type": "markdown",
   "metadata": {},
   "source": [
    "Now lets compute the the $\\delta$ when the loss function is **Multi-Class Cross-Entropy Loss** and activation function is **sigmoid**:\n",
    "\n",
    "\n",
    "$\\delta_j=\\begin{eqnarray}\n",
    "  \\frac{\\partial C}{\\partial z_j} &=\\frac{\\partial C}{\\partial a_j}\\frac{\\partial a_j}{\\partial z_j}   = & -\\frac{1}{n} \\sum_x \\left(\n",
    "    \\frac{y }{\\sigma(z_j)} -\\frac{(1-y)}{1-\\sigma(z_j)} \\right)\\sigma'(z_j) \n",
    "& = & -\\frac{1}{n} \\sum_x \\left( \n",
    "    \\frac{y -\\sigma(z_j)}{\\sigma(z_j)(1-\\sigma(z_j))}\n",
    "    \\right).\\sigma(z_j)(1-\\sigma(z_j))\n",
    "\\end{eqnarray}$\n",
    "\n",
    "Reminder: for sigmoid activation function:\n",
    "\n",
    "$\\sigma'(z_j)=\\sigma(z_j)(1-\\sigma(z_j))$\n"
   ]
  },
  {
   "cell_type": "markdown",
   "metadata": {},
   "source": [
    "So we would have:\n",
    "\n",
    "\n",
    "$\\begin{eqnarray} \n",
    "    \\delta^L = a^L-y.\\tag 1\n",
    "\\end{eqnarray}$\n",
    "\n",
    "Reminder: in quadratic loss function, $\\delta$ was:\n",
    "\n",
    "$\\delta^L= 2(\\textbf{a}^{(L)}-\\textbf{y}) \\odot   \\sigma^{\\prime}(\\textbf{z}^{(L)})$\n",
    "\n",
    "For previous layer $L-1, L-2,...$, the $\\delta^{(L-1)}$ is same as wath we computed before in network with quadratic loss function"
   ]
  },
  {
   "cell_type": "markdown",
   "metadata": {},
   "source": [
    "$\\begin{eqnarray} \n",
    "      \\frac{\\partial C}{\\partial w^L_{jk}} & = & \\frac{1}{n} \\sum_x \n",
    "      a^{L-1}_k  (a^L_j-y_j) \\tag 2\n",
    "\\end{eqnarray}$"
   ]
  },
  {
   "cell_type": "markdown",
   "metadata": {},
   "source": [
    "This tells us that the rate at which the weight learns is controlled by $\\sigma(z)-y$ (by the error in the output). The larger the error, the faster the neuron will learn. This avoids the learning slowdown caused by the $\\sigma '(z)$ term in the analogous equation for the quadratic cost,"
   ]
  },
  {
   "cell_type": "markdown",
   "metadata": {},
   "source": [
    "$\\begin{eqnarray}\n",
    "      \\frac{\\partial C}{\\partial b^L_{j}} & = & \\frac{1}{n} \\sum_x \n",
    "      (a^L_j-y_j).\n",
    "  \\tag{3}\\end{eqnarray}$"
   ]
  },
  {
   "cell_type": "markdown",
   "metadata": {},
   "source": [
    "\n"
   ]
  },
  {
   "cell_type": "markdown",
   "metadata": {},
   "source": [
    "\n",
    "### 3) Negative log likelihood\n",
    "\n",
    "We can think a softmax output layer with log-likelihood cost as being quite similar to a sigmoid output layer with cross-entropy cost.\n",
    "\n",
    "Refs [1](https://ljvmiranda921.github.io/notebook/2017/08/13/softmax-and-the-negative-log-likelihood/)"
   ]
  },
  {
   "cell_type": "markdown",
   "metadata": {},
   "source": [
    "### 4) Hinge Loss\n",
    "Let's say we have binary classifier with two labels, $-1,+1$ to measure the misclassification error:\n",
    "\n",
    "$\\frac{1}{n}\\sum_{i=1}^{n}[y_i\\neq  sign(f(x_i))] = \\frac{1}{n}\\sum_{i=1}^{n}[y_i f(x_i)] \\leq \\frac{1}{n}\\sum_{i=1}^{n}L(y_i f(x_i)) $\n",
    "\n",
    "minimizing this error function is computationaly complicated so \n",
    "\n",
    "Mainly used in SVMm which set a boundry as far as possible between all data points (maximizes the minimum margin).\n",
    "It will penalized the points even they are in the margin.\n",
    "\n",
    "\n",
    "scoring function: $|\\textbf{W}.\\textbf{X}_i+b|$\n",
    "\n",
    "Training test label, $y_i = ±1$\n",
    "\n",
    "$L_i=max(0,1-y_i|\\textbf{W}.\\textbf{X}_i+b|)$\n",
    "\n",
    "\n",
    "Refs: [1](https://www.youtube.com/watch?v=r-vYJqcFxBI)"
   ]
  },
  {
   "cell_type": "code",
   "execution_count": 2,
   "metadata": {},
   "outputs": [
    {
     "data": {
      "image/png": "[encoded data removed]",
      "text/plain": [
       "<Figure size 432x288 with 1 Axes>"
      ]
     },
     "metadata": {
      "needs_background": "light"
     },
     "output_type": "display_data"
    }
   ],
   "source": [
    "import  matplotlib.pyplot as plt\n",
    "import numpy as np\n",
    "%matplotlib inline \n",
    "\n",
    "def hing_loss(classification_multiplied_by_label):\n",
    "        return np.maximum(0,1-classification_multiplied_by_label)\n",
    "\n",
    "\n",
    "def zero_one_loss(classification_multiplied_by_label):\n",
    "        return [ 0 if x>0 else 1   for x in classification_multiplied_by_label]\n",
    "\n",
    "def logistic_loss(classification_multiplied_by_label):\n",
    "        return np.log(1+np.exp(-classification_multiplied_by_label))\n",
    "\n",
    "\n",
    "classification_multiplied_by_label=np.linspace(-3,3,200)\n",
    "\n",
    "hing_loss_output=hing_loss(classification_multiplied_by_label)\n",
    "zero_one_loss_output=zero_one_loss(classification_multiplied_by_label)\n",
    "logistic_loss_output=logistic_loss(classification_multiplied_by_label)\n",
    "\n",
    "\n",
    "\n",
    "hing_loss_label,=plt.plot(classification_multiplied_by_label,hing_loss_output, label='hing')\n",
    "zero_one_label,=plt.plot(classification_multiplied_by_label,zero_one_loss_output, label='zero one')\n",
    "logistic_loss_label,=plt.plot(classification_multiplied_by_label,logistic_loss_output, label='logistic')\n",
    "\n",
    "plt.legend(handles=[hing_loss_label,zero_one_label,logistic_loss_label])\n",
    "\n",
    "plt.grid(True, which='both')\n",
    "\n",
    "plt.axhline(y=0, color='k')\n",
    "plt.axvline(x=0, color='k')\n",
    "\n",
    "plt.show()"
   ]
  },
  {
   "cell_type": "markdown",
   "metadata": {},
   "source": [
    "## Adaptive Loss Functions\n",
    "All the abve loss functions can be generalized by:\n",
    "\n",
    "$p(x,\\alpha)=\\frac{|2- \\alpha|}{\\alpha} \\left (   \\left ( \\frac{x^2}{|2-\\alpha|}+1  \\right )^{\\alpha/2}  -1 \\right )  $\n",
    "\n",
    "\n",
    "$NLL(\\theta,\\alpha)=min \\rho_{\\theta,\\alpha} (x,\\alpha )+logZ(\\alpha) $\n",
    "\n"
   ]
  },
  {
   "cell_type": "markdown",
   "metadata": {},
   "source": [
    "### TODO\n",
    "Margin Ranking Loss\n",
    "Triplet Margin Loss\n",
    "\n",
    "axis=0\n",
    "\n",
    "zero cenetring /why zero mean\n",
    "\n",
    "no need for normalizing the data\n",
    "\n",
    "He et al., 2015\n",
    "\n",
    "Why do we need bias\n",
    "\n",
    "learning slowdown\n",
    "\n",
    "Logistic Regression\n",
    "[1](https://www.youtube.com/watch?v=YMJtsYIp4kg)"
   ]
  },
  {
   "cell_type": "markdown",
   "metadata": {},
   "source": [
    "Refs: [1](https://arxiv.org/abs/1701.03077), [2](https://www.youtube.com/watch?v=QBbC3Cjsnjg), [3](https://medium.com/udacity-pytorch-challengers/a-brief-overview-of-loss-functions-in-pytorch-c0ddb78068f7), [4](https://rohanvarma.me/Loss-Functions/), [5](https://towardsdatascience.com/common-loss-functions-in-machine-learning-46af0ffc4d23), [6](https://neptune.ai/blog/pytorch-loss-functions), [7](https://www.youtube.com/watch?v=ErfnhcEV1O8)"
   ]
  }
 ],
 "metadata": {
  "kernelspec": {
   "display_name": "Python 3",
   "language": "python",
   "name": "python3"
  },
  "language_info": {
   "codemirror_mode": {
    "name": "ipython",
    "version": 3
   },
   "file_extension": ".py",
   "mimetype": "text/x-python",
   "name": "python",
   "nbconvert_exporter": "python",
   "pygments_lexer": "ipython3",
   "version": "3.8.5"
  }
 },
 "nbformat": 4,
 "nbformat_minor": 4
}
