{
 "cells": [
  {
   "cell_type": "code",
   "execution_count": 24,
   "metadata": {},
   "outputs": [
    {
     "data": {
      "text/latex": [
       "$\\displaystyle \\left[\\begin{matrix}2 x & 2 y & 0\\\\0 & 1 & -1\\end{matrix}\\right]$"
      ],
      "text/plain": [
       "⎡2⋅x  2⋅y  0 ⎤\n",
       "⎢            ⎥\n",
       "⎣ 0    1   -1⎦"
      ]
     },
     "execution_count": 24,
     "metadata": {},
     "output_type": "execute_result"
    }
   ],
   "source": [
    "import numpy as np\n",
    "from sympy import *\n",
    "init_printing(use_latex=\"mathjax\")\n",
    "\n",
    "sqrt(3)+3\n",
    "x,y=symbols(\"x y\")\n",
    "expr=x**2+y**2 +sin(x)\n",
    "expr\n",
    "diff(sin(x**2),x)\n",
    "\n",
    "\n",
    "\n",
    "x = symbols('x')\n",
    "y = symbols('y')\n",
    "z = symbols('z')\n",
    "\n",
    "state=Matrix([x,y,z])\n",
    "\n",
    "g=Matrix([x**2+y**2,y-z])\n",
    "\n",
    "#f(x,y,z)=[x**2+y**2,y-z]\n",
    "\n",
    "#jacobian\n",
    "#__                     __\n",
    "#|∇f1/∇x , ∇f1/∇y, ∇f1/∇z |\n",
    "#|∇f2/∇x , ∇f2/∇y, ∇f2/∇z |\n",
    "#|__                    __|\n",
    "\n",
    "\n",
    "g.jacobian(state)\n"
   ]
  },
  {
   "cell_type": "code",
   "execution_count": null,
   "metadata": {},
   "outputs": [],
   "source": []
  }
 ],
 "metadata": {
  "kernelspec": {
   "display_name": "Python 3 (ipykernel)",
   "language": "python",
   "name": "python3"
  },
  "language_info": {
   "codemirror_mode": {
    "name": "ipython",
    "version": 3
   },
   "file_extension": ".py",
   "mimetype": "text/x-python",
   "name": "python",
   "nbconvert_exporter": "python",
   "pygments_lexer": "ipython3",
   "version": "3.10.9"
  }
 },
 "nbformat": 4,
 "nbformat_minor": 2
}
