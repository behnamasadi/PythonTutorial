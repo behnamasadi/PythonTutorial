{
 "cells": [
  {
   "cell_type": "markdown",
   "metadata": {},
   "source": [
    "# Maximum Likelihood Estimation\n",
    "\n",
    "Refs: [1](https://www.youtube.com/watch?v=XepXtl9YKwc)\n",
    "## Exponentioal Distribution\n",
    "## Bionominal Distribution\n",
    "## Normal Distribution\n",
    "## Gamma Distribution\n",
    "## Pareto Distribution\n",
    "\n",
    "## Examples\n",
    "Refs [1](https://www.probabilitycourse.com/chapter8/8_2_3_max_likelihood_estimation.php)\n",
    "\n"
   ]
  }
 ],
 "metadata": {
  "kernelspec": {
   "display_name": "Python 3",
   "language": "python",
   "name": "python3"
  },
  "language_info": {
   "codemirror_mode": {
    "name": "ipython",
    "version": 3
   },
   "file_extension": ".py",
   "mimetype": "text/x-python",
   "name": "python",
   "nbconvert_exporter": "python",
   "pygments_lexer": "ipython3",
   "version": "3.8.5"
  }
 },
 "nbformat": 4,
 "nbformat_minor": 4
}
