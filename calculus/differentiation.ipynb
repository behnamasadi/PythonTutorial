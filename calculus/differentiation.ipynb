{
 "cells": [
  {
   "cell_type": "markdown",
   "metadata": {},
   "source": [
    "## Differentiation\n",
    "### 1) Manual\n",
    "### 2) Numerical \n",
    "#### Truncation error \n",
    "The error create by truncating (approximating) a mathematical procedure.\n",
    "Examples:\n",
    "\n",
    "1) Maclaurin series of a function\n",
    "\n",
    "$e^{x}=1 + x + \\frac{x^{2}}{2!}+\\frac{x^{3}}{3!}+\\frac{x^{4}}{4!}+... $\n",
    "since there are infinite terms in the series and we can not copmute all of them, we have to truncate from 3rd or 4th term.\n",
    "\n",
    "2) Derivative of a function\n",
    " \n",
    "${\\displaystyle f'(a)=\\lim _{h\\to 0}{\\frac {f(a+h)-f(a)}{h}}.}$\n",
    "\n",
    "We can only choose small $h$ to compute the derivative, which means we have truncated a mathematical procedure.\n",
    "\n",
    "3) Integral of a function\n",
    "\n",
    "#### Rounding error\n",
    "Error created due to approximate representation of a number. Example $1/3\\approx 0.333333$. In this case \n",
    "\n",
    "$\\text{rounding error}= \\frac{1}{3} -0.333333 $\n",
    "\n",
    "### 3) Symbolic Expression swell\n",
    "Any computation between $f$ and $f'$ will computed twice\n",
    "\n",
    "$h(x)=f(x)g(x)$\n",
    "\n",
    "$h'(x)=f(x)'g(x) + f(x)g(x)'$\n",
    "\n",
    "$l_{n+1}=4l_{n}(1-l_{n}),l_{1}=x$\n",
    "\n",
    "Sof ReLU:\n",
    "\n",
    "$log(1+e^{wx+b})$\n",
    "\n",
    "### 4) Auomatic\n",
    "\n",
    "$f(x1,x2)=(sin(x1/x2)+x1/x2-e^x2) \\times (x1/x2-e^x2) $ \n",
    "\n",
    "- Forward Mode\n",
    "- Reverse Mode\n",
    "\n",
    "\n",
    "\n"
   ]
  },
  {
   "cell_type": "code",
   "execution_count": 5,
   "metadata": {},
   "outputs": [],
   "source": [
    "def f(x1,x2):\n",
    "    a=x1/x2\n",
    "    b=np.exp(x2)\n",
    "    return (np.sin(a)+a-b)*(a-b)"
   ]
  },
  {
   "cell_type": "markdown",
   "metadata": {},
   "source": [
    "### Forward Mode\n"
   ]
  },
  {
   "cell_type": "markdown",
   "metadata": {},
   "source": [
    "### Reverse Mode"
   ]
  },
  {
   "cell_type": "markdown",
   "metadata": {},
   "source": [
    "Ref: [1](https://www.youtube.com/watch?v=wG_nF1awSSY), [2](https://marksaroufim.medium.com/automatic-differentiation-step-by-step-24240f97a6e6), [3](https://web.archive.org/web/20190411030843/https://math.hmc.edu/calculus/tutorials/multichainrule/), [4](https://www.youtube.com/watch?v=RP0JScZG6gA)"
   ]
  }
 ],
 "metadata": {
  "kernelspec": {
   "display_name": "Python 3 (ipykernel)",
   "language": "python",
   "name": "python3"
  },
  "language_info": {
   "codemirror_mode": {
    "name": "ipython",
    "version": 3
   },
   "file_extension": ".py",
   "mimetype": "text/x-python",
   "name": "python",
   "nbconvert_exporter": "python",
   "pygments_lexer": "ipython3",
   "version": "3.10.13"
  }
 },
 "nbformat": 4,
 "nbformat_minor": 4
}
