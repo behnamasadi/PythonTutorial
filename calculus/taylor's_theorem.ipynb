{
 "cells": [
  {
   "cell_type": "markdown",
   "metadata": {},
   "source": [
    "### Taylor's theorem for single functions\n",
    "\n",
    "$f(x)≈f(a)+f'(a)(x-a)+\\frac{1}{2}(x-a)f''(a)(x-a)+\\frac{1}{6}f'''(a)(x-a)^3+...=\\sum_{j=0} f^{(j)}(a)\\frac {(x-a)^j}{j!} \n",
    "\\nonumber$\n"
   ]
  },
  {
   "cell_type": "markdown",
   "metadata": {},
   "source": [
    "If we substitute $x = a+\\Delta x$"
   ]
  },
  {
   "cell_type": "markdown",
   "metadata": {},
   "source": [
    "$f(x) = f(a+\\Delta x) = f(a) + f^{'}(a)(a + \\Delta x-a) + \\frac{f^{''}(a)(a + \\Delta x-a)^2}{2!} + \\text{...}$\n",
    "\n",
    "$= f(a) +f^{'}(a)\\Delta x+ \\frac{f^{''}(a)}{2!}(\\Delta x)^2 + \\text{...}$"
   ]
  },
  {
   "cell_type": "markdown",
   "metadata": {},
   "source": [
    "\n",
    "### Taylor's theorem for multivariate functions\n",
    "Let  $f: \\mathbb {R}^{n}  \\rightarrow \\mathbb {R}$ be a $k-times$ differentiable function at the point $a\\in \\mathbb {R}^{n}$. Then there exists  $h_\\alpha : \\mathbb {R}^{n} \\rightarrow \\mathbb {R}$ such that:\n",
    "\n",
    "\\begin{align*}\n",
    "  f(\\textbf{x})= f(x_1,x_2, \\ldots, x_n).\n",
    "\\end{align*}\n",
    "\n",
    "\n",
    "Since $f(x)$ is scalar, the first derivative is $Df(x)_{1\\times n}$, a $1 \\times n$ matrix. For the second derivative of $f(x)$, we can take the matrix of partial derivatives of the function $Df(x)$. We could write it as $DDf(x)_{n\\times n}$. This second derivative matrix is an $n \\times n$ matrix called the Hessian matrix of $f$, denote it by $Hf(x)$.\n",
    "\n",
    "$\n",
    "\\begin{align*}\n",
    "  Hf(\\textbf{x}) = DDf(\\textbf{x}).\n",
    "\\end{align*}\n",
    "$\n",
    "where $Df(\\textbf{a})$ is the matrix of partial derivatives\n",
    "\n",
    "First order:\n",
    "\n",
    "$\\begin{align*}\n",
    "  f(\\textbf{x}) \\approx f(\\textbf{a}) + Df(\\textbf{a}) (\\textbf{x}-\\textbf{a}).\n",
    "   \\label{eq:firstorder}\n",
    "\\end{align*}$\n",
    "\n",
    "Second order:\n",
    "\n",
    "$\\begin{align*}\n",
    "  f(\\textbf{x}) \\approx f(\\textbf{a}) + Df(\\textbf{a})_{1\\times n} (\\textbf{x}-\\textbf{a})_{n\\times1}+\n",
    "  \\frac{1}{2} (\\textbf{x}-\\textbf{a})_{1\\times n}^T Hf(\\textbf{a})_{n\\times n} (\\textbf{x}-\\textbf{a})_{n\\times1}.\n",
    "\\end{align*}$\n",
    "\n",
    "\n",
    "\n",
    "\n",
    "${\\begin{aligned}&f({\\boldsymbol {x}})=\\sum _{|\\alpha |\\leq k}{\\frac {D^{\\alpha }f({\\boldsymbol {a}})}{\\alpha !}}({\\boldsymbol {x}}-{\\boldsymbol {a}})^{\\alpha }+\\sum _{|\\alpha |=k}h_{\\alpha }({\\boldsymbol {x}})({\\boldsymbol {x}}-{\\boldsymbol {a}})^{\\alpha },\\\\&{\\mbox{and}}\\quad \\lim _{{\\boldsymbol {x}}\\to {\\boldsymbol {a}}}h_{\\alpha }({\\boldsymbol {x}})=0.\\end{aligned}}$"
   ]
  },
  {
   "cell_type": "markdown",
   "metadata": {},
   "source": [
    "### Multivariable Taylor polynomial example\n",
    "Second-order Taylor polynomial of a smooth function $f:\\mathbb {R}^{n}  \\to \\mathbb {R}$ is:"
   ]
  },
  {
   "cell_type": "markdown",
   "metadata": {},
   "source": [
    "$$\\begin{align*}\n",
    "  p_2(x,y) &= f(a,b) + D f(a,b)_{1\\times2} \n",
    "  \\left[\n",
    "    \\begin{array}{c}\n",
    "      x-a \\\\ y-b\n",
    "    \\end{array}\n",
    "  \\right]\n",
    "  + \\frac{a}{2}\n",
    "  \\left[\n",
    "    \\begin{array}{cc}\n",
    "      x-a &y-b\n",
    "    \\end{array}\n",
    "  \\right]\n",
    "  Hf(a,b)_{2\\times2} \n",
    "  \\left[\n",
    "    \\begin{array}{c}\n",
    "      x-a \\\\ y-b\n",
    "    \\end{array}\n",
    "  \\right]\n",
    "\\end{align*}$$"
   ]
  },
  {
   "cell_type": "markdown",
   "metadata": {},
   "source": [
    "Example: Second-degree Taylor polynomial of:\n",
    "\n",
    "\n",
    "$$\\begin{align*}\n",
    "  f(x,y) = e^{-(x^2+y^2)}\n",
    "\\end{align*}$$\n",
    "\n",
    "\n",
    "\n",
    "$$\\begin{align*}\n",
    "  p_2(x,y) &= f(1,2) + D f(1,2) \n",
    "  \\left[\n",
    "    \\begin{array}{c}\n",
    "      x-1 \\\\ y-2\n",
    "    \\end{array}\n",
    "  \\right]\n",
    "  + \\frac{1}{2}\n",
    "  \\left[\n",
    "    \\begin{array}{cc}\n",
    "      x-1 &y-2\n",
    "    \\end{array}\n",
    "  \\right]\n",
    "  Hf(1,2) \n",
    "  \\left[\n",
    "    \\begin{array}{c}\n",
    "      x-1 \\\\ y-2\n",
    "    \\end{array}\n",
    "  \\right]\n",
    "  \\\\\n",
    "  &\n",
    "  = e^{-5} + \n",
    "  \\left[\n",
    "    \\begin{array}{cc}\n",
    "      -2e^{-5} & -4 e^{-5}\n",
    "    \\end{array}\n",
    "  \\right]\n",
    "  \\left[\n",
    "    \\begin{array}{c}\n",
    "      x-1\\\\ y-2\n",
    "    \\end{array}\n",
    "  \\right]\n",
    "  + \\frac{1}{2}\n",
    "  \\left[\n",
    "    \\begin{array}{cc}\n",
    "      x-1 &y-2\n",
    "    \\end{array}\n",
    "  \\right]\n",
    "  \\left[\n",
    "    \\begin{array}{rr}\n",
    "      2 e^{-5} & 8 e^{-5}\\\\\n",
    "      8 e^{-5} & 14 e^{-5}\n",
    "    \\end{array}\n",
    "  \\right]\n",
    "  \\left[\n",
    "    \\begin{array}{c}\n",
    "      x-1\\\\ y-2\n",
    "    \\end{array}\n",
    "  \\right]\n",
    "  \\\\&\n",
    "  =  e^{-5} -e^{-5}(2(x-1)+4(y-2))\n",
    "  +  e^{-5} (x-1)^2\n",
    "  +  e^{-5} 8 (x-1)(y-2) + e^{-5} 7 (y-2)^2\\\\\n",
    "  &\n",
    "  = e^{-5} ( 1 - 2(x-1)-4(y-2) + (x-1)^2 +   8 (x-1)(y-2) +  7 (y-2)^2)\n",
    "\\end{align*}$$\n",
    "\n",
    "Refs: [1](https://mathinsight.org/taylor_polynomial_multivariable_examples)"
   ]
  },
  {
   "cell_type": "markdown",
   "metadata": {},
   "source": [
    "Using $\\textbf{Sympy}$ to compute the Taylor series of an expression use series(expr, var):"
   ]
  },
  {
   "cell_type": "code",
   "execution_count": 1,
   "metadata": {},
   "outputs": [],
   "source": [
    "from IPython.display import display, Math, Latex\n",
    "from sympy import *\n",
    "init_printing(use_latex=True)"
   ]
  },
  {
   "cell_type": "code",
   "execution_count": 4,
   "metadata": {},
   "outputs": [
    {
     "data": {
      "image/png": "[encoded data removed]",
      "text/latex": [
       "$\\displaystyle 1 - \\frac{x^{2}}{2} + \\frac{x^{4}}{24} + O\\left(x^{6}\\right)$"
      ],
      "text/plain": [
       "     2    4        \n",
       "    x    x     ⎛ 6⎞\n",
       "1 - ── + ── + O⎝x ⎠\n",
       "    2    24        "
      ]
     },
     "execution_count": 4,
     "metadata": {},
     "output_type": "execute_result"
    }
   ],
   "source": [
    "x=symbols('x')\n",
    "series(cos(x), x)#expr, x=None, x0=0, n=6, dir='+'"
   ]
  },
  {
   "cell_type": "code",
   "execution_count": 5,
   "metadata": {},
   "outputs": [
    {
     "data": {
      "image/png": "[encoded data removed]",
      "text/latex": [
       "$\\displaystyle e^{- x^{2} - y^{2}}$"
      ],
      "text/plain": [
       "    2    2\n",
       " - x  - y \n",
       "ℯ         "
      ]
     },
     "execution_count": 5,
     "metadata": {},
     "output_type": "execute_result"
    }
   ],
   "source": [
    "x,y=symbols('x,y')\n",
    "f=exp(-x**2-y**2)\n",
    "f"
   ]
  },
  {
   "cell_type": "markdown",
   "metadata": {},
   "source": [
    "<img src='images/taylor_series_approximation.svg'/>"
   ]
  },
  {
   "cell_type": "markdown",
   "metadata": {},
   "source": [
    "Multivariable [1](https://stackoverflow.com/questions/18708155/multivariate-series-expansion-in-sympy), [2](http://hplgit.github.io/primer.html/doc/pub/formulas/._formulas-bootstrap007.html)"
   ]
  }
 ],
 "metadata": {
  "kernelspec": {
   "display_name": "Python 3 (ipykernel)",
   "language": "python",
   "name": "python3"
  },
  "language_info": {
   "codemirror_mode": {
    "name": "ipython",
    "version": 3
   },
   "file_extension": ".py",
   "mimetype": "text/x-python",
   "name": "python",
   "nbconvert_exporter": "python",
   "pygments_lexer": "ipython3",
   "version": "3.10.6"
  }
 },
 "nbformat": 4,
 "nbformat_minor": 4
}
