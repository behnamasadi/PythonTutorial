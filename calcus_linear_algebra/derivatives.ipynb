{
 "cells": [
  {
   "cell_type": "code",
   "execution_count": 11,
   "metadata": {},
   "outputs": [],
   "source": [
    "from IPython.display import display, Math, Latex\n",
    "from sympy import *\n",
    "init_printing(use_latex=True)"
   ]
  },
  {
   "cell_type": "markdown",
   "metadata": {},
   "source": [
    "## Notation\n",
    "Scalar: $x$\n",
    "\n",
    "Vector: $\\textbf{x}$ \n",
    "\n",
    "Matrix: $\\textbf{X}$\n"
   ]
  },
  {
   "cell_type": "markdown",
   "metadata": {},
   "source": [
    "## Partial derivative\n",
    "\n",
    "partial derivative of a function of several variables is its derivative with respect to one of those variables, with the others held constant.\n",
    "The partial derivative of a function $f(x,y,... )$ $x$ is variously denoted by:\n",
    "\n",
    "$f'_{x} ,f_{x} ,\\partial _{x}f,\\ D_{x}f,D_{1}f, {\\frac {\\partial }{\\partial x}}f, {\\frac {\\partial f}{\\partial x}} $  \n",
    "\n",
    "\n",
    "\n",
    "\n",
    "\n"
   ]
  },
  {
   "cell_type": "markdown",
   "metadata": {},
   "source": [
    "The partial derivative of an n-ary function $f(x1, ..., xn)$ in the direction $x_i$ at the point $(a1, ..., an)$ is defined to be:\n",
    "\n",
    "$ {\\frac {\\partial f}{\\partial x_{i}}}(a_{1},\\ldots ,a_{n})=\\lim _{h\\to 0}{\\frac {f(a_{1},\\ldots ,a_{i}+h,\\ldots ,a_{n})-f(a_{1},\\ldots ,a_{i},\\dots ,a_{n})}{h}}.$\n",
    "\n",
    "In the above difference quotient, all the variables except $x_i$ are held fixed.\n",
    "\n",
    "\n",
    "\n",
    "Second-order partial derivatives:\n",
    "\n",
    "${\\displaystyle {\\frac {\\partial ^{2}f}{\\partial x^{2}}}=f_{xx}=\\partial _{xx}f=\\partial _{x}^{2}f.}$\n",
    "\n",
    "Second-order mixed derivatives:\n",
    "\n",
    "${\\displaystyle {\\frac {\\partial ^{2}f}{\\partial y\\,\\partial x}}={\\frac {\\partial }{\\partial y}}\\left({\\frac {\\partial f}{\\partial x}}\\right)=(f_{x})_{y}=f_{xy}=\\partial _{yx}f=\\partial _{y}\\partial _{x}f.}$\n",
    "\n",
    "\n",
    "\n",
    "Schwarz's theorem: cross partial derivative is unaffected by which variable the partial derivative is taken with respect to first and which is taken second. That is,\n",
    "\n",
    "${\\displaystyle {\\frac {\\partial ^{2}f}{\\partial x\\,\\partial y}}={\\frac {\\partial ^{2}f}{\\partial y\\,\\partial x}}}\\frac {{\\partial ^2 f}}{{\\partial x\\, \\partial y}} = \\frac{{\\partial ^2 f}}{{\\partial y\\, \\partial x}}$\n",
    "\n",
    "or equivalently \n",
    "\n",
    "${\\displaystyle f_{xy}=f_{yx}.}f_{{xy}}=f_{{yx}}.$"
   ]
  },
  {
   "cell_type": "code",
   "execution_count": 12,
   "metadata": {},
   "outputs": [
    {
     "data": {
      "image/png": "[encoded data removed]",
      "text/latex": [
       "$\\displaystyle 2 x e^{x^{2}}$"
      ],
      "text/plain": [
       "     ⎛ 2⎞\n",
       "     ⎝x ⎠\n",
       "2⋅x⋅ℯ    "
      ]
     },
     "execution_count": 12,
     "metadata": {},
     "output_type": "execute_result"
    }
   ],
   "source": [
    "x,y,z,n=symbols('x,y,z,n')\n",
    "diff(exp(x**2), x)"
   ]
  },
  {
   "cell_type": "markdown",
   "metadata": {},
   "source": [
    "third derivative of $x^4$."
   ]
  },
  {
   "cell_type": "code",
   "execution_count": 13,
   "metadata": {},
   "outputs": [
    {
     "data": {
      "image/png": "[encoded data removed]",
      "text/latex": [
       "$\\displaystyle 24 x$"
      ],
      "text/plain": [
       "24⋅x"
      ]
     },
     "execution_count": 13,
     "metadata": {},
     "output_type": "execute_result"
    }
   ],
   "source": [
    "diff(x**4,x,3)"
   ]
  },
  {
   "cell_type": "code",
   "execution_count": 14,
   "metadata": {
    "scrolled": true
   },
   "outputs": [
    {
     "data": {
      "image/png": "[encoded data removed]",
      "text/latex": [
       "$\\displaystyle 24 x$"
      ],
      "text/plain": [
       "24⋅x"
      ]
     },
     "execution_count": 14,
     "metadata": {},
     "output_type": "execute_result"
    }
   ],
   "source": [
    "diff(x**4,x,x,x)"
   ]
  },
  {
   "cell_type": "markdown",
   "metadata": {},
   "source": [
    "You can also take derivatives with respect to many variables at once. Just pass each derivative in order,"
   ]
  },
  {
   "cell_type": "code",
   "execution_count": 15,
   "metadata": {
    "scrolled": true
   },
   "outputs": [
    {
     "data": {
      "image/png": "[encoded data removed]",
      "text/latex": [
       "$\\displaystyle e^{x y z}$"
      ],
      "text/plain": [
       " x⋅y⋅z\n",
       "ℯ     "
      ]
     },
     "execution_count": 15,
     "metadata": {},
     "output_type": "execute_result"
    }
   ],
   "source": [
    "expr=exp(x*y*z)\n",
    "expr"
   ]
  },
  {
   "cell_type": "code",
   "execution_count": 16,
   "metadata": {},
   "outputs": [
    {
     "data": {
      "image/png": "[encoded data removed]",
      "text/latex": [
       "$\\displaystyle y z e^{x y z}$"
      ],
      "text/plain": [
       "     x⋅y⋅z\n",
       "y⋅z⋅ℯ     "
      ]
     },
     "execution_count": 16,
     "metadata": {},
     "output_type": "execute_result"
    }
   ],
   "source": [
    "diff(expr,x)"
   ]
  },
  {
   "cell_type": "code",
   "execution_count": 17,
   "metadata": {},
   "outputs": [
    {
     "data": {
      "image/png": "[encoded data removed]",
      "text/latex": [
       "$\\displaystyle x z e^{x y z}$"
      ],
      "text/plain": [
       "     x⋅y⋅z\n",
       "x⋅z⋅ℯ     "
      ]
     },
     "execution_count": 17,
     "metadata": {},
     "output_type": "execute_result"
    }
   ],
   "source": [
    "diff(expr,y)"
   ]
  },
  {
   "cell_type": "code",
   "execution_count": 18,
   "metadata": {},
   "outputs": [
    {
     "data": {
      "image/png": "[encoded data removed]",
      "text/latex": [
       "$\\displaystyle z \\left(x y z + 1\\right) e^{x y z}$"
      ],
      "text/plain": [
       "               x⋅y⋅z\n",
       "z⋅(x⋅y⋅z + 1)⋅ℯ     "
      ]
     },
     "execution_count": 18,
     "metadata": {},
     "output_type": "execute_result"
    }
   ],
   "source": [
    "diff(expr,x,y)"
   ]
  },
  {
   "cell_type": "markdown",
   "metadata": {},
   "source": [
    "diff can also be called as a method."
   ]
  },
  {
   "cell_type": "code",
   "execution_count": 19,
   "metadata": {},
   "outputs": [
    {
     "data": {
      "image/png": "[encoded data removed]",
      "text/latex": [
       "$\\displaystyle z \\left(x y z + 1\\right) e^{x y z}$"
      ],
      "text/plain": [
       "               x⋅y⋅z\n",
       "z⋅(x⋅y⋅z + 1)⋅ℯ     "
      ]
     },
     "execution_count": 19,
     "metadata": {},
     "output_type": "execute_result"
    }
   ],
   "source": [
    "expr.diff(x,y)"
   ]
  },
  {
   "cell_type": "markdown",
   "metadata": {},
   "source": [
    " unevaluated derivative, use the Derivative class"
   ]
  },
  {
   "cell_type": "code",
   "execution_count": 20,
   "metadata": {},
   "outputs": [
    {
     "data": {
      "image/png": "[encoded data removed]",
      "text/latex": [
       "$\\displaystyle \\frac{\\partial^{3}}{\\partial y^{2}\\partial x} e^{x y z}$"
      ],
      "text/plain": [
       "   3          \n",
       "  ∂   ⎛ x⋅y⋅z⎞\n",
       "──────⎝ℯ     ⎠\n",
       "  2           \n",
       "∂y  ∂x        "
      ]
     },
     "execution_count": 20,
     "metadata": {},
     "output_type": "execute_result"
    }
   ],
   "source": [
    "deriv=Derivative(expr,x,y,2)\n",
    "deriv"
   ]
  },
  {
   "cell_type": "code",
   "execution_count": 21,
   "metadata": {},
   "outputs": [
    {
     "data": {
      "image/png": "[encoded data removed]",
      "text/latex": [
       "$\\displaystyle x z^{2} \\left(x y z + 2\\right) e^{x y z}$"
      ],
      "text/plain": [
       "   2              x⋅y⋅z\n",
       "x⋅z ⋅(x⋅y⋅z + 2)⋅ℯ     "
      ]
     },
     "execution_count": 21,
     "metadata": {},
     "output_type": "execute_result"
    }
   ],
   "source": [
    "deriv.doit()"
   ]
  },
  {
   "cell_type": "markdown",
   "metadata": {},
   "source": [
    "Derivatives of unspecified order can be created using tuple (x, n) where n is the order of the derivative with respect to x."
   ]
  },
  {
   "cell_type": "code",
   "execution_count": 22,
   "metadata": {},
   "outputs": [
    {
     "data": {
      "image/png": "[encoded data removed]",
      "text/latex": [
       "$\\displaystyle \\frac{\\partial^{n}}{\\partial x^{n}} e^{x y z}$"
      ],
      "text/plain": [
       "  n        \n",
       " ∂ ⎛ x⋅y⋅z⎞\n",
       "───⎝ℯ     ⎠\n",
       "  n        \n",
       "∂x         "
      ]
     },
     "execution_count": 22,
     "metadata": {},
     "output_type": "execute_result"
    }
   ],
   "source": [
    "derivn=expr.diff((x,n))\n",
    "derivn"
   ]
  },
  {
   "cell_type": "markdown",
   "metadata": {},
   "source": [
    "## Gradient\n",
    "The gradient (or gradient vector field) of scalar-valued function $f(x1, ..., xn)$  on a domain in Euclidean space $ \\mathbb {R} ^{n}$ (${\\displaystyle f\\colon \\mathbf {R} ^{n}\\to \\mathbf {R} }$) is denoted by\n",
    "${\\displaystyle \\nabla f\\colon \\mathbf {R} ^{n}\\to \\mathbf {R} ^{n}}$ and $f$ has a partial derivative with respect to each variable $x_j$ at the point $a$, these partial derivatives define the vector:\n",
    "\n",
    "${\\displaystyle \\nabla f(a)={\\begin{bmatrix}{\\frac {\\partial f}{\\partial x_{1}}}(a)\\\\\\vdots \\\\{\\frac {\\partial f}{\\partial x_{n}}}(a)\\end{bmatrix}}  =\\left({\\frac {\\partial f}{\\partial x_{1}}}(a),\\ldots ,{\\frac {\\partial f}{\\partial x_{n}}}(a)\\right).}$\n",
    "\n",
    "\n",
    "This vector is called the gradient of $f$ at $a$."
   ]
  },
  {
   "cell_type": "code",
   "execution_count": 23,
   "metadata": {},
   "outputs": [
    {
     "data": {
      "image/png": "[encoded data removed]",
      "text/latex": [
       "$\\displaystyle (\\mathbf{{y}_{C}} \\mathbf{{z}_{C}})\\mathbf{\\hat{i}_{C}} + (\\mathbf{{x}_{C}} \\mathbf{{z}_{C}})\\mathbf{\\hat{j}_{C}} + (\\mathbf{{x}_{C}} \\mathbf{{y}_{C}})\\mathbf{\\hat{k}_{C}}$"
      ],
      "text/plain": [
       "C.y*C.z*C.i + C.x*C.z*C.j + C.x*C.y*C.k"
      ]
     },
     "execution_count": 23,
     "metadata": {},
     "output_type": "execute_result"
    }
   ],
   "source": [
    "from sympy.vector import CoordSys3D, Del\n",
    "C = CoordSys3D('C')\n",
    "delop = Del()\n",
    "delop.gradient(C.x*C.y*C.z).doit()\n",
    "C.y*C.z*C.i + C.x*C.z*C.j + C.x*C.y*C.k\n",
    "delop(C.x*C.y*C.z).doit()\n",
    "C.y*C.z*C.i + C.x*C.z*C.j + C.x*C.y*C.k"
   ]
  },
  {
   "cell_type": "markdown",
   "metadata": {},
   "source": [
    "## Total derivative\n",
    "Unlike partial derivatives, the total derivative approximates the function with respect to all of its arguments, not just a single one. In many situations, this is the same as considering all partial derivatives simultaneously.\n",
    "\n",
    "The volume $V$ of a cone depends on the cone's height h and its radius $r$ according to the formula\n",
    "\n",
    "$V(r,h)={\\frac {\\pi r^{2}h}{3}}$\n",
    "\n",
    "The partial derivative of $V$ with respect to $r$ is:\n",
    "\n",
    "$\\frac{ \\partial V}{\\partial r} = \\frac{ 2 \\pi r h}{3}$\n",
    "\n",
    "The partial derivative with respect to $h$ is:\n",
    "\n",
    "$\\frac{ \\partial V}{\\partial h} = { {\\frac {\\pi r^{2}}{3}}}$\n",
    "\n",
    "\n",
    "The gradient vector:\n",
    "\n",
    "$\\nabla V = \\left(\\frac{\\partial V}{\\partial r},\\frac{\\partial V}{\\partial h}\\right) = \\left(\\frac{2}{3}\\pi rh, \\frac{1}{3}\\pi r^2\\right).$\n",
    "\n",
    "\n",
    "By contrast, the total derivative of $V$ with respect to $r$ and $h$ are respectively:\n",
    "\n",
    "\n",
    "${\\displaystyle {\\frac {dV}{dr}}=\\overbrace {\\frac {2\\pi rh}{3}} ^{\\frac {\\partial V}{\\partial r}}+\\overbrace {\\frac {\\pi r^{2}}{3}} ^{\\frac {\\partial V}{\\partial h}}{\\frac {dh}{dr}}}$\n",
    "\n",
    "\n",
    "${\\displaystyle {\\frac {dV}{dh}}=\\overbrace {\\frac {\\pi r^{2}}{3}} ^{\\frac {\\partial V}{\\partial h}}+\\overbrace {\\frac {2\\pi rh}{3}} ^{\\frac {\\partial V}{\\partial r}}{\\frac {dr}{dh}}}$\n",
    "\n",
    "The difference between the total and partial derivative is the elimination of indirect dependencies between variables in partial derivatives. \n",
    "For example if the cone's proportions have to stay the same, and the height and radius are in a fixed ratio k,\n",
    "\n",
    "${\\displaystyle k={\\frac {h}{r}}={\\frac {dh}{dr}}.}$\n",
    "\n",
    "This gives the total derivative with respect to $r$:\n",
    "\n",
    "${\\displaystyle {\\frac {dV}{dr}}=k\\pi r^{2}}$\n",
    "\n",
    "${\\displaystyle {\\frac {dV}{dh}}=\\pi r^{2}}$\n"
   ]
  },
  {
   "cell_type": "markdown",
   "metadata": {},
   "source": [
    "## Directional derivative\n",
    "The directional derivative of a multivariate differentiable scalar function ${\\displaystyle f(\\mathbf {x} )=f(x_{1},x_{2},\\ldots ,x_{n})}$ along a given vector ${\\displaystyle \\mathbf {v} =(v_{1},\\ldots ,v_{n})}$ at a given point $x$  generalizes the notion of a partial derivative, in which the rate of change is taken along one of the curvilinear coordinate curves, all other coordinates being constant is the function ${\\displaystyle \\nabla _{\\mathbf {v} }{f}}$ defined by the limit\n",
    "\n",
    "${\\displaystyle \\nabla _{\\mathbf {v} }{f}(\\mathbf {x} )=\\lim _{h\\rightarrow 0}{\\frac {f(\\mathbf {x} +h\\mathbf {v} )-f(\\mathbf {x} )}{h}}.}$\n",
    "\n",
    "\n",
    "and may be denoted by any of the following:\n",
    "\n",
    "* ${\\displaystyle \\nabla _{\\mathbf {v} }{f}(\\mathbf {x} )}$\n",
    "\n",
    "* ${\\displaystyle f'_{\\mathbf {v} }(\\mathbf {x} )}$\n",
    "\n",
    "* ${\\displaystyle D_{\\mathbf {v} }f(\\mathbf {x} )}$\n",
    "\n",
    "* ${\\displaystyle Df(\\mathbf {x} )(\\mathbf {v} )}$\n",
    "\n",
    "* ${\\displaystyle \\partial _{\\mathbf {v} }f(\\mathbf {x} )}$\n",
    "\n",
    "* ${\\displaystyle {\\frac {\\partial {f(\\mathbf {x} )}}{\\partial {\\mathbf {v} }}}}$\n",
    "\n",
    "* ${\\displaystyle \\mathbf {v} \\cdot {\\nabla f(\\mathbf {x} )}}$\n",
    "\n",
    "* ${\\displaystyle \\mathbf {v} \\cdot {\\frac {\\partial f(\\mathbf {x} )}{\\partial \\mathbf {x} }}}$\n",
    "\n",
    "\n",
    "\n",
    "If the function $f$ is differentiable at $x$, then the directional derivative exists along any vector $v$, and one has:\n",
    "\n",
    "${\\displaystyle \\nabla _{\\mathbf {v} }{f}(\\mathbf {x} )=\\nabla f(\\mathbf {x} )\\cdot \\mathbf {v} }$\n",
    "\n",
    "\n",
    "where the ${\\displaystyle \\nabla } $ on the right denotes the gradient and ${\\displaystyle \\cdot }$  is the dot product.\n",
    "\n",
    "In a Euclidean space, some authors define the directional derivative to be with respect to an arbitrary nonzero vector $v$ after normalization, thus being independent of its magnitude and depending only on its direction.\n",
    "\n",
    "Examples [1](https://tutorial.math.lamar.edu/classes/calciii/directionalderiv.aspx)"
   ]
  },
  {
   "cell_type": "markdown",
   "metadata": {},
   "source": [
    "## Layout conventions\n",
    "The derivative of a vector with respect to a vector ($y$ is of size $m$ and the denominator $\\textbf{x}$ of size $n$) $\\frac{\\partial\\textbf{y}}{\\partial\\textbf{x}}$,  is often written in two competing ways:\n",
    "\n",
    "1) Numerator layout (known as the Jacobian formulation) lay out  $y$ according to $x^{T}$ which gives $m×n$ layout. Rows are: $\\frac{\\partial y}{\\partial\\textbf{x}}$ and columns are: $\\frac{\\partial\\textbf{y}}{\\partial x}$\n",
    "\n",
    "2) Denominator layout lay out $x$ according to and $y^{T}$ which gives $n×m$ layout.\n",
    "\n",
    "\n",
    "\n"
   ]
  },
  {
   "cell_type": "markdown",
   "metadata": {},
   "source": [
    "## Scalar, Vector and Matrix derivatives\n",
    "Here I use only <b>numerator notation</b> for calculating the derivaties:\n",
    "\n",
    "Scalar: $x$\n",
    "\n",
    "Vector: $\\textbf{x}_{n\\times 1}$ \n",
    "\n",
    "Vector: $\\textbf{y}_{m\\times 1}$ \n",
    "\n",
    "Matrix: $\\textbf{X}_{p\\times q}$\n",
    "\n",
    "Matrix: $\\textbf{Y}_{m\\times n}$\n",
    "\n",
    "\n",
    "### 1) Derivative of scalar by scalar\n",
    "$\\frac{\\partial y}{\\partial x}$: scalar\n",
    "\n",
    "The derivative of a function $f: \\mathbb {R}  → \\mathbb {R}$ at a single point is just a real number, think of that number as a $1×1$ matrix, so if we like, we could denote the derivative of $f(x)$  at  $x=a$ as:\n",
    "\\begin{align*}\n",
    "  Df(a) = \\left[\\frac {df}{dx}(a)\\right].\n",
    "\\end{align*}\n",
    "\n",
    "### 2) Derivative of scalar by vector \n",
    "\n",
    "$\\frac{\\partial y}{\\partial \\textbf{x}}= \n",
    "\\begin{bmatrix}\n",
    "\\frac{\\partial y}{\\partial x_{0}} \\\\ \n",
    "\\frac{\\partial y}{\\partial x_{1}}\\\\\n",
    "\\vdots \\\\\n",
    "\\frac{\\partial y}{\\partial x_{n-1}}\n",
    "\\end{bmatrix}$\n",
    "\n",
    "### 3) Derivative of scalar by matrix\n",
    "The derivative of a scalar $y$ function of a $p×q$ matrix $X$ of independent variables, with respect to the matrix $X$ aka gradient matrix:\n",
    "\n",
    "$\n",
    "\\frac{\\partial y}{\\partial \\mathbf{X}} =\n",
    "\\begin{bmatrix}\n",
    "\\frac{\\partial y}{\\partial x_{11}} & \\frac{\\partial y}{\\partial x_{21}} & \\cdots & \\frac{\\partial y}{\\partial x_{p1}}\\\\\n",
    "\\frac{\\partial y}{\\partial x_{12}} & \\frac{\\partial y}{\\partial x_{22}} & \\cdots & \\frac{\\partial y}{\\partial x_{p2}}\\\\\n",
    "\\vdots & \\vdots & \\ddots & \\vdots\\\\\n",
    "\\frac{\\partial y}{\\partial x_{1q}} & \\frac{\\partial y}{\\partial x_{2q}} & \\cdots & \\frac{\\partial y}{\\partial x_{pq}}\\\\\n",
    "\\end{bmatrix}.\n",
    "$"
   ]
  },
  {
   "cell_type": "markdown",
   "metadata": {},
   "source": [
    "### 4) Derivative of vector  by scalar\n",
    "For a scalar-valued function of multiple variables $f: \\mathbb {R}^{n}  → \\mathbb {R}$, then the derivative is simply a row matrix containing all of these partial derivatives, which we call the matrix of partial derivatives (Jacobian matrix)\n",
    "\n",
    "\\begin{align*}\n",
    "  f(\\textbf{x})= f(x_1,x_2, \\ldots, x_n).\n",
    "\\end{align*}\n",
    "\n",
    "\n",
    "The $1×n$ matrix of partial derivatives at $x=a$ is:\n",
    "\n",
    "\n",
    "\\begin{align*}\n",
    "  Df(\\textbf{a}) = \\left[\\frac{\\partial{f}}{\\partial{{x_1}}}(\\textbf{a})   \\ \\ldots \\ \n",
    "  \\frac{\\partial{f}}{\\partial{{x_n}}}(\\textbf{a})\\right].\n",
    "\\end{align*}\n",
    "\n",
    "$\\frac{\\partial \\textbf{y}}{\\partial x}= \n",
    "\\begin{bmatrix}\n",
    "\\frac{\\partial y_{0}}{\\partial x} \\\\ \n",
    "\\frac{\\partial y_{1}}{\\partial x}\\\\\n",
    "\\vdots \\\\\n",
    "\\frac{\\partial y_{m-1}}{\\partial x}\n",
    "\\end{bmatrix}$\n",
    "\n"
   ]
  },
  {
   "cell_type": "markdown",
   "metadata": {},
   "source": [
    "\n",
    "### 5) Derivative of vector  by vector (Jacobian)\n",
    "\n",
    "\n",
    "$\\frac{\\partial \\textbf{y}}{\\partial \\textbf{x}}=\n",
    "\\begin{bmatrix}\n",
    "\\frac{\\partial y_1}{\\partial x_{1}} & \\frac{\\partial y_1}{\\partial x_{2}} &... & \\frac{\\partial y_1}{\\partial x_{n}} \\\\ \n",
    "\\frac{\\partial y_2}{\\partial x_{1}} & \\frac{\\partial y_2}{\\partial x_{2}} &... & \\frac{\\partial y_2}{\\partial x_{n}} \\\\ \n",
    "\\vdots & \\vdots & \\ddots & \\vdots \\\\\n",
    "\\frac{\\partial y_m}{\\partial x_{n}} & \\frac{\\partial y_m}{\\partial x_{n}} &... & \\frac{\\partial y_m}{\\partial x_{n}} \\\\ \n",
    "\\end{bmatrix}$\n",
    "\n",
    "The Jacobian matrix is the generalization of the gradient for vector-valued functions.\n",
    "An example of vector-valued functions: one way to represent a surface is with parametric equations, in which two parameters $s$ and $t$ determine the three Cartesian coordinates $x,y,z$ of any point on the surface:\n",
    "\n",
    "${\\displaystyle (x,y,z)=(f(s,t),g(s,t),h(s,t))\\equiv F(s,t).}$\n",
    "\n",
    "\n",
    "Suppose $f: \\mathbb {R}^{n}  → \\mathbb {R} ^{m}$ is a function of the vector $\\textbf{x} = (x_1,x_2,\\ldots,x_n)^{T} $ such that each of its first-order partial derivatives exist on $\\mathbb {R} ^{n}$. This function takes a point $x ∈ \\mathbb {R} ^{n}$ as input and produces the vector $f(x) ∈ \\mathbb {R} ^{m} $ as output.\n",
    "\n",
    "\\begin{gather*}\n",
    "  \\textbf{f}(\\textbf{x}) = (f_1(\\textbf{x}),f_2(\\textbf{x}), \\cdots, f_m(\\textbf{x}))\n",
    "  =\n",
    "  \\left[\\begin{array}{c}\n",
    "  f_1(\\textbf{x})\\\\f_2(\\textbf{x})\\\\ \\vdots\\\\ f_m(\\textbf{x})\n",
    "  \\end{array}\\right].\n",
    "\\end{gather*}\n",
    "\n",
    "\n",
    "\n",
    "\n",
    "\n",
    "Then the Jacobian matrix of f is defined to be an $m×n$ matrix, denoted by $J$, whose $(i,j)th$ entry is ${\\displaystyle \\mathbf {J} _{ij}={\\frac {\\partial f_{i}}{\\partial x_{j}}}}$, or explicitly:\n",
    "\n",
    "$\n",
    "{\\displaystyle \\mathbf {J} ={\\begin{bmatrix}{\\dfrac {\\partial \\mathbf {f} }{\\partial x_{1}}}&\\cdots &{\\dfrac {\\partial \\mathbf {f} }{\\partial x_{n}}}\\end{bmatrix}}}=\n",
    "\\begin{gather*}\n",
    "  \\left[\n",
    "    \\begin{array}{cccc}\n",
    "      \\displaystyle\\frac{\\partial{f_1}}{\\partial{{x_1}}}(\\textbf{x})&\n",
    "      \\displaystyle\\frac{\\partial{f_1}}{\\partial{{x_2}}}(\\textbf{x})&\n",
    "      \\ldots &\n",
    "      \\displaystyle\\frac{\\partial{f_1}}{\\partial{{x_n}}}(\\textbf{x})\\\\\n",
    "      \\displaystyle\\frac{\\partial{f_2}}{\\partial{{x_1}}}(\\textbf{x})&\n",
    "      \\displaystyle\\frac{\\partial{f_2}}{\\partial{{x_2}}}(\\textbf{x})&\n",
    "      \\ldots &\n",
    "      \\displaystyle\\frac{\\partial{f_2}}{\\partial{{x_n}}}(\\textbf{x})\\\\\n",
    "      \\vdots & \\vdots & \\ddots & \\vdots\\\\\n",
    "      \\displaystyle\\frac{\\partial{f_m}}{\\partial{{x_1}}}(\\textbf{x})&\n",
    "      \\displaystyle\\frac{\\partial{f_m}}{\\partial{{x_2}}}(\\textbf{x})&\n",
    "      \\ldots &\n",
    "      \\displaystyle\\frac{\\partial{f_m}}{\\partial{{x_n}}}(\\textbf{x})\n",
    "    \\end{array}\n",
    "  \\right].\n",
    "\\end{gather*}\n",
    "$\n",
    "\n",
    "\n",
    "\n",
    "\n",
    "\n",
    "Also noted with: $Df, J_f, {\\displaystyle \\nabla \\mathbf {f} }, and {\\displaystyle {\\frac {\\partial (f_{1},..,f_{m})}{\\partial (x_{1},..,x_{n})}}}$"
   ]
  },
  {
   "cell_type": "markdown",
   "metadata": {},
   "source": [
    "Example:\n",
    "\n",
    "derivative of $\\begin{align*} \\textbf{f}(x,y,z)=(x^2y^2z,y+\\sin z)\\end{align*}$"
   ]
  },
  {
   "cell_type": "code",
   "execution_count": 35,
   "metadata": {},
   "outputs": [
    {
     "data": {
      "text/latex": [
       "$\\displaystyle \\left[\\begin{matrix}2 x y^{2} z & 2 x^{2} y z & x^{2} y^{2}\\\\0 & 1 & \\cos{\\left(z \\right)}\\end{matrix}\\right]$"
      ],
      "text/plain": [
       "⎡     2       2       2  2 ⎤\n",
       "⎢2⋅x⋅y ⋅z  2⋅x ⋅y⋅z  x ⋅y  ⎥\n",
       "⎢                          ⎥\n",
       "⎣   0         1      cos(z)⎦"
      ]
     },
     "execution_count": 35,
     "metadata": {},
     "output_type": "execute_result"
    }
   ],
   "source": [
    "from sympy.vector import directional_derivative\n",
    "state=Matrix([x,y,z])\n",
    "state\n",
    "f=Matrix([x**2*y**2*z,y+sin(z)])\n",
    "f.jacobian(state)"
   ]
  },
  {
   "cell_type": "markdown",
   "metadata": {},
   "source": [
    "\n",
    "### 6) Derivative of vector  by matrix\n",
    "$\\frac{\\partial \\textbf{y}}{\\partial \\textbf{X}}$"
   ]
  },
  {
   "cell_type": "markdown",
   "metadata": {},
   "source": [
    "### 7) Derivative of a matrix by a scalar\n",
    "The derivative of a matrix function $Y$ by a scalar $x$ (tangent matrix):\n",
    "\n",
    "$\n",
    "\\frac{\\partial \\mathbf{Y}}{\\partial x} =\n",
    "\\begin{bmatrix}\n",
    "\\frac{\\partial y_{11}}{\\partial x} & \\frac{\\partial y_{12}}{\\partial x} & \\cdots & \\frac{\\partial y_{1n}}{\\partial x}\\\\\n",
    "\\frac{\\partial y_{21}}{\\partial x} & \\frac{\\partial y_{22}}{\\partial x} & \\cdots & \\frac{\\partial y_{2n}}{\\partial x}\\\\\n",
    "\\vdots & \\vdots & \\ddots & \\vdots\\\\\n",
    "\\frac{\\partial y_{m1}}{\\partial x} & \\frac{\\partial y_{m2}}{\\partial x} & \\cdots & \\frac{\\partial y_{mn}}{\\partial x}\\\\\n",
    "\\end{bmatrix}.\n",
    "$\n",
    "\n",
    "\n",
    "### 8) Derivative of a matrix by a vector\n",
    "$\\frac{\\partial \\textbf{Y}}{\\partial \\textbf{x}}$\n",
    "\n",
    "\n"
   ]
  },
  {
   "cell_type": "markdown",
   "metadata": {},
   "source": [
    "## 9) Derivative of a matrix by a matrix\n",
    "Let $\\textbf{Y}$ be an $m × p$ matrix function of an $n × q$ matrix of variables $\\textbf{X}$\n",
    "\n",
    "$\\textbf{Y}=\\textbf{F}_{m \\times p}(\\textbf{X}_{n \\times q})$\n",
    "\n",
    "we may then define the $\\omega$ -derivative of a matrix with respect to a matrix as\n",
    "\n",
    "$\\frac{\\partial \\textbf{Y}}{\\partial \\textbf{X}}=\n",
    "\\frac{\\partial\\textbf{F}(\\textbf{X})}{\\partial \\mathbf{X}} =\n",
    "\\begin{bmatrix}\n",
    "\\frac{\\partial\\textbf{F}(\\textbf{X})}{\\partial x_{11}} & \\frac{\\partial\\textbf{F}(\\textbf{X})}{\\partial x_{12}} & \\cdots & \\frac{\\partial\\textbf{F}(\\textbf{X})}{\\partial x_{1q}}\\\\\n",
    "\\frac{\\partial\\textbf{F}(\\textbf{X})}{\\partial x_{21}} & \\frac{\\partial\\textbf{F}(\\textbf{X})}{\\partial x_{22}} & \\cdots & \\frac{\\partial\\textbf{F}(\\textbf{X})}{\\partial x_{2q}}\\\\\n",
    "\\vdots & \\vdots & \\ddots & \\vdots\\\\\n",
    "\\frac{\\partial\\textbf{F}(\\textbf{X})}{\\partial x_{n1}} & \\frac{\\partial\\textbf{F}(\\textbf{X})}{\\partial x_{n2}} & \\cdots & \\frac{\\partial\\textbf{F}(\\textbf{X})}{\\partial x_{nq}}\\\\\n",
    "\\end{bmatrix}.\n",
    "$\n",
    "\n",
    "is in the order of $mn × pq$"
   ]
  },
  {
   "cell_type": "markdown",
   "metadata": {},
   "source": [
    "## Identities\n",
    "\n",
    "The following rules are very useful when deriving the differential of an expression:\n",
    "\n",
    "\n",
    "$\\displaystyle { \\frac{\\partial \\textbf{x}}{\\textbf{x} }=I}$\n",
    "\n",
    "$\\displaystyle { \\frac{\\partial \\textbf{A} \\textbf{x}}{\\textbf{x}}=\\textbf{A}}$\n",
    "\n",
    "$\\displaystyle { \\frac{\\partial \\textbf{x}^{T}\\textbf{A}}{\\textbf{x}}=\\textbf{A}^{T} }$\n",
    "\n",
    "\n",
    "${\\displaystyle {\\frac{ \\partial\\textbf{ a.x}}{\\partial \\textbf{x}}= \\frac{ \\partial\\textbf{x.a}}{\\partial \\textbf{x}}  = \\frac {\\partial \\mathbf {a} ^{\\top }\\mathbf {x} }{\\partial \\mathbf {x} }}={\\frac {\\partial \\mathbf {x} ^{\\top }\\mathbf {a} }{\\partial \\mathbf {x} }}=\\textbf{a}^{T} }$\n",
    "\n",
    "\n",
    "$\\displaystyle{\\frac  {\\partial {\\mathbf  {b}}^{\\top }{\\mathbf  {A}}{\\mathbf  {x}}}{\\partial {\\mathbf  {x}}}}=\t{\\displaystyle \\mathbf {b} ^{\\top }\\mathbf {A} }{\\mathbf  {b}}^{\\top }{\\mathbf  {A}}$\n",
    "\n",
    "\n",
    "\n",
    "$\\displaystyle{\\frac  {\\partial {\\mathbf  {x}}^{\\top }{\\mathbf  {A}}{\\mathbf  {x}}}{\\partial {\\mathbf  {x}}}}=\t{\\displaystyle \\mathbf {x} ^{\\top }\\left(\\mathbf {A} +\\mathbf {A} ^{\\top }\\right)}$\n",
    "\n",
    "${\\displaystyle {\\frac {\\partial (\\mathbf {x} \\cdot \\mathbf {x} )}{\\partial \\mathbf {x} }}={\\frac {\\partial \\mathbf {x} ^{\\top }\\mathbf {x} }{\\partial \\mathbf {x} }}={\\frac {\\partial \\left\\Vert \\mathbf {x} \\right\\Vert ^{2}}{\\partial \\mathbf {x} }}=}\t{\\displaystyle 2\\mathbf {x} ^{\\top }}$\n",
    "\n",
    "\n",
    "\n",
    "${\\displaystyle {\\frac {\\partial \\;\\|\\mathbf {x} -\\mathbf {a} \\|}{\\partial \\;\\mathbf {x} }}=}\t{\\displaystyle {\\frac {(\\mathbf {x} -\\mathbf {a} )^{\\top }}{\\|\\mathbf {x} -\\mathbf {a} \\|}}}$\n",
    "\n",
    "\n",
    "\n",
    "\n",
    "\n",
    "$\\partial(Tr(\\textbf{X}))= Tr(\\partial(\\textbf{X}))$\n",
    "\n",
    "$\\partial(\\textbf{XY})=\\partial(\\textbf{X})\\textbf{Y} + \\textbf{X}\\partial(\\textbf{Y}) $\n",
    "\n",
    "\n",
    "$\\partial(\\textbf{X}^{-1})= -\\textbf{X}^{-1} \\partial(\\textbf{X})\\textbf{X}^{-1}   $\n",
    "\n",
    "$\\partial(det(\\textbf{X} ) )=Tr(adj(\\textbf{X})\\partial{\\textbf{X}}) =det(\\textbf{X}) \n",
    "Tr(\\textbf{X}^{-1} \\partial\\textbf{X})$\n",
    "\n",
    "adjoint matrix $adj()$\n",
    "\n",
    "\n",
    "Refs [1](https://en.wikipedia.org/wiki/Matrix_calculus#Identities)\n",
    "\n",
    "\n",
    "Directional derivative of a scalar f(X) of a matrix X in the direction of matrix Y\n",
    "\n",
    "$\\nabla_\\mathbf{Y} f = \\operatorname{tr} \\left(\\frac{\\partial f}{\\partial \\mathbf{X}} \\mathbf{Y}\\right).$\n",
    "\n",
    "Ref [1](http://www.ee.ic.ac.uk/hp/staff/dmb/matrix/calculus.html)"
   ]
  },
  {
   "cell_type": "markdown",
   "metadata": {},
   "source": [
    "#### Examples:"
   ]
  },
  {
   "cell_type": "code",
   "execution_count": 32,
   "metadata": {},
   "outputs": [
    {
     "data": {
      "text/latex": [
       "$\\displaystyle \\left[\\begin{matrix}4 x_{1} + 2 x_{2} + 2 x_{3} + x_{4}\\\\\\gamma x_{3} + x_{1} + x_{2} + x_{4}\\\\2 x_{1} + 2 x_{3}\\\\x_{2} + 2 x_{4}\\end{matrix}\\right]$"
      ],
      "text/plain": [
       "⎡4⋅x₁ + 2⋅x₂ + 2⋅x₃ + x₄⎤\n",
       "⎢                       ⎥\n",
       "⎢  γ⋅x₃ + x₁ + x₂ + x₄  ⎥\n",
       "⎢                       ⎥\n",
       "⎢      2⋅x₁ + 2⋅x₃      ⎥\n",
       "⎢                       ⎥\n",
       "⎣       x₂ + 2⋅x₄       ⎦"
      ]
     },
     "execution_count": 32,
     "metadata": {},
     "output_type": "execute_result"
    }
   ],
   "source": [
    "y1,y2,y3,y4,x1,x2,x3,x4,gamma=symbols('y1,y2,y3,y4,x1,x2,x3,x4,gamma')\n",
    "\n",
    "A=Matrix([[4,2,2,1],[1,1,gamma,1], [2,0,2,0] ,[0,1,0,2]  ])\n",
    "A\n",
    "\n",
    "Y=Matrix([[y1],[y2],[y3],[y4]])\n",
    "X=Matrix([[x1],[x2],[x3],[x4]])\n",
    "\n",
    "Y=A*X\n",
    "Y\n",
    "#Y.diff(X)\n",
    "\n",
    "\n",
    "#from sympy import *\n",
    "#A = Matrix(symarray('A', (4, 5)))\n",
    "#B = Matrix(symarray('B', (5, 3)))\n",
    "#C = A*B\n",
    "#C.diff(A)\n",
    "\n"
   ]
  },
  {
   "cell_type": "markdown",
   "metadata": {},
   "source": [
    "Ref [1](https://stackoverflow.com/questions/41581002/how-to-derive-with-respect-to-a-matrix-element-with-sympy), [2](https://en.wikipedia.org/wiki/Matrix_calculus#Layout_conventions)"
   ]
  },
  {
   "cell_type": "markdown",
   "metadata": {},
   "source": [
    "## Hessian"
   ]
  },
  {
   "cell_type": "markdown",
   "metadata": {},
   "source": [
    "### Divergence\n",
    "\n",
    "\n",
    "Ref: [1](https://www.youtube.com/watch?v=rB83DpBJQsE)"
   ]
  },
  {
   "cell_type": "markdown",
   "metadata": {},
   "source": [
    "### Curl"
   ]
  }
 ],
 "metadata": {
  "kernelspec": {
   "display_name": "Python 3",
   "language": "python",
   "name": "python3"
  },
  "language_info": {
   "codemirror_mode": {
    "name": "ipython",
    "version": 3
   },
   "file_extension": ".py",
   "mimetype": "text/x-python",
   "name": "python",
   "nbconvert_exporter": "python",
   "pygments_lexer": "ipython3",
   "version": "3.8.5"
  }
 },
 "nbformat": 4,
 "nbformat_minor": 4
}
