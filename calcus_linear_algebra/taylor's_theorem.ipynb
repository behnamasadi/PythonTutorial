{
 "cells": [
  {
   "cell_type": "markdown",
   "metadata": {},
   "source": [
    "### Taylor's theorem for single functions\n",
    "\n",
    "$f(x)≈f(a)+f'(a)(x-a)+\\frac{1}{2}(x-a)f''(a)(x-a)+\\frac{1}{6}f'''(a)(x-a)^3+...=\\sum_{j=0} f^{(j)}(a)\\frac {(x-a)^j}{j!} \n",
    "\\nonumber$\n",
    "\n",
    "### Taylor's theorem for multivariate functions\n",
    "Let  $f: \\mathbb {R}^{n}  → \\mathbb {R}$ be a $k-times$ differentiable function at the point $a∈\\mathbb {R}^{n}$. Then there exists  $h_\\alpha : \\mathbb {R}^{n}  → \\mathbb {R}$ such that:\n",
    "\n",
    "\\begin{align*}\n",
    "  f(\\textbf{x})= f(x_1,x_2, \\ldots, x_n).\n",
    "\\end{align*}\n",
    "\n",
    "\n",
    "Since $f(x)$ is scalar, the first derivative is $Df(x)$, a $1×n$ matrix. For the second derivative of $f(x)$, we can take the matrix of partial derivatives of the function $Df(x)$. We could write it as $DDf(x)$. This second derivative matrix is an $n×n$ matrix called the Hessian matrix of $f$, denote it by $Hf(x)$.\n",
    "\n",
    "$\n",
    "\\begin{align*}\n",
    "  Hf(\\textbf{x}) = DDf(\\textbf{x}).\n",
    "\\end{align*}\n",
    "$\n",
    "where $Df(\\textbf{a})$ is the matrix of partial derivatives\n",
    "\n",
    "First order:\n",
    "\n",
    "$\\begin{align*}\n",
    "  f(\\textbf{x}) \\approx f(\\textbf{a}) + Df(\\textbf{a}) (\\textbf{x}-\\textbf{a}).\n",
    "   \\label{eq:firstorder}\n",
    "\\end{align*}$\n",
    "\n",
    "Second order:\n",
    "\n",
    "$\\begin{align*}\n",
    "  f(\\textbf{x}) \\approx f(\\textbf{a}) + Df(\\textbf{a})_{1\\times n} (\\textbf{x}-\\textbf{a})_{n\\times1}+\n",
    "  \\frac{1}{2} (\\textbf{x}-\\textbf{a})_{1\\times n}^T Hf(\\textbf{a})_{n\\times n} (\\textbf{x}-\\textbf{a})_{n\\times1}.\n",
    "\\end{align*}$\n",
    "\n",
    "\n",
    "\n",
    "\n",
    "${\\begin{aligned}&f({\\boldsymbol {x}})=\\sum _{|\\alpha |\\leq k}{\\frac {D^{\\alpha }f({\\boldsymbol {a}})}{\\alpha !}}({\\boldsymbol {x}}-{\\boldsymbol {a}})^{\\alpha }+\\sum _{|\\alpha |=k}h_{\\alpha }({\\boldsymbol {x}})({\\boldsymbol {x}}-{\\boldsymbol {a}})^{\\alpha },\\\\&{\\mbox{and}}\\quad \\lim _{{\\boldsymbol {x}}\\to {\\boldsymbol {a}}}h_{\\alpha }({\\boldsymbol {x}})=0.\\end{aligned}}$"
   ]
  },
  {
   "cell_type": "markdown",
   "metadata": {},
   "source": [
    "### Multivariable Taylor polynomial example\n",
    "1) Third-order Taylor polynomial of a smooth function $f: \\mathbb {R}^{n}  \\to \\mathbb {R}$ is, denoting $x - a = v$:\n",
    "\n",
    "${\\displaystyle {\\begin{aligned}P_{3}({\\boldsymbol {x}})=f({\\boldsymbol {a}})+{}&{\\frac {\\partial f}{\\partial x_{1}}}({\\boldsymbol {a}})v_{1}+{\\frac {\\partial f}{\\partial x_{2}}}({\\boldsymbol {a}})v_{2}+{\\frac {\\partial ^{2}f}{\\partial x_{1}^{2}}}({\\boldsymbol {a}}){\\frac {v_{1}^{2}}{2!}}+{\\frac {\\partial ^{2}f}{\\partial x_{1}\\partial x_{2}}}({\\boldsymbol {a}})v_{1}v_{2}+{\\frac {\\partial ^{2}f}{\\partial x_{2}^{2}}}({\\boldsymbol {a}}){\\frac {v_{2}^{2}}{2!}}\\\\&+{\\frac {\\partial ^{3}f}{\\partial x_{1}^{3}}}({\\boldsymbol {a}}){\\frac {v_{1}^{3}}{3!}}+{\\frac {\\partial ^{3}f}{\\partial x_{1}^{2}\\partial x_{2}}}({\\boldsymbol {a}}){\\frac {v_{1}^{2}v_{2}}{2!}}+{\\frac {\\partial ^{3}f}{\\partial x_{1}\\partial x_{2}^{2}}}({\\boldsymbol {a}}){\\frac {v_{1}v_{2}^{2}}{2!}}+{\\frac {\\partial ^{3}f}{\\partial x_{2}^{3}}}({\\boldsymbol {a}}){\\frac {v_{2}^{3}}{3!}}\\end{aligned}}}$"
   ]
  },
  {
   "cell_type": "markdown",
   "metadata": {},
   "source": [
    "2) Second-degree Taylor polynomial of:\n",
    "$\\begin{align*}\n",
    "  f(x,y) = e^{-(x^2+y^2)}\n",
    "\\end{align*}$\n",
    "\n",
    "\n",
    "\n",
    "$\n",
    "\\begin{align*}\n",
    "  p_2(x,y) &= f(1,2) + D f(1,2) \n",
    "  \\left[\n",
    "    \\begin{array}{c}\n",
    "      x-1 \\\\ y-2\n",
    "    \\end{array}\n",
    "  \\right]\n",
    "  \\\\\n",
    "  &\\quad\n",
    "  + \\frac{1}{2}\n",
    "  \\left[\n",
    "    \\begin{array}{cc}\n",
    "      x-1 &y-2\n",
    "    \\end{array}\n",
    "  \\right]\n",
    "  Hf(1,2) \n",
    "  \\left[\n",
    "    \\begin{array}{c}\n",
    "      x-1 \\\\ y-2\n",
    "    \\end{array}\n",
    "  \\right]\n",
    "  \\\\\n",
    "  &\n",
    "  = e^{-5} + \n",
    "  \\left[\n",
    "    \\begin{array}{cc}\n",
    "      -2e^{-5} & -4 e^{-5}\n",
    "    \\end{array}\n",
    "  \\right]\n",
    "  \\left[\n",
    "    \\begin{array}{c}\n",
    "      x-1\\\\ y-2\n",
    "    \\end{array}\n",
    "  \\right]\n",
    "  \\\\\n",
    "  &\\quad\n",
    "  + \\frac{1}{2}\n",
    "  \\left[\n",
    "    \\begin{array}{cc}\n",
    "      x-1 &y-2\n",
    "    \\end{array}\n",
    "  \\right]\n",
    "  \\left[\n",
    "    \\begin{array}{rr}\n",
    "      2 e^{-5} & 8 e^{-5}\\\\\n",
    "      8 e^{-5} & 14 e^{-5}\n",
    "    \\end{array}\n",
    "  \\right]\n",
    "  \\left[\n",
    "    \\begin{array}{c}\n",
    "      x-1\\\\ y-2\n",
    "    \\end{array}\n",
    "  \\right]\n",
    "  \\\\&\n",
    "  =  e^{-5} -e^{-5}(2(x-1)+4(y-2))\n",
    "  +  e^{-5} (x-1)^2 \\\\\n",
    "  &\\quad\n",
    "  +  e^{-5} 8 (x-1)(y-2) + e^{-5} 7 (y-2)^2\\\\\n",
    "  &\n",
    "  = e^{-5} ( 1 - 2(x-1)-4(y-2) + (x-1)^2 +   8 (x-1)(y-2) +  7 (y-2)^2)\n",
    "\\end{align*}\n",
    "$"
   ]
  },
  {
   "cell_type": "markdown",
   "metadata": {},
   "source": [
    "Using $\\textbf{Sympy}$ to compute the Taylor series of an expression use series(expr, var):"
   ]
  },
  {
   "cell_type": "code",
   "execution_count": 1,
   "metadata": {},
   "outputs": [],
   "source": [
    "from IPython.display import display, Math, Latex\n",
    "from sympy import *\n",
    "init_printing(use_latex=True)"
   ]
  },
  {
   "cell_type": "code",
   "execution_count": 4,
   "metadata": {},
   "outputs": [
    {
     "data": {
      "image/png": "[encoded data removed]",
      "text/latex": [
       "$\\displaystyle 1 - \\frac{x^{2}}{2} + \\frac{x^{4}}{24} + O\\left(x^{6}\\right)$"
      ],
      "text/plain": [
       "     2    4        \n",
       "    x    x     ⎛ 6⎞\n",
       "1 - ── + ── + O⎝x ⎠\n",
       "    2    24        "
      ]
     },
     "execution_count": 4,
     "metadata": {},
     "output_type": "execute_result"
    }
   ],
   "source": [
    "x=symbols('x')\n",
    "series(cos(x), x)#expr, x=None, x0=0, n=6, dir='+'"
   ]
  },
  {
   "cell_type": "code",
   "execution_count": 5,
   "metadata": {},
   "outputs": [
    {
     "data": {
      "image/png": "[encoded data removed]",
      "text/latex": [
       "$\\displaystyle e^{- x^{2} - y^{2}}$"
      ],
      "text/plain": [
       "    2    2\n",
       " - x  - y \n",
       "ℯ         "
      ]
     },
     "execution_count": 5,
     "metadata": {},
     "output_type": "execute_result"
    }
   ],
   "source": [
    "x,y=symbols('x,y')\n",
    "f=exp(-x**2-y**2)\n",
    "f"
   ]
  },
  {
   "cell_type": "code",
   "execution_count": 1,
   "metadata": {},
   "outputs": [
    {
     "name": "stdout",
     "output_type": "stream",
     "text": [
      "Taylor expansion at n=1 x\n",
      "Taylor expansion at n=3 -x**3/6 + x\n",
      "Taylor expansion at n=5 x**5/120 - x**3/6 + x\n",
      "Taylor expansion at n=7 -x**7/5040 + x**5/120 - x**3/6 + x\n",
      "Taylor expansion at n=9 x**9/362880 - x**7/5040 + x**5/120 - x**3/6 + x\n"
     ]
    },
    {
     "data": {
      "image/png": "[encoded data removed]",
      "text/plain": [
       "<Figure size 432x288 with 1 Axes>"
      ]
     },
     "metadata": {},
     "output_type": "display_data"
    }
   ],
   "source": [
    "from sympy import *\n",
    "import numpy as np\n",
    "from sympy.functions import sin, cos, ln\n",
    "import matplotlib.pyplot as plt\n",
    "import math\n",
    "plt.style.use(\"ggplot\")\n",
    "\n",
    "# Factorial function\n",
    "def factorial(n):\n",
    "    if n <= 0:\n",
    "        return 1\n",
    "    else:\n",
    "        return n * factorial(n - 1)\n",
    "\n",
    "# Taylor approximation at x0 of the function 'function'\n",
    "def taylor(function, x0, n, x = Symbol('x')):\n",
    "    i = 0\n",
    "    p = 0\n",
    "    while i <= n:\n",
    "        p = p + (function.diff(x, i).subs(x, x0))/(factorial(i))*(x - x0)**i\n",
    "        i += 1\n",
    "    return p\n",
    "\n",
    "def plot(f, x0 = 0, n = 9, by = 2, x_lims = [-5, 5], y_lims = [-5, 5], npoints = 800, x = Symbol('x')):\n",
    "    x1 = np.linspace(x_lims[0], x_lims[1], npoints)\n",
    "    # Approximate up until n starting from 1 and using steps of by\n",
    "    for j in range(1, n + 1, by):\n",
    "        func = taylor(f, x0, j)\n",
    "        taylor_lambda = lambdify(x, func, \"numpy\")\n",
    "        print('Taylor expansion at n=' + str(j), func)\n",
    "        plt.plot(x1, taylor_lambda(x1), label = 'Order '+ str(j))\n",
    "    # Plot the function to approximate (sine, in this case)\n",
    "    func_lambda = lambdify(x, f, \"numpy\")\n",
    "    plt.plot(x1, func_lambda(x1), label = 'Function of x')\n",
    "    \n",
    "    plt.xlim(x_lims)\n",
    "    plt.ylim(y_lims)\n",
    "    plt.xlabel('x')\n",
    "    plt.ylabel('y')\n",
    "    plt.legend()\n",
    "    plt.grid(True)\n",
    "    plt.title('Taylor series approximation')\n",
    "    plt.show()\n",
    "\n",
    "x = Symbol('x')\n",
    "#f = ln(1 + x)\n",
    "f = sin( x)\n",
    "plot(f)"
   ]
  },
  {
   "cell_type": "markdown",
   "metadata": {},
   "source": [
    "Multivariable [1](https://stackoverflow.com/questions/18708155/multivariate-series-expansion-in-sympy), [2](http://hplgit.github.io/primer.html/doc/pub/formulas/._formulas-bootstrap007.html)"
   ]
  }
 ],
 "metadata": {
  "kernelspec": {
   "display_name": "Python 3",
   "language": "python",
   "name": "python3"
  },
  "language_info": {
   "codemirror_mode": {
    "name": "ipython",
    "version": 3
   },
   "file_extension": ".py",
   "mimetype": "text/x-python",
   "name": "python",
   "nbconvert_exporter": "python",
   "pygments_lexer": "ipython3",
   "version": "3.8.5"
  }
 },
 "nbformat": 4,
 "nbformat_minor": 4
}
