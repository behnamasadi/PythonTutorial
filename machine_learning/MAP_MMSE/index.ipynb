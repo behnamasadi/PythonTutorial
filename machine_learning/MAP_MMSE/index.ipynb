{
 "cells": [
  {
   "cell_type": "markdown",
   "id": "3020ffd0",
   "metadata": {},
   "source": [
    "# MAP"
   ]
  },
  {
   "cell_type": "markdown",
   "id": "78b05afa",
   "metadata": {},
   "source": [
    "# MMSE"
   ]
  },
  {
   "cell_type": "markdown",
   "id": "419e19a0",
   "metadata": {},
   "source": [
    "Refs [1](https://twitter.com/docmilanfar/status/1589855121206579201)"
   ]
  }
 ],
 "metadata": {
  "kernelspec": {
   "display_name": "Python 3 (ipykernel)",
   "language": "python",
   "name": "python3"
  },
  "language_info": {
   "codemirror_mode": {
    "name": "ipython",
    "version": 3
   },
   "file_extension": ".py",
   "mimetype": "text/x-python",
   "name": "python",
   "nbconvert_exporter": "python",
   "pygments_lexer": "ipython3",
   "version": "3.10.6"
  }
 },
 "nbformat": 4,
 "nbformat_minor": 5
}
