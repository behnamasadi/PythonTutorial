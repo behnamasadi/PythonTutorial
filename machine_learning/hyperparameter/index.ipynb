{
 "cells": [
  {
   "cell_type": "markdown",
   "metadata": {},
   "source": [
    "# Model parameters and hyperparameters\n",
    "\n",
    "**Model parameters** are learned during training (i.e. weightsof neural network), **model hyperparameters** are set ahead of training (i.e. learning rates). Hyperparameters can be thought of as model settings. These settings need to be tuned because the ideal settings for one data set will not be the same across all data sets. When tuning the hyperparameters of an estimator, *Grid Search* and *Random Search* are both popular methods."
   ]
  },
  {
   "cell_type": "markdown",
   "metadata": {},
   "source": [
    "## Grid Search Hyperparameter\n",
    "\n",
    "Grid Search can be thought of as an exhaustive search (brute-force) for selecting a model. In Grid Search, we set up a grid of hyperparameter values and for each combination, trains a model and scores on the testing data. In this approach, every combination of hyperparameter values is tried which can be very inefficient.\n",
    "\n",
    "\n",
    "For example, searching $20$ different parameter values for each of $4$ parameters will require $4^{20}=160,000$ trials of cross-validation. This equates to $1,600,000$ model fits and $1,600,000$ predictions if 10-fold cross validation is used. \n",
    "\n",
    "## Random Search Hyperparameter\n",
    "\n",
    "Random Search sets up a grid of hyperparameter values and selects random combinations to train the model and score. This allows you to explicitly control the number of parameter combinations that are attempted. The number of search iterations is set based on time or resources. "
   ]
  },
  {
   "cell_type": "markdown",
   "metadata": {},
   "source": [
    "While it’s possible that RandomizedSearchCV will not find as accurate of a result as GridSearchCV, it surprisingly picks the best result more often than not and in a fraction of the time it takes GridSearchCV would have taken. Given the same resources, Randomized Search can even outperform Grid Search. This can be visualized in the graphic below when continuous parameters are used.\n",
    "\n",
    "\n",
    "In small data sets Grid Search perform better. With larger data sets, it’s advisable to instead perform a Randomized Search."
   ]
  },
  {
   "cell_type": "markdown",
   "metadata": {},
   "source": [
    "Refs [1](https://blog.usejournal.com/a-comparison-of-grid-search-and-randomized-search-using-scikit-learn-29823179bc85), [2](https://www.youtube.com/results?search_query=Random+Search+for+Hyper-Parameter+Optimization)"
   ]
  }
 ],
 "metadata": {
  "kernelspec": {
   "display_name": "Python 3",
   "language": "python",
   "name": "python3"
  },
  "language_info": {
   "codemirror_mode": {
    "name": "ipython",
    "version": 3
   },
   "file_extension": ".py",
   "mimetype": "text/x-python",
   "name": "python",
   "nbconvert_exporter": "python",
   "pygments_lexer": "ipython3",
   "version": "3.8.5"
  }
 },
 "nbformat": 4,
 "nbformat_minor": 4
}
