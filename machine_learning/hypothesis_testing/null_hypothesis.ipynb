{
 "cells": [
  {
   "cell_type": "markdown",
   "id": "f270a04c-b48a-4a94-b6a4-7354ac2fd516",
   "metadata": {},
   "source": [
    "# Hypothesis Testing\n",
    "\n",
    "\n",
    "When do you need a hypothesis? Whenever you want to prove or draw a conclusion about the population with a sample of that population.\n",
    "\n",
    "\n",
    "So we make a sample from a population, if you only want to describe that sample you use **descriptive statistic**, and you calculate for instance mean or standard deviation in order to describe the sample, but if we want to make a statement about the whole population, so we use our sample and with Hypothesis Testing we can infer the population, so the goal of Hypothesis Testing is use sample from a population to test a hypothesis about the population.\n",
    "\n",
    "When you want to formulate hypothesis there are always two hypothesis that claim the opposite\n",
    "\n",
    "## Null Hypothesis\n",
    "\n",
    "**Null Hypothesis ($ H_0 $)**: This is a statement that there is no effect or no difference. It's what you're trying to test against. For instance there is no difference between **Drug A** and **Drug B**.\n",
    "\n",
    "## Alternative Hypothesis \n",
    "**Alternative Hypothesis ($ H_a $ or $ H_1 $)**: This is what you want to prove, e.g., that there is a difference or an effect.\n",
    "For instance, **Drug A** is superior to Drug B.\n",
    "\n",
    "\n",
    "Hypothesis testing can only determine with a probability of error whether a Hypothesis is accepted or rejected.\n",
    "\n",
    "\n",
    "\n"
   ]
  }
 ],
 "metadata": {
  "kernelspec": {
   "display_name": "Python 3 (ipykernel)",
   "language": "python",
   "name": "python3"
  },
  "language_info": {
   "codemirror_mode": {
    "name": "ipython",
    "version": 3
   },
   "file_extension": ".py",
   "mimetype": "text/x-python",
   "name": "python",
   "nbconvert_exporter": "python",
   "pygments_lexer": "ipython3",
   "version": "3.13.2"
  }
 },
 "nbformat": 4,
 "nbformat_minor": 5
}
