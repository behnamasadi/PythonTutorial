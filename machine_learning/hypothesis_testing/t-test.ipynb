{
 "cells": [
  {
   "cell_type": "markdown",
   "id": "8ecc3012-0d45-4809-b30a-12a9a8b8a2cc",
   "metadata": {},
   "source": [
    "### t-test\n",
    "The t-test is a statistical test used to determine if there is a significant difference between the means of two groups, which may be related in certain features. It's widely used in hypothesis testing to assess the significance of the differences between two sample means. There are several types of t-tests, including:\n",
    "\n",
    "1. **One-sample t-test** compares the mean of a single group against a known mean. For instance a chocklate factory claim that its chockale br is 50 grams, We gather 30 bars and calculated the mean value which is 48 grams and we can compare it to the 50 grams.\n",
    "\n",
    "2. **Two-sample (independent) t-test** compares the means of two independent or unrelated groups to determine if there is a significant difference between them. Example: effectiveness of two painkillers on two groups of patient, compring the mean value of the time that painkiller took to effect.\n",
    "\n",
    "3. **Paired t-test** compares the means from the same group at different times (say, one year apart), or the means from two groups that are somehow related or paired. For example effectiveness of a diet, we calculated the mean weight of participants before a diet and after the diet. \n",
    "\n",
    "### Formula for Two-sample (independent) t-test\n",
    "\n",
    "The formula to calculate the t-value in an independent t-test is:\n",
    "\n",
    "$ t = \\frac{\\bar{X}_1 - \\bar{X}_2}{\\sqrt{ \\frac{s_1^2}{N_1} + \\frac{s_2^2}{N_2} }} $\n",
    "\n",
    "where:\n",
    "- $ \\bar{X}_1 $ and $ \\bar{X}_2 $ are the sample means,\n",
    "- $ s_1^2 $ and $ s_2^2 $ are the sample variances,\n",
    "- $ N_1 $ and $ N_2 $ are the sample sizes.\n",
    "\n",
    "The degrees of freedom (df) for this test is $ df = N_1 + N_2 - 2 $.\n",
    "\n",
    "After calculating the t-value, you compare it against a critical value from the t-distribution table based on your chosen significance level (alpha, typically 0.05) and degrees of freedom to determine if the difference is statistically significant.\n",
    "\n"
   ]
  }
 ],
 "metadata": {
  "kernelspec": {
   "display_name": "Python 3 (ipykernel)",
   "language": "python",
   "name": "python3"
  },
  "language_info": {
   "codemirror_mode": {
    "name": "ipython",
    "version": 3
   },
   "file_extension": ".py",
   "mimetype": "text/x-python",
   "name": "python",
   "nbconvert_exporter": "python",
   "pygments_lexer": "ipython3",
   "version": "3.13.2"
  }
 },
 "nbformat": 4,
 "nbformat_minor": 5
}
