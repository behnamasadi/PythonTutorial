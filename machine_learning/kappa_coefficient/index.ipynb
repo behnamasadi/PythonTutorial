{
 "cells": [
  {
   "cell_type": "markdown",
   "id": "ac0d9d26",
   "metadata": {},
   "source": [
    "## Cohen's Kappa coefficient \n",
    "In statistics, Cohen's Kappa coefficient ($ \\kappa $) is a statistic used to measure the agreement between two raters who each classify $ N $ items into $ C $ mutually exclusive categories. It is generally used for categorical data.\n",
    "\n",
    "### Calculation:\n",
    "\n",
    "The formula for Cohen's Kappa ($ \\kappa $) is:\n",
    "\n",
    "$ \\kappa = \\frac{(p_o - p_e)}{(1 - p_e)} $\n",
    "\n",
    "Where:\n",
    "- $ p_o $ is the relative observed agreement among raters (the proportion of the data where the raters agree).\n",
    "- $ p_e $ is the hypothetical probability of chance agreement.\n",
    "\n",
    "### Interpretation:\n",
    "\n",
    "- A kappa of 1 indicates perfect agreement between the two raters.\n",
    "- A kappa of 0 indicates agreement equivalent to chance.\n",
    "- A kappa less than 0 indicates disagreement or an agreement worse than chance.\n",
    "\n",
    "### Example:\n",
    "\n",
    "Suppose two raters are classifying objects into two categories. The observed agreement ($ p_o $) might be the proportion of objects that both raters classify into the same category. The expected agreement ($ p_e $) would be the proportion of objects that would be expected to fall into each category by chance.\n",
    "\n",
    "### Limitations:\n",
    "\n",
    "- Cohen's Kappa works for two raters only. For more than two raters, an extension like Fleiss’ Kappa is used.\n",
    "- It is applicable to categorical data, not continuous data.\n",
    "- The raters should independently classify the items into the categories.\n",
    "\n",
    "### Applications:\n",
    "\n",
    "Cohen's Kappa is widely used in various fields such as medicine, psychology, and social sciences, where researchers are often interested in measuring the degree of agreement among different raters or classifiers assessing the same set of objects."
   ]
  }
 ],
 "metadata": {
  "kernelspec": {
   "display_name": "Python 3 (ipykernel)",
   "language": "python",
   "name": "python3"
  },
  "language_info": {
   "codemirror_mode": {
    "name": "ipython",
    "version": 3
   },
   "file_extension": ".py",
   "mimetype": "text/x-python",
   "name": "python",
   "nbconvert_exporter": "python",
   "pygments_lexer": "ipython3",
   "version": "3.10.6"
  }
 },
 "nbformat": 4,
 "nbformat_minor": 5
}
