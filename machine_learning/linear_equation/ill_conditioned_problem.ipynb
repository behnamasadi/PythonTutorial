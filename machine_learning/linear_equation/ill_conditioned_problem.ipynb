{
 "cells": [
  {
   "cell_type": "markdown",
   "id": "93dbac04-6322-4e53-9056-0b7b9c45a830",
   "metadata": {},
   "source": [
    "## Ill-conditioned problem\n",
    "An ill-conditioned problem is a situation where the output of the problem is highly sensitive to small changes in the input. This characteristic is common in numerical computations such as solving equations or optimization problems. Ill-conditioning can lead to inaccurate results and numerical instability.\n",
    "\n",
    "### Example of an Ill-Conditioned Problem\n",
    "\n",
    "One classic example of an ill-conditioned problem is the solution of a system of linear equations, especially when the matrix of coefficients is close to singular. Here's a simple example:\n",
    "\n",
    "Consider the system of linear equations given by the matrix equation $Ax = b$, where\n",
    "\n",
    "$ A = \\begin{bmatrix} 1 & 2 \\\\ 1.0001 & 2 \\end{bmatrix}, \\quad b = \\begin{bmatrix} 3 \\\\ 3.0001 \\end{bmatrix} $\n",
    "\n",
    "Here, matrix $A$ is nearly singular because the rows of $A$ are nearly linearly dependent (they are very close to each other).\n",
    "\n"
   ]
  },
  {
   "cell_type": "markdown",
   "id": "a5bff6e9-0946-4b57-b27c-eec3af75e812",
   "metadata": {},
   "source": [
    "To further illustrate the problem of ill-conditioning in the matrix $A$ from the example above, we can see how a slight change in $A$ itself can affect the solution dramatically. We'll create a small perturbation in the matrix $A$ and observe how it impacts the solution $x$.\n",
    "\n",
    "Here's what we'll do:\n",
    "1. Perturb matrix $A$ slightly by adding a very small value to one of its elements.\n",
    "2. Solve the linear system with the perturbed matrix.\n",
    "3. Compare the solution with the original solution to see how much it changes.\n",
    "\n",
    "Let's implement this to better understand the sensitivity caused by the ill-conditioning of $A$.\n",
    "\n",
    "After perturbing matrix $A$ by adding just 0.0001 to its (2,2) entry, the new matrix $A$ becomes:\n",
    "\n",
    "$ A_{\\text{perturbed}} = \\begin{bmatrix} 1 & 2 \\\\ 1.0001 & 2.0001 \\end{bmatrix} $\n",
    "\n",
    "For this perturbed matrix $A_{\\text{perturbed}}$, the solution $x$ to the system $Ax = b$ changes to:\n",
    "\n",
    "$ x = \\begin{bmatrix} -1 \\\\ 2 \\end{bmatrix} $\n",
    "\n",
    "Compared to the original solution:\n",
    "\n",
    "$ x = \\begin{bmatrix} 1 \\\\ 1 \\end{bmatrix} $\n",
    "\n",
    "This change in the solution is substantial, given the minimal alteration to the matrix $A$. This dramatic change in the solution from a slight perturbation in the matrix elements underscores the ill-conditioned nature of the problem. Small inaccuracies in the data or computation can lead to significantly different results, making it crucial to handle such systems carefully, particularly in precision-sensitive applications."
   ]
  },
  {
   "cell_type": "code",
   "execution_count": 2,
   "id": "cb39f881-d6d2-4252-86af-159ba603cd3f",
   "metadata": {},
   "outputs": [
    {
     "data": {
      "text/plain": [
       "(50001.000029925155, array([1., 1.]), array([0.     , 1.50005]))"
      ]
     },
     "execution_count": 2,
     "metadata": {},
     "output_type": "execute_result"
    }
   ],
   "source": [
    "import numpy as np\n",
    "\n",
    "# Define the matrix A and vector b\n",
    "A = np.array([[1, 2], [1.0001, 2]])\n",
    "b = np.array([3, 3.0001])\n",
    "\n",
    "# Compute the inverse of A if possible and the condition number\n",
    "A_inv = np.linalg.inv(A)\n",
    "cond_number = np.linalg.cond(A)\n",
    "\n",
    "# Compute the solution x\n",
    "x = np.linalg.solve(A, b)\n",
    "\n",
    "# Create a small perturbation in b and solve again\n",
    "b_perturbed = b + np.array([0.0001, 0])\n",
    "x_perturbed = np.linalg.solve(A, b_perturbed)\n",
    "\n",
    "cond_number, x, x_perturbed\n"
   ]
  },
  {
   "cell_type": "markdown",
   "id": "d54569eb-c40b-4d8b-aee1-645084b52ec9",
   "metadata": {},
   "source": [
    "### Finding Ill-Conditioning\n",
    "\n",
    "To determine if a problem is ill-conditioned, you can:\n",
    "\n",
    "1. **Condition Number**: Calculate the condition number of the matrix $A$ in the context of solving $Ax = b$. The condition number, given by $\\kappa(A) = \\|A\\| \\|A^{-1}\\|$, measures the sensitivity of the function's output relative to its input. A high condition number (significantly greater than 1) indicates an ill-conditioned matrix.\n",
    "\n",
    "2. **Eigenvalues**: Analyze the eigenvalues of $A$. If the ratio of the largest to smallest eigenvalue (absolute values) is large, the matrix is ill-conditioned.\n",
    "\n",
    "3. **Numerical Experiments**: Introduce small perturbations to $A$ and $b$ and observe the variation in the solution $x$. Large variations suggest ill-conditioning.\n",
    "\n"
   ]
  },
  {
   "cell_type": "markdown",
   "id": "e1d1f749-91ab-4caf-bf68-7633cf7c7731",
   "metadata": {},
   "source": [
    "### Solving an Ill-Conditioned Problem\n",
    "\n",
    "To solve or mitigate the effects of an ill-conditioned problem, you can:\n",
    "\n",
    "1. **Improve Numerical Precision**: Use higher precision in your calculations if possible. This reduces the rounding errors that exacerbate ill-conditioning effects.\n",
    "\n",
    "2. **Regularization**: Add a small value, say $\\epsilon$, to the diagonal elements of $A$ (if applicable). This technique, known as regularization, can help make $A$ more stable and less sensitive to perturbations in $b$.\n",
    "\n",
    "3. **Use Stable Algorithms**: Employ numerical methods that are specifically designed to handle ill-conditioned matrices. For example, using the Singular Value Decomposition (SVD) for solving linear equations is more stable than using the normal equation directly.\n",
    "\n",
    "4. **Rescaling**: Rescale the problem when possible to balance out the scale of the data, which can improve the condition number of the matrix.\n",
    "\n",
    "Let's demonstrate how to calculate the condition number of matrix $A$ using Python, and then perturb $b$ slightly to observe the sensitivity in the solution.\n",
    "\n",
    "The condition number of the matrix $A$ is approximately 50,001, which is very high, indicating that the problem is indeed ill-conditioned.\n",
    "\n",
    "For the original vector $b$, the solution $x$ to the system $Ax = b$ is:\n",
    "\n",
    "$ x = \\begin{bmatrix} 1 \\\\ 1 \\end{bmatrix} $\n",
    "\n",
    "However, after introducing a tiny perturbation to $b$ (adding 0.0001 to the first component), the solution $x$ changes drastically to:\n",
    "\n",
    "$ x = \\begin{bmatrix} 0 \\\\ 1.50005 \\end{bmatrix} $\n",
    "\n",
    "This significant change in the solution from a minor change in $b$ exemplifies the sensitivity due to the ill-conditioning of the matrix $A$.\n",
    "\n",
    "To address this problem, one might consider techniques like regularization or using more stable numerical methods, such as SVD, as mentioned earlier. These approaches can help reduce the impact of such sensitivity and produce more reliable results."
   ]
  }
 ],
 "metadata": {
  "kernelspec": {
   "display_name": "Python 3 (ipykernel)",
   "language": "python",
   "name": "python3"
  },
  "language_info": {
   "codemirror_mode": {
    "name": "ipython",
    "version": 3
   },
   "file_extension": ".py",
   "mimetype": "text/x-python",
   "name": "python",
   "nbconvert_exporter": "python",
   "pygments_lexer": "ipython3",
   "version": "3.12.3"
  }
 },
 "nbformat": 4,
 "nbformat_minor": 5
}
