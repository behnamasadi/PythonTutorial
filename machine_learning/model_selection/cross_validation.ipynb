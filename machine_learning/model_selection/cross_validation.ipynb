{
 "cells": [
  {
   "cell_type": "markdown",
   "id": "a87fee59-8a89-40a7-8993-bfd842b80bc7",
   "metadata": {},
   "source": [
    "## Leave-One-Out Cross-Validation (LOOCV)\n",
    "## Stratified Cross-Validation"
   ]
  }
 ],
 "metadata": {
  "kernelspec": {
   "display_name": "Python 3 (ipykernel)",
   "language": "python",
   "name": "python3"
  },
  "language_info": {
   "codemirror_mode": {
    "name": "ipython",
    "version": 3
   },
   "file_extension": ".py",
   "mimetype": "text/x-python",
   "name": "python",
   "nbconvert_exporter": "python",
   "pygments_lexer": "ipython3",
   "version": "3.13.2"
  }
 },
 "nbformat": 4,
 "nbformat_minor": 5
}
