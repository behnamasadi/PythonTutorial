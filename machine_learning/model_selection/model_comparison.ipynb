{
 "cells": [
  {
   "cell_type": "markdown",
   "id": "e48f8cd3-0768-440d-bffe-7b92a9efd2c4",
   "metadata": {},
   "source": [
    "## Likelihood Ratio Test\n",
    "## F-Test for Nested Models"
   ]
  }
 ],
 "metadata": {
  "kernelspec": {
   "display_name": "Python 3 (ipykernel)",
   "language": "python",
   "name": "python3"
  },
  "language_info": {
   "codemirror_mode": {
    "name": "ipython",
    "version": 3
   },
   "file_extension": ".py",
   "mimetype": "text/x-python",
   "name": "python",
   "nbconvert_exporter": "python",
   "pygments_lexer": "ipython3",
   "version": "3.13.2"
  }
 },
 "nbformat": 4,
 "nbformat_minor": 5
}
