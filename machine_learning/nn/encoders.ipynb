{
 "cells": [
  {
   "cell_type": "markdown",
   "id": "moderate-diversity",
   "metadata": {},
   "source": [
    "# Variational Autoencoders\n",
    "\n",
    "\n",
    "Refs: [1](https://www.youtube.com/watch?v=9zKuYvjFFS8&ab_channel=ArxivInsights)"
   ]
  },
  {
   "cell_type": "markdown",
   "id": "daily-sunglasses",
   "metadata": {},
   "source": [
    "# Reparameterisation Trick\n",
    "\n",
    "\n",
    "Refs: [1](https://stats.stackexchange.com/questions/199605/how-does-the-reparameterization-trick-for-vaes-work-and-why-is-it-important)"
   ]
  }
 ],
 "metadata": {
  "kernelspec": {
   "display_name": "Python 3",
   "language": "python",
   "name": "python3"
  },
  "language_info": {
   "codemirror_mode": {
    "name": "ipython",
    "version": 3
   },
   "file_extension": ".py",
   "mimetype": "text/x-python",
   "name": "python",
   "nbconvert_exporter": "python",
   "pygments_lexer": "ipython3",
   "version": "3.7.10"
  }
 },
 "nbformat": 4,
 "nbformat_minor": 5
}
