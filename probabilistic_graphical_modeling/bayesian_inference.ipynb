{
 "cells": [
  {
   "cell_type": "markdown",
   "id": "2e0d7fbc",
   "metadata": {},
   "source": [
    "## Bayesian Inference\n",
    "Bayesian inference is a method of statistical inference in which Bayes' theorem is used to update the probability for a hypothesis as more evidence or information becomes available. It's a powerful framework for understanding how our beliefs or states of knowledge about the world should logically change in the light of new evidence. Here's a breakdown of its components and how it works:\n",
    "\n",
    "1. **Prior Probability $P(H)$**: This represents our initial belief about the probability of a hypothesis $H$ before we see any new data or evidence. It reflects what we know about the situation prior to the latest information.\n",
    "\n",
    "2. **Likelihood $P(E|H)$**: This is the probability of observing the evidence $E$ given that the hypothesis $H$ is true. It measures how likely we are to observe the evidence if the hypothesis holds.\n",
    "\n",
    "3. **Evidence $P(E)$**: Also known as the marginal likelihood, this is the probability of observing the evidence under all possible hypotheses. It can be calculated by considering all possible states of the world (all hypotheses) and summing or integrating over them.\n",
    "\n",
    "4. **Posterior Probability $P(H|E)$**: This is what Bayesian inference aims to compute - the probability of the hypothesis $H$ after taking into account the new evidence $E$ and our prior belief. This represents our updated belief about the hypothesis in light of the new evidence.\n",
    "\n",
    "Bayes' theorem provides the mathematical formula for computing the posterior probability:\n",
    "\n",
    "$ P(H|E) = \\frac{P(E|H) \\cdot P(H)}{P(E)} $\n",
    "\n",
    "In words, the posterior probability of a hypothesis given the evidence is proportional to the likelihood of the evidence given the hypothesis multiplied by the prior probability of the hypothesis, all divided by the probability of the evidence.\n",
    "\n",
    "Bayesian inference is applied in a wide range of fields, including medicine, finance, and machine learning. It allows for a systematic way to update beliefs in light of new information, handling uncertainty and making predictions based on incomplete or evolving data.\n",
    "\n",
    "Refs: [1](http://www.cs.cmu.edu/~nasmith/psnlp/lecture2.pdf)"
   ]
  }
 ],
 "metadata": {
  "kernelspec": {
   "display_name": "Python 3 (ipykernel)",
   "language": "python",
   "name": "python3"
  },
  "language_info": {
   "codemirror_mode": {
    "name": "ipython",
    "version": 3
   },
   "file_extension": ".py",
   "mimetype": "text/x-python",
   "name": "python",
   "nbconvert_exporter": "python",
   "pygments_lexer": "ipython3",
   "version": "3.10.13"
  }
 },
 "nbformat": 4,
 "nbformat_minor": 5
}
