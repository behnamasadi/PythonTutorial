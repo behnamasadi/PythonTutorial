{
 "cells": [
  {
   "cell_type": "markdown",
   "id": "respective-terrain",
   "metadata": {},
   "source": [
    "# Approaches to Bayesian inference\n",
    "\n",
    "## 1) Approximate\n",
    "### 1-1) Randomized\n",
    "#### 1-1-1) importance sampling\n",
    "#### 1-1-2) MCMC\n",
    "#### 1-1-2-1) Gibbs\n",
    "### 1-2) Determinis\n",
    "#### 1-2-1) variational\n",
    "##### 1-2-1-1) mean field\n",
    "#### 1-2-2) loopy belief propagation\n",
    "#### 1-2-3) LP relaxations\n",
    "##### 1-2-3-1) dual decomp\n",
    "#### 1-2-4) beam search\n",
    "##### 1-2-4-1) local search\n",
    "\n",
    "## 2) Exact\n",
    "### 2-1) ILP\n",
    "### 2-2) variable Elimination\n",
    "#### 2-2-1) Dynamic Programing\n",
    "\n",
    "Refs [1](http://www.cs.cmu.edu/~nasmith/psnlp/lecture2.pdf)"
   ]
  }
 ],
 "metadata": {
  "kernelspec": {
   "display_name": "Python 3",
   "language": "python",
   "name": "python3"
  },
  "language_info": {
   "codemirror_mode": {
    "name": "ipython",
    "version": 3
   },
   "file_extension": ".py",
   "mimetype": "text/x-python",
   "name": "python",
   "nbconvert_exporter": "python",
   "pygments_lexer": "ipython3",
   "version": "3.7.10"
  }
 },
 "nbformat": 4,
 "nbformat_minor": 5
}
