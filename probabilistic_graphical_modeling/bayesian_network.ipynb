{
 "cells": [
  {
   "cell_type": "markdown",
   "id": "rubber-summit",
   "metadata": {},
   "source": [
    "# Bayesian network (Bayes network, belief network, or decision network, Directed graphical models)\n",
    "\n",
    "It is a probabilistic graphical model that represents a set of variables and their conditional dependencies via a directed acyclic graph (DAG).\n",
    "\n",
    "A compact Bayesian network is a distribution in which each factor on the right hand side depends only on a small number of ancestor variables $x_{A_i}$\n",
    "\n",
    "$p(x_i \\mid x_{i-1}, \\dotsc, x_1) = p(x_i \\mid x_{A_i}).$\n",
    "\n",
    "For example, in a model with five variables, we may choose to approximate the factor $p(x_5 \\mid x_4, x_3, x_2, x_1)$ with $p(x_5 \\mid x_4, x_3)$, meaning $x_{A_5} = \\{x_4, x_3\\}$.\n",
    "\n",
    "### Examples\n",
    "\n",
    "\n",
    "<img width=\"300\" height=\"200\" src='../probability/images/grade-model.png'>\n",
    "\n",
    "$p(l, g, i, d, s) = p(l \\mid g)\\, p(g \\mid i, d)\\, p(i)\\, p(d)\\, p(s \\mid i).$\n",
    "\n",
    "<img src=\"../probability/images/win_rain_wet.jpg\" alt=\"\" />\n",
    "\n",
    "\n",
    "$P(L,R,W)=P(L)P(R)P(W|R)$\n",
    "\n",
    "\n",
    "<img src=\"../probability/images/rain_wet_car_slip.jpg\" alt=\"\" />\n",
    "\n",
    "$P(R,W,C,S)=P(R)P(C)P(W|C,R)P(S|W)$\n",
    "\n",
    "<img src=\"../probability/images/SimpleBayesNet.svg\" alt=\"\" />\n",
    "\n",
    "The chain rule will give us the followings:\n",
    "\n",
    "\n",
    "${\\displaystyle P(G,S,R)=P(G\\mid S,R)P(S\\mid R)P(R)}$\n",
    "\n",
    "\n",
    "What is the probability that it is raining, given the grass is wet? By applying bayes rule and then marginalisation:\n",
    "\n",
    "${\\displaystyle P(R=T\\mid G=T)={\\frac {P(G=T,R=T)}{P(G=T)}}={\\frac {\\sum _{x\\in \\{T,F\\}}P(G=T,S=x,R=T)}{\\sum _{x,y\\in \\{T,F\\}}P(G=T,S=x,R=y)}}}$\n",
    "\n",
    "Now using the expansion for the joint probability function ${\\displaystyle \\Pr(G,S,R)}$ and the conditional probabilities from the conditional probability tables:\n",
    "\n",
    "\n",
    "${\\displaystyle {\\begin{aligned}P(G=T,S=T,R=T)&=P(G=T\\mid S=T,R=T)P(S=T\\mid R=T)P(R=T)\\\\&=0.99\\times 0.01\\times 0.2\\\\&=0.00198.\\end{aligned}}}$\n",
    "\n",
    "\n",
    "${\\displaystyle P(R=T\\mid G=T)={\\frac {0.00198_{TTT}+0.1584_{TFT}}{0.00198_{TTT}+0.288_{TTF}+0.1584_{TFT}+0.0_{TFF}}}={\\frac {891}{2491}}\\approx 35.77\\%.}$\n",
    "\n",
    "\n",
    "Refs: [1](https://www.youtube.com/watch?v=TuGDMj43ehw)"
   ]
  }
 ],
 "metadata": {
  "kernelspec": {
   "display_name": "Python 3 (ipykernel)",
   "language": "python",
   "name": "python3"
  },
  "language_info": {
   "codemirror_mode": {
    "name": "ipython",
    "version": 3
   },
   "file_extension": ".py",
   "mimetype": "text/x-python",
   "name": "python",
   "nbconvert_exporter": "python",
   "pygments_lexer": "ipython3",
   "version": "3.10.6"
  }
 },
 "nbformat": 4,
 "nbformat_minor": 5
}
