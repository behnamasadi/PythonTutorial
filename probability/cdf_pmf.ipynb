{
 "cells": [
  {
   "cell_type": "markdown",
   "id": "variable-shanghai",
   "metadata": {},
   "source": [
    "## Cumulative Distribution Function\n",
    "CDF of a real-valued random variable ${\\displaystyle X}$,evaluated at ${\\displaystyle x}$, is the probability that ${\\displaystyle X}$ will take a value less than or equal to ${\\displaystyle x}$\n",
    "\n",
    " ${\\displaystyle F:\\mathbb {R} \\rightarrow [0,1]}$ satisfying \n",
    " \n",
    " ${\\displaystyle \\lim _{x\\rightarrow -\\infty }F(x)=0}$   and  ${\\displaystyle \\lim _{x\\rightarrow \\infty }F(x)=1}$\n",
    " \n",
    " \n",
    " \n",
    "${\\displaystyle F_{X}(x)=\\operatorname {P} (X\\leq x)}$\n",
    "\n",
    " where the right-hand side represents the probability that the random variable $X$ takes on a value less than or equal to $x$\n",
    " \n",
    " ${\\displaystyle \\operatorname {P} (a<X\\leq b)=F_{X}(b)-F_{X}(a)}$\n",
    " \n",
    "### Discrete Rndom Variable \n",
    "If $X$ is a purely discrete random variable, then it attains values ${\\displaystyle x_{1},x_{2},\\ldots }$   with probability ${\\displaystyle p_{i}=p(x_{i})}$, and the CDF of $X$ will be discontinuous at the points $x_{i}$:\n",
    "\n",
    "${\\displaystyle F_{X}(x)=\\operatorname {P} (X\\leq x)=\\sum _{x_{i}\\leq x}\\operatorname {P} (X=x_{i})=\\sum _{x_{i}\\leq x}p(x_{i}).} $\n",
    "\n",
    "\n",
    "### Continuous Random Variable \n",
    "The CDF of a continuous random variable {\\displaystyle X}X can be expressed as follows:\n",
    "\n",
    "\n",
    "${\\displaystyle F_{X}(x)=\\int _{-\\infty }^{x}f_{X}(t)\\,dt.}F_{X}(x)$\n",
    "\n",
    "### Examples\n",
    "1) suppose $X$ is uniformly distributed on the unit interval ${\\displaystyle [0,1]}$.\n",
    "\n",
    "2) Suppose $X$ is exponential distributed. Then the CDF of $X$ is given by\n",
    "\n",
    "${\\displaystyle F_{X}(x;\\lambda )={\\begin{cases}1-e^{-\\lambda x}&x\\geq 0,\\\\0&x<0.\\end{cases}}}$\n",
    "\n",
    "3) Suppose {\\displaystyle X}X is normal distributed. Then the CDF of {\\displaystyle X}X is given by\n",
    "\n",
    "${\\displaystyle F(x;\\mu ,\\sigma )={\\frac {1}{\\sigma {\\sqrt {2\\pi }}}}\\int _{-\\infty }^{x}\\exp \\left(-{\\frac {(t-\\mu )^{2}}{2\\sigma ^{2}}}\\ \\right)\\,dt.}$\n",
    "\n",
    "4) Suppose $X$ is binomial distributed. Then the CDF of $X$ is given by\n",
    "\n",
    "${\\displaystyle F(k;n,p)=\\Pr(X\\leq k)=\\sum _{i=0}^{\\lfloor k\\rfloor }{n \\choose i}p^{i}(1-p)^{n-i}}$"
   ]
  },
  {
   "cell_type": "markdown",
   "id": "complimentary-painting",
   "metadata": {},
   "source": [
    "## Probability mass function\n",
    "PMF is a function that gives the probability that a discrete random variable is exactly equal to some value\n",
    "\n"
   ]
  },
  {
   "cell_type": "markdown",
   "id": "optional-viking",
   "metadata": {},
   "source": [
    " ## Probability Density Function"
   ]
  }
 ],
 "metadata": {
  "kernelspec": {
   "display_name": "Python 3",
   "language": "python",
   "name": "python3"
  },
  "language_info": {
   "codemirror_mode": {
    "name": "ipython",
    "version": 3
   },
   "file_extension": ".py",
   "mimetype": "text/x-python",
   "name": "python",
   "nbconvert_exporter": "python",
   "pygments_lexer": "ipython3",
   "version": "3.7.10"
  }
 },
 "nbformat": 4,
 "nbformat_minor": 5
}
