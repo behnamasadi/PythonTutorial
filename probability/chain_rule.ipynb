{
 "cells": [
  {
   "cell_type": "markdown",
   "id": "aggregate-thriller",
   "metadata": {},
   "source": [
    "## Chain Rule\n",
    "\n",
    "For two random variables $X,Y$\n",
    "\n",
    "\n",
    "${\\displaystyle \\mathrm {P} (X,Y)=\\mathrm {P} (X\\mid Y)\\cdot P(Y)}$\n",
    "\n",
    "\n",
    "More than two random variables:\n",
    "\n",
    "${\\displaystyle \\mathrm {P} (X_{n},\\ldots ,X_{1})=\\mathrm {P} (X_{n}|X_{n-1},\\ldots ,X_{1})\\cdot \\mathrm {P} (X_{n-1},\\ldots ,X_{1})}$\n",
    "\n",
    "For example:\n",
    "\n",
    "${\\displaystyle {\\begin{aligned}\\mathrm {P} (X_{4},X_{3},X_{2},X_{1})&=\\mathrm {P} (X_{4}\\mid X_{3},X_{2},X_{1})\\cdot \\mathrm {P} (X_{3},X_{2},X_{1})\\\\&=\\mathrm {P} (X_{4}\\mid X_{3},X_{2},X_{1})\\cdot \\mathrm {P} (X_{3}\\mid X_{2},X_{1})\\cdot \\mathrm {P} (X_{2},X_{1})\\\\&=\\mathrm {P} (X_{4}\\mid X_{3},X_{2},X_{1})\\cdot \\mathrm {P} (X_{3}\\mid X_{2},X_{1})\\cdot \\mathrm {P} (X_{2}\\mid X_{1})\\cdot \\mathrm {P} (X_{1})\\end{aligned}}}$\n",
    "\n",
    "\n",
    "\n",
    "${\\displaystyle \\mathrm {P} \\left(\\bigcap _{k=1}^{n}X_{k}\\right)=\\prod _{k=1}^{n}\\mathrm {P} \\left(X_{k}\\,{\\Bigg |}\\,\\bigcap _{j=1}^{k-1}X_{j}\\right)}$"
   ]
  }
 ],
 "metadata": {
  "kernelspec": {
   "display_name": "Python 3 (ipykernel)",
   "language": "python",
   "name": "python3"
  },
  "language_info": {
   "codemirror_mode": {
    "name": "ipython",
    "version": 3
   },
   "file_extension": ".py",
   "mimetype": "text/x-python",
   "name": "python",
   "nbconvert_exporter": "python",
   "pygments_lexer": "ipython3",
   "version": "3.10.13"
  }
 },
 "nbformat": 4,
 "nbformat_minor": 5
}
