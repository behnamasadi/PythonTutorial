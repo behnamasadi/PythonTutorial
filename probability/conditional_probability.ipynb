{
 "cells": [
  {
   "cell_type": "markdown",
   "id": "copyrighted-inspection",
   "metadata": {},
   "source": [
    "## Conditional probability tables\n",
    "When the variables are discrete  we may think of the factors $p(x_i\\mid x_{A_i})$ as probability tables. rows correspond to assignments to $x_{A_i}$ and columns correspond to values of $x_i$. the entries contain the actual probabilities $p(x_i\\mid x_{A_i})$\n",
    "\n"
   ]
  },
  {
   "cell_type": "markdown",
   "id": "fuzzy-diesel",
   "metadata": {},
   "source": [
    "## Conditionally Independent\n",
    "\n",
    "If $A$ and $B$ are conditionally independent of $C$, written symbolically as: ${\\displaystyle (A\\perp \\!\\!\\!\\perp B|C)}$\n",
    "\n",
    "$P(A,B|C)=P(A|C)P(B|C)$\n",
    "\n",
    "$P(A|B,C)=P(A|C)$\n",
    "\n",
    "\n",
    "The concept of conditional independence can be visually represented using probability trees, Venn diagrams, or Bayesian networks. However, let's consider a simple Venn diagram with two events $A$ and $B$, and given that a third event $ C$ has occurred.\n",
    "\n",
    "1. **Event A**: The shaded area for A represents $ P(A | C) $\n",
    "2. **Event B**: The shaded area for B represents $ P(B | C) $\n",
    "3. **Event C**: The presence of C as the bounding box indicates we are looking at probabilities conditional on C.\n",
    "\n",
    "Assuming $ A$ and $ B $ are conditionally independent given $ C $, then the following holds:\n",
    "$\n",
    "P(A \\cap B | C) = P(A | C) \\times P(B | C)\n",
    "$\n",
    "\n",
    "You would represent this by showing that the overlap between A and B, given $C$, can be calculated as the product of the individual conditional probabilities.\n",
    "\n",
    "### Diagram\n",
    "\n",
    "Imagine a bounding box for event C; inside this box, we have two overlapping circles, one for event A and another for event B. \n",
    "\n",
    "```\n",
    "                      ---------------\n",
    "                     |       C       |\n",
    "                     |  -----------  |\n",
    "                     | |     A     | |\n",
    "                     | | --------- | |\n",
    "                     | | |   A∩B  | | |\n",
    "                     | | |________| | |\n",
    "                     | |     B       | |\n",
    "                     | --------------- |\n",
    "                      -----------------\n",
    "```\n",
    "\n",
    "### Calculating Area\n",
    "\n",
    "If we treat these shapes as geometric areas, we could say:\n",
    "\n",
    "- Area of $ C = 1 $ (because we're looking at conditional probabilities)\n",
    "- Area of $ A $ inside $ C = P(A | C) $\n",
    "- Area of $ B $ inside $ C = P(B | C) $\n",
    "- Overlapping Area of $ A $ and $ B $ inside $ C = P(A \\cap B | C) $\n",
    "\n",
    "Since $ A $ and $ B $ are conditionally independent given $ C $:\n",
    "$\n",
    "\\text{Area of \\( A \\cap B \\) inside \\( C \\)} = \\text{Area of \\( A \\) inside \\( C \\)} \\times \\text{Area of \\( B \\) inside \\( C \\)}\n",
    "$\n",
    "\n",
    "That would mean $ P(A \\cap B | C) = P(A | C) \\times P(B | C) $.\n",
    "\n",
    "In this case, the area representing $ A \\cap B $ within the boundary of $ C $ can be directly calculated by the product of the conditional probabilities of $ A $ and $ B $, given $ C $.\n"
   ]
  },
  {
   "cell_type": "markdown",
   "id": "modern-cathedral",
   "metadata": {},
   "source": [
    "## Independent Event\n",
    "\n",
    "Two events $A,B$ are said to be statistically independent if and only if \n",
    "\n",
    "$P(A,B)=P(A)P(B)$\n",
    "\n",
    "$P(A|B)=\\frac{P(A,B)}{P(B)}=\\frac{P(A)P(B)}{P(B)}=P(A)$\n",
    "\n",
    "Also $\\bar{B}$ and $A$ are independent, $P(A,\\bar{B})=P(A)P(\\bar{B})$\n",
    "\n",
    "If $X$ and $Y$ are independent random variables, then the expectation operator $\\operatorname {E}$  has the property\n",
    "\n",
    "${\\displaystyle \\operatorname {E} [XY]=\\operatorname {E} [X]\\operatorname {E} [Y]}$\n",
    "\n",
    "\n",
    "and the covariance ${\\displaystyle \\operatorname {cov} [X,Y]}$ is zero, as follows from\n",
    "\n",
    "${\\displaystyle \\operatorname {cov} [X,Y]=\\operatorname {E} [XY]-\\operatorname {E} [X]\\operatorname {E} [Y].}$\n",
    "\n"
   ]
  }
 ],
 "metadata": {
  "kernelspec": {
   "display_name": "Python 3 (ipykernel)",
   "language": "python",
   "name": "python3"
  },
  "language_info": {
   "codemirror_mode": {
    "name": "ipython",
    "version": 3
   },
   "file_extension": ".py",
   "mimetype": "text/x-python",
   "name": "python",
   "nbconvert_exporter": "python",
   "pygments_lexer": "ipython3",
   "version": "3.10.6"
  }
 },
 "nbformat": 4,
 "nbformat_minor": 5
}
