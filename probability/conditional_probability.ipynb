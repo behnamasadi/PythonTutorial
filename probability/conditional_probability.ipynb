{
 "cells": [
  {
   "cell_type": "markdown",
   "id": "copyrighted-inspection",
   "metadata": {},
   "source": [
    "## Conditional probability tables\n",
    "When the variables are discrete  we may think of the factors $p(x_i\\mid x_{A_i})$ as probability tables. rows correspond to assignments to $x_{A_i}$ and columns correspond to values of $x_i$. the entries contain the actual probabilities $p(x_i\\mid x_{A_i})$\n",
    "\n"
   ]
  },
  {
   "cell_type": "markdown",
   "id": "fuzzy-diesel",
   "metadata": {},
   "source": [
    "## Conditionally Independent\n",
    "\n",
    "If $A$ and $B$ are conditionally independent of $C$, written symbolically as: ${\\displaystyle (A\\perp \\!\\!\\!\\perp B|C)}$\n",
    "\n",
    "$P(A,B|C)=P(A|C)P(B|C)$\n",
    "\n",
    "$P(A|B,C)=P(A|C)$\n"
   ]
  },
  {
   "cell_type": "markdown",
   "id": "modern-cathedral",
   "metadata": {},
   "source": [
    "## Independent Event\n",
    "\n",
    "Two events $A,B$ are said to be statistically independent if and only if \n",
    "\n",
    "$P(A,B)=P(A)P(B)$\n",
    "\n",
    "$P(A|B)=\\frac{P(A,B)}{P(B)}=\\frac{P(A)P(B)}{P(B)}=P(A)$\n",
    "\n",
    "Also $\\bar{B}$ and $A$ are independent, $P(A,\\bar{B})=P(A)P(\\bar{B})$\n",
    "\n",
    "If $X$ and $Y$ are independent random variables, then the expectation operator $\\operatorname {E}$  has the property\n",
    "\n",
    "${\\displaystyle \\operatorname {E} [XY]=\\operatorname {E} [X]\\operatorname {E} [Y]}$\n",
    "\n",
    "\n",
    "and the covariance ${\\displaystyle \\operatorname {cov} [X,Y]}$ is zero, as follows from\n",
    "\n",
    "${\\displaystyle \\operatorname {cov} [X,Y]=\\operatorname {E} [XY]-\\operatorname {E} [X]\\operatorname {E} [Y].}$\n",
    "\n"
   ]
  }
 ],
 "metadata": {
  "kernelspec": {
   "display_name": "Python 3",
   "language": "python",
   "name": "python3"
  },
  "language_info": {
   "codemirror_mode": {
    "name": "ipython",
    "version": 3
   },
   "file_extension": ".py",
   "mimetype": "text/x-python",
   "name": "python",
   "nbconvert_exporter": "python",
   "pygments_lexer": "ipython3",
   "version": "3.7.10"
  }
 },
 "nbformat": 4,
 "nbformat_minor": 5
}
