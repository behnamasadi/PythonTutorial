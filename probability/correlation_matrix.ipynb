{
 "cells": [
  {
   "cell_type": "markdown",
   "id": "constitutional-million",
   "metadata": {},
   "source": [
    "## Correlation matrix\n",
    "\n",
    "Refs: [1](https://en.wikipedia.org/wiki/Correlation_and_dependence#Correlation_matrices)"
   ]
  }
 ],
 "metadata": {
  "kernelspec": {
   "display_name": "Python 3",
   "language": "python",
   "name": "python3"
  },
  "language_info": {
   "codemirror_mode": {
    "name": "ipython",
    "version": 3
   },
   "file_extension": ".py",
   "mimetype": "text/x-python",
   "name": "python",
   "nbconvert_exporter": "python",
   "pygments_lexer": "ipython3",
   "version": "3.7.10"
  }
 },
 "nbformat": 4,
 "nbformat_minor": 5
}
