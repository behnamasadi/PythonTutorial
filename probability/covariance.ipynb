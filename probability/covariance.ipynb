{
 "cells": [
  {
   "cell_type": "markdown",
   "id": "varied-ethnic",
   "metadata": {},
   "source": [
    "## Covariance\n",
    "Covariance is a measure of the joint variability of two random variables\n",
    "\n",
    "${\\displaystyle {\\begin{aligned}\\operatorname {cov} (X,Y)&=\\operatorname {E} \\left[\\left(X-\\operatorname {E} \\left[X\\right]\\right)\\left(Y-\\operatorname {E} \\left[Y\\right]\\right)\\right]\\\\&=\\operatorname {E} \\left[XY-X\\operatorname {E} \\left[Y\\right]-\\operatorname {E} \\left[X\\right]Y+\\operatorname {E} \\left[X\\right]\\operatorname {E} \\left[Y\\right]\\right]\\\\&=\\operatorname {E} \\left[XY\\right]-\\operatorname {E} \\left[X\\right]\\operatorname {E} \\left[Y\\right]-\\operatorname {E} \\left[X\\right]\\operatorname {E} \\left[Y\\right]+\\operatorname {E} \\left[X\\right]\\operatorname {E} \\left[Y\\right]\\\\&=\\operatorname {E} \\left[XY\\right]-\\operatorname {E} \\left[X\\right]\\operatorname {E} \\left[Y\\right],\\end{aligned}}}$"
   ]
  },
  {
   "cell_type": "markdown",
   "id": "intensive-force",
   "metadata": {},
   "source": [
    "## Covariance matrix\n",
    "is a square matrix giving the covariance between each pair of elements of a given random vector. Any covariance matrix is symmetric and positive semi-definite \n",
    "\n",
    "For the column vector $\\mathbf {X}$\n",
    "\n",
    "$\\displaystyle \\mathbf {X} =(X_{1},X_{2},...,X_{n})^{\\mathrm {T} }$\n",
    "\n",
    "${\\displaystyle \\operatorname {K} _{\\mathbf {X} \\mathbf {X} }=\\operatorname {cov} [\\mathbf {X} ,\\mathbf {X} ]=\\operatorname {E} [(\\mathbf {X} -\\mathbf {\\mu _{X}} )(\\mathbf {X} -\\mathbf {\\mu _{X}} )^{\\rm {T}}]=\\operatorname {E} [\\mathbf {X} \\mathbf {X} ^{T}]-\\mathbf {\\mu _{X}} \\mathbf {\\mu _{X}} ^{T}}{\\displaystyle \\operatorname {K} _{\\mathbf {X} \\mathbf {X} }=\\operatorname {cov} [\\mathbf {X} ,\\mathbf {X} ]=\\operatorname {E} [(\\mathbf {X} -\\mathbf {\\mu _{X}} )(\\mathbf {X} -\\mathbf {\\mu _{X}} )^{\\rm {T}}]=\\operatorname {E} [\\mathbf {X} \\mathbf {X} ^{T}]-\\mathbf {\\mu _{X}} \\mathbf {\\mu _{X}} ^{T}}$"
   ]
  },
  {
   "cell_type": "markdown",
   "id": "selective-feelings",
   "metadata": {},
   "source": [
    "### Example: \n",
    "We have 5 observation from a 3 dimentional variable:\n",
    "\n",
    "|    |     |     |     |    |\n",
    "|--- |---  |---  |---  |--- |\n",
    "|4.  |4.2  |3.9  |4.3  |4.1 | \n",
    "|2.  |2.1  |2.   |2.1  |2.2 |\n",
    "|0.6 |0.59 |0.58 |0.62 |0.63|"
   ]
  },
  {
   "cell_type": "markdown",
   "id": "04faf3df",
   "metadata": {},
   "source": [
    "\n",
    "$\\mu=\\boldsymbol{\\bar{X}}=\\left [ 4.10, 2.08, 0.604 \\right ]$\n",
    "\n",
    "\n"
   ]
  },
  {
   "cell_type": "markdown",
   "id": "eabc23e0",
   "metadata": {},
   "source": [
    "Covariance matrix is:\n",
    "\n",
    "\n",
    "|         |         |           |\n",
    "|---      |---      |---        |\n",
    "|0.02     | 0.006   |  0.0014   |\n",
    "|0.006    | 0.0056  |  0.00108  |\n",
    "|0.0014   | 0.00108 |  0.000344 |\n",
    "\n",
    "\n",
    "\n",
    "\n",
    "code: [1](scripts/covariance_matrix.py)"
   ]
  },
  {
   "cell_type": "markdown",
   "id": "after-subscriber",
   "metadata": {},
   "source": [
    "## Covariance Properties\n",
    "1) For any constant (i.e. non-random) $m\\times n $ matrix $\\mathbf {A} $ and constant $m\\times 1$ vector $\\mathbf {a}$ one has ${\\displaystyle \\operatorname {var} (\\mathbf {AX} +\\mathbf {a} )=\\mathbf {A} \\,\\operatorname {var} (\\mathbf {X} )\\,\\mathbf {A} ^{\\rm {T}}}$\n",
    "\n",
    "2) If $\\mathbf {Y}$  is another random vector with the same dimension  as $\\mathbf {X}$  then ${\\displaystyle \\operatorname {var} (\\mathbf {X} +\\mathbf {Y} )=\\operatorname {var} (\\mathbf {X} )+\\operatorname {cov} (\\mathbf {X} ,\\mathbf {Y} )+\\operatorname {cov} (\\mathbf {Y} ,\\mathbf {X} )+\\operatorname {var} (\\mathbf {Y} )}{\\displaystyle \\operatorname {var} (\\mathbf {X} +\\mathbf {Y} )=\\operatorname {var} (\\mathbf {X} )+\\operatorname {cov} (\\mathbf {X} ,\\mathbf {Y} )+\\operatorname {cov} (\\mathbf {Y} ,\\mathbf {X} )+\\operatorname {var} (\\mathbf {Y} )} $\n"
   ]
  },
  {
   "cell_type": "markdown",
   "id": "relative-point",
   "metadata": {},
   "source": [
    "## Inverse of the covariance matrix\n",
    "The inverse of this matrix, ${\\displaystyle \\operatorname {K} _{\\mathbf {X} \\mathbf {X} }^{-1}}$, if it exists, is the inverse covariance matrix, also known as the concentration matrix or precision matrix"
   ]
  },
  {
   "cell_type": "markdown",
   "id": "rapid-award",
   "metadata": {},
   "source": [
    "## Cross-covariance matrix\n",
    "${\\displaystyle \\operatorname {K} _{\\mathbf {X} \\mathbf {Y} }=\\operatorname {cov} (\\mathbf {X} ,\\mathbf {Y} ){\\stackrel {\\mathrm {def} }{=}}\\ \\operatorname {E} [(\\mathbf {X} -\\mathbf {\\mu _{X}} )(\\mathbf {Y} -\\mathbf {\\mu _{Y}} )^{\\rm {T}}]}$\t\n",
    " \n",
    "\n",
    "\n",
    "${\\displaystyle \\operatorname {K} _{\\mathbf {X} \\mathbf {Y} }={\\begin{bmatrix}\\mathrm {E} [(X_{1}-\\operatorname {E} [X_{1}])(Y_{1}-\\operatorname {E} [Y_{1}])]&\\mathrm {E} [(X_{1}-\\operatorname {E} [X_{1}])(Y_{2}-\\operatorname {E} [Y_{2}])]&\\cdots &\\mathrm {E} [(X_{1}-\\operatorname {E} [X_{1}])(Y_{n}-\\operatorname {E} [Y_{n}])]\\\\\\\\\\mathrm {E} [(X_{2}-\\operatorname {E} [X_{2}])(Y_{1}-\\operatorname {E} [Y_{1}])]&\\mathrm {E} [(X_{2}-\\operatorname {E} [X_{2}])(Y_{2}-\\operatorname {E} [Y_{2}])]&\\cdots &\\mathrm {E} [(X_{2}-\\operatorname {E} [X_{2}])(Y_{n}-\\operatorname {E} [Y_{n}])]\\\\\\\\\\vdots &\\vdots &\\ddots &\\vdots \\\\\\\\\\mathrm {E} [(X_{m}-\\operatorname {E} [X_{m}])(Y_{1}-\\operatorname {E} [Y_{1}])]&\\mathrm {E} [(X_{m}-\\operatorname {E} [X_{m}])(Y_{2}-\\operatorname {E} [Y_{2}])]&\\cdots &\\mathrm {E} [(X_{m}-\\operatorname {E} [X_{m}])(Y_{n}-\\operatorname {E} [Y_{n}])]\\end{bmatrix}}}$\n",
    "\n",
    " "
   ]
  }
 ],
 "metadata": {
  "kernelspec": {
   "display_name": "Python 3 (ipykernel)",
   "language": "python",
   "name": "python3"
  },
  "language_info": {
   "codemirror_mode": {
    "name": "ipython",
    "version": 3
   },
   "file_extension": ".py",
   "mimetype": "text/x-python",
   "name": "python",
   "nbconvert_exporter": "python",
   "pygments_lexer": "ipython3",
   "version": "3.10.13"
  }
 },
 "nbformat": 4,
 "nbformat_minor": 5
}
