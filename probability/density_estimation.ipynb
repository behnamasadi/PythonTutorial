{
 "cells": [
  {
   "cell_type": "markdown",
   "id": "confirmed-military",
   "metadata": {},
   "source": [
    "## Density Estimation\n",
    "\n",
    "<img src='images/density_estimation.jpg'>\n",
    "\n",
    "### Parametric Methods\n",
    "### Non-parametric Methods\n",
    "### Explicit Density Estimation\n",
    "### Implicit Density Estimation\n",
    "\n",
    "Refs: [1](https://www.kdnuggets.com/2019/10/overview-density-estimation.html#:~:text=Explicit%20Density%20Estimation%3A%20Estimates%20the,samples%20from%20the%20true%20distribution.), [2](https://arxiv.org/pdf/1701.00160.pdf)"
   ]
  }
 ],
 "metadata": {
  "kernelspec": {
   "display_name": "Python 3",
   "language": "python",
   "name": "python3"
  },
  "language_info": {
   "codemirror_mode": {
    "name": "ipython",
    "version": 3
   },
   "file_extension": ".py",
   "mimetype": "text/x-python",
   "name": "python",
   "nbconvert_exporter": "python",
   "pygments_lexer": "ipython3",
   "version": "3.7.10"
  }
 },
 "nbformat": 4,
 "nbformat_minor": 5
}
