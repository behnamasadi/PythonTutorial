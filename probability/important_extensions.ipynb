{
 "cells": [
  {
   "cell_type": "markdown",
   "id": "current-nevada",
   "metadata": {},
   "source": [
    "## Some important extensions\n",
    "\n",
    "$P(x_1,...,x_n|y_1,...,y_m)=\\frac{P(x_1,...,x_n,y_1,...,y_m)}{P(y_1,...,y_m)}$\n",
    "\n",
    "\n",
    "$P(B|C)=\\frac{P(B,C)}{P(C)}=\\frac{\\sum_{A_i}P(B,A_i,C)}{P(C)}=\\sum_{A_i}P(B,A_i|C)$\n",
    "\n",
    "\n",
    "Proof:\n",
    "\n",
    "\n",
    "$P(A,B|C)=\\frac{P(A,B,C)}{P(C)}=\\frac{P(B,\\overbrace{A,C})}{P(C)}=\\frac{P(B|A,C)P(A,C)}{P(C)}=P(B|A,C)P(A|C)=P(A|B,C)P(B|C)$\n",
    "\n",
    "\n",
    "$P(B|C)=\\sum_{i} P(A_i|C)P(B|A_i,C) $\n",
    "\n",
    "\n",
    "$P(A|B,C)=\\frac{P(B|A,C)P(A|C)}{P(B|C)}$\n",
    "\n",
    "If $A$ and $B$ are conditionally independent of $C$\n",
    "\n",
    "$P(A,B|C)=P(A|C)P(B|C)$\n",
    "\n",
    "$P(A|B,C)=P(A|C)$\n",
    "\n",
    "Proof:\n",
    "\n",
    "$P(A|B,C)=\\frac{P(A,B,C)}{P(B,C)}=\\frac{P(A,B|C)P(C)}{P(B|C)P(C)}$\n",
    "\n",
    "since $A$ and $B$ are conditionally independent of $C$, we have:  $P(A,B|C)=P(A|C)P(B|C)$\n",
    "\n",
    "$\\frac{P(A,B|C)P(C)}{P(B|C)P(C)}=\\frac{P(A|C)P(B|C)P(C)}{P(B|C)P(C)}=P(A|C)$\n",
    "\n",
    "\n",
    "Refs: [1](http://users.ics.aalto.fi/harri/thesis/valpola_thesis/node16.html)"
   ]
  }
 ],
 "metadata": {
  "kernelspec": {
   "display_name": "Python 3",
   "language": "python",
   "name": "python3"
  },
  "language_info": {
   "codemirror_mode": {
    "name": "ipython",
    "version": 3
   },
   "file_extension": ".py",
   "mimetype": "text/x-python",
   "name": "python",
   "nbconvert_exporter": "python",
   "pygments_lexer": "ipython3",
   "version": "3.7.10"
  }
 },
 "nbformat": 4,
 "nbformat_minor": 5
}
