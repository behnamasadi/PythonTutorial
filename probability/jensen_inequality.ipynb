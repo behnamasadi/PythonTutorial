{
 "cells": [
  {
   "cell_type": "markdown",
   "id": "f0583a1f-ed9e-4af0-aadd-4f5ab5f364a6",
   "metadata": {},
   "source": [
    "<video src=\"videos/jensen_inequality.mp4\" width=\"320\" height=\"240\" controls></video>\n",
    "\n",
    "\n",
    "Refs: [1](https://x.com/keenanisalive/status/1918386586393227297)"
   ]
  }
 ],
 "metadata": {
  "kernelspec": {
   "display_name": "Python 3 (ipykernel)",
   "language": "python",
   "name": "python3"
  },
  "language_info": {
   "codemirror_mode": {
    "name": "ipython",
    "version": 3
   },
   "file_extension": ".py",
   "mimetype": "text/x-python",
   "name": "python",
   "nbconvert_exporter": "python",
   "pygments_lexer": "ipython3",
   "version": "3.13.2"
  }
 },
 "nbformat": 4,
 "nbformat_minor": 5
}
