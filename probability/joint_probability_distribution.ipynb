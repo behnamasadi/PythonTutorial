{
 "cells": [
  {
   "cell_type": "markdown",
   "id": "pregnant-fruit",
   "metadata": {},
   "source": [
    "## Joint probability distribution\n",
    "\n",
    "The joint probability mass function of two discrete random variables $X,Y$ is:\n",
    "\n",
    "${\\displaystyle p_{X,Y}(x,y)=\\mathrm {P} (X=x\\ \\mathrm {and} \\ Y=y)}$\n",
    "\n",
    "\n",
    "or written in terms of conditional distributions\n",
    "\n",
    "${\\displaystyle p_{X,Y}(x,y)=\\mathrm {P} (Y=y\\mid X=x)\\cdot \\mathrm {P} (X=x)=\\mathrm {P} (X=x\\mid Y=y)\\cdot \\mathrm {P} (Y=y)}$\n",
    "\n",
    "\n",
    "where ${\\displaystyle \\mathrm {P} (Y=y\\mid X=x)}\\mathrm {P} $ is the probability of ${\\displaystyle Y=y}$ given that ${\\displaystyle X=x}$.\n",
    "\n",
    "### Example\n",
    "\n",
    "Consider the roll of a fair die and let $A = 1$ if the number is even (i.e., 2, 4, or 6) and $A = 0$ otherwise. Furthermore, let $B = 1$ if the number is prime (i.e., 2, 3, or 5) and $B = 0$ otherwise.\n",
    "\n",
    "\n",
    "|   |1\t|2\t|3\t|4\t|5\t|6  |\n",
    "|---|---|---|---|---|---|---|\n",
    "|A\t|0\t|1\t|0\t|1\t|0\t|1  |\n",
    "|B\t|0\t|1\t|1\t|0\t|1\t|0  |\n",
    "\n",
    "Then, the joint distribution of $A$ and $B$, expressed as a probability mass function, is:\n",
    "\n",
    "$P(A=0,B=0)=P\\{1\\}=\\frac{1}{6}$\n",
    "\n",
    "$P(A=0,B=1)=P\\{3,5\\}=\\frac{2}{6}$\n",
    "\n",
    "$P(A=1,B=0)=P\\{4,6\\}=\\frac{2}{6}$\n",
    "\n",
    "$P(A=1,B=1)=P\\{2\\}=\\frac{1}{6}$\n"
   ]
  },
  {
   "cell_type": "markdown",
   "id": "bronze-tracy",
   "metadata": {},
   "source": [
    "## Joint probability mass function (joint pmf)\n",
    "\n",
    "If discrete random variables  $X$  and  $Y$  are defined on the same sample space  $S$ , then their joint probability mass function (joint pmf) is given by\n",
    "$p(x,y) = P(X=x\\ \\ \\text{and}\\ \\ Y=y),\\notag$\n",
    " \n",
    "\n",
    "where  $(x,y)$  is a pair of possible values for the pair of random variables  $(x,y)$ , and  $p(x,y)$  satisfies the following conditions:\n",
    "\n",
    "- $0 \\leq p(x,y) \\leq 1$ \n",
    "- $\\displaystyle{\\mathop{\\sum\\sum}_{(x,y)}p(x,y) = 1}$\n",
    "- $\\displaystyle{P\\left((X,Y)\\in A\\right)) = \\mathop{\\sum\\sum}_{(x,y)\\in A} p(x,y)}$\n",
    "\n",
    "\n",
    "Refs: [1](https://stats.libretexts.org/Courses/Saint_Mary's_College_Notre_Dame/MATH_345__-_Probability_(Kuter)/5%3A_Probability_Distributions_for_Combinations_of_Random_Variables/5.1%3A_Joint_Distributions_of_Discrete_Random_Variables#:~:text=Suppose%20that%20X%20and%20Y,p(x%2Cy).)"
   ]
  },
  {
   "cell_type": "markdown",
   "id": "moral-drama",
   "metadata": {},
   "source": [
    "## Joint cumulative distribution function (joint cdf)\n",
    "In the discrete case, we can obtain the joint cumulative distribution function (joint cdf) of  $X$  and  $Y$  by summing the joint pmf:\n",
    "\n",
    "$F(x,y) = P(X\\leq x\\ \\text{and}\\ Y\\leq y) = \\sum_{x_i \\leq x} \\sum_{y_j \\leq y} p(x_i, y_j),\\notag$"
   ]
  },
  {
   "cell_type": "markdown",
   "id": "proprietary-pantyhose",
   "metadata": {},
   "source": [
    "## Semicolon notation in joint probability\n",
    "\n",
    "In $p_{\\theta} (x|z, y) = f(x; z, y, \\theta)$, \n",
    "\n",
    "$f(x; z, y, \\theta)$\n",
    "\n",
    "is a function of $x$ with \"parameters\" $y,x,\\theta$"
   ]
  }
 ],
 "metadata": {
  "kernelspec": {
   "display_name": "Python 3",
   "language": "python",
   "name": "python3"
  },
  "language_info": {
   "codemirror_mode": {
    "name": "ipython",
    "version": 3
   },
   "file_extension": ".py",
   "mimetype": "text/x-python",
   "name": "python",
   "nbconvert_exporter": "python",
   "pygments_lexer": "ipython3",
   "version": "3.7.10"
  }
 },
 "nbformat": 4,
 "nbformat_minor": 5
}
