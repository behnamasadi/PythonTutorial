{
 "cells": [
  {
   "cell_type": "markdown",
   "id": "6ab4c466-bc3e-48c0-85b9-bea4105f031c",
   "metadata": {},
   "source": [
    "##  Joint Probability Distribution\n",
    "\n",
    "Given random variables ${\\displaystyle X,Y,\\ldots }$, that are defined on a probability space, the joint probability distribution for ${\\displaystyle X,Y,\\ldots }$ is a probability distribution that gives the probability that each of ${\\displaystyle X,Y,\\ldots }$ falls in any particular range or discrete set of values specified for that variable.\n",
    "\n",
    "\n",
    "\n",
    "The joint probability mass function of two discrete random variables $X,Y$ is:\n",
    "\n",
    "${\\displaystyle p_{X,Y}(x,y)=\\mathrm {P} (X=x\\ \\mathrm {and} \\ Y=y)}$\n",
    "\n",
    "\n",
    "or written in terms of conditional distributions\n",
    "\n",
    "${\\displaystyle p_{X,Y}(x,y)=\\mathrm {P} (Y=y\\mid X=x)\\cdot \\mathrm {P} (X=x)=\\mathrm {P} (X=x\\mid Y=y)\\cdot \\mathrm {P} (Y=y)}$\n",
    "\n",
    "\n",
    "where ${\\displaystyle \\mathrm {P} (Y=y\\mid X=x)}\\mathrm {P} $ is the probability of ${\\displaystyle Y=y}$ given that ${\\displaystyle X=x}$.\n",
    "\n",
    "### Example\n",
    "\n",
    "Consider the tossing of a fair die and let $A = 1$ if the number is even (i.e., 2, 4, or 6) and $A = 0$ otherwise. Furthermore, let $B = 1$ if the number is prime (i.e., 2, 3, or 5) and $B = 0$ otherwise.\n",
    "\n",
    "\n",
    "|   |1\t|2\t|3\t|4\t|5\t|6  |\n",
    "|---|---|---|---|---|---|---|\n",
    "|A\t|0\t|1\t|0\t|1\t|0\t|1  |\n",
    "|B\t|0\t|1\t|1\t|0\t|1\t|0  |\n",
    "\n",
    "Then, the joint distribution of $A$ and $B$, expressed as a probability mass function, is:\n",
    "\n",
    "$P(A=0,B=0)=P\\{1\\}=\\frac{1}{6}$\n",
    "\n",
    "$P(A=0,B=1)=P\\{3,5\\}=\\frac{2}{6}$\n",
    "\n",
    "$P(A=1,B=0)=P\\{4,6\\}=\\frac{2}{6}$\n",
    "\n",
    "$P(A=1,B=1)=P\\{2\\}=\\frac{1}{6}$"
   ]
  }
 ],
 "metadata": {
  "kernelspec": {
   "display_name": "Python 3 (ipykernel)",
   "language": "python",
   "name": "python3"
  },
  "language_info": {
   "codemirror_mode": {
    "name": "ipython",
    "version": 3
   },
   "file_extension": ".py",
   "mimetype": "text/x-python",
   "name": "python",
   "nbconvert_exporter": "python",
   "pygments_lexer": "ipython3",
   "version": "3.10.13"
  }
 },
 "nbformat": 4,
 "nbformat_minor": 5
}
