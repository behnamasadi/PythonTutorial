{
 "cells": [
  {
   "cell_type": "markdown",
   "id": "0099fb2f-7e7a-4da6-a19e-bea0bf2d173c",
   "metadata": {},
   "source": [
    "# Marginal Distributions\n",
    "jointly Gaussian random vectors $ \\mathbf{x} $ and $ \\mathbf{y} $, where $ [\\mathbf{x}, \\mathbf{y}] $ denotes the joint vector formed by stacking $ \\mathbf{x} $ and $ \\mathbf{y} $. The joint vector follows a multivariate normal (Gaussian) distribution with a mean vector and a covariance matrix structured as given:\n",
    "\n",
    "$\n",
    "[\\mathbf{x}, \\mathbf{y}] \\sim \\mathcal{N}\\left(\\begin{bmatrix} \\mu_{\\mathbf{x}} \\\\ \\mu_{\\mathbf{y}} \\end{bmatrix}, \\begin{bmatrix} A & C \\\\ C^T & B \\end{bmatrix}\\right)\n",
    "$\n",
    "\n",
    "### Definitions:\n",
    "\n",
    "1. **Mean Vectors**:\n",
    "   - $ \\mu_{\\mathbf{x}} $ is the mean vector of the random vector $ \\mathbf{x} $.\n",
    "   - $ \\mu_{\\mathbf{y}} $ is the mean vector of the random vector $ \\mathbf{y} $.\n",
    "\n",
    "2. **Covariance Matrix**:\n",
    "   - $ A $ is the covariance matrix of $ \\mathbf{x} $.\n",
    "   - $ B $ is the covariance matrix of $ \\mathbf{y} $.\n",
    "   - $ C $ is the covariance matrix representing the covariance between $ \\mathbf{x} $ and $ \\mathbf{y} $.\n",
    "\n",
    "### Understanding the Joint and Marginal Distributions:\n",
    "\n",
    "**Joint Distribution**:\n",
    "The joint distribution of $ \\mathbf{x} $ and $ \\mathbf{y} $ as specified tells us how the vectors $ \\mathbf{x} $ and $ \\mathbf{y} $ vary together. The matrix $ \\begin{bmatrix} A & C \\\\ C^T & B \\end{bmatrix} $ fully specifies:\n",
    "- How $ \\mathbf{x} $ varies with itself (through $ A $),\n",
    "- How $ \\mathbf{y} $ varies with itself (through $ B $), and\n",
    "- How $ \\mathbf{x} $ and $ \\mathbf{y} $ co-vary (through $ C $ and $ C^T $).\n",
    "\n",
    "**Marginal Distribution of $ \\mathbf{x} $**:\n",
    "The marginal distribution of $ \\mathbf{x} $ refers to the distribution of $ \\mathbf{x} $ irrespective of $ \\mathbf{y} $. It is derived from the joint distribution by considering only the elements related to $ \\mathbf{x} $, which in the case of the given joint distribution are:\n",
    "\n",
    "$\n",
    "\\mathbf{x} \\sim \\mathcal{N}(\\mu_{\\mathbf{x}}, A)\n",
    "$\n",
    "\n",
    "Here, $ A $ is the covariance matrix of $ \\mathbf{x} $, reflecting how $ \\mathbf{x} $ varies with itself, independently of $ \\mathbf{y} $. The mean $ \\mu_{\\mathbf{x}} $ remains the same as in the joint distribution."
   ]
  }
 ],
 "metadata": {
  "kernelspec": {
   "display_name": "Python 3 (ipykernel)",
   "language": "python",
   "name": "python3"
  },
  "language_info": {
   "codemirror_mode": {
    "name": "ipython",
    "version": 3
   },
   "file_extension": ".py",
   "mimetype": "text/x-python",
   "name": "python",
   "nbconvert_exporter": "python",
   "pygments_lexer": "ipython3",
   "version": "3.10.13"
  }
 },
 "nbformat": 4,
 "nbformat_minor": 5
}
