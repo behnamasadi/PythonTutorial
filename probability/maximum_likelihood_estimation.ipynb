{
 "cells": [
  {
   "cell_type": "markdown",
   "metadata": {},
   "source": [
    "# Maximum Likelihood Estimation\n"
   ]
  },
  {
   "cell_type": "code",
   "execution_count": 1,
   "metadata": {},
   "outputs": [
    {
     "data": {
      "image/png": "[encoded data removed]",
      "text/plain": [
       "<Figure size 432x288 with 1 Axes>"
      ]
     },
     "metadata": {
      "needs_background": "light"
     },
     "output_type": "display_data"
    }
   ],
   "source": [
    "import matplotlib.pyplot as plt\n",
    "import numpy as np\n",
    "%matplotlib inline\n",
    "\n",
    "def gaussian(x, mu, sig):\n",
    "    return np.exp(-np.power(x - mu, 2.) / (2 * np.power(sig, 2.)))\n",
    "mu=2\n",
    "sig=4\n",
    "\n",
    "x1=-10\n",
    "x2=15\n",
    "number_of_samples=200\n",
    "x=np.linspace(x1,x2,number_of_samples)\n",
    "y=gaussian(x, mu, sig)\n",
    "plt.xlabel(\"x\")\n",
    "plt.ylabel(\"y=gaussian(x)\")\n",
    "line_1,=plt.plot(x,y,label='gaussian(x)')\n",
    "plt.legend()\n",
    "plt.legend(handles=[line_1])\n",
    "\n",
    "a=5\n",
    "b=10\n",
    "x=np.linspace(a,b,number_of_samples)\n",
    "y_min=np.zeros_like(x)\n",
    "y_max=gaussian(x, mu, sig)\n",
    "plt.vlines(x,y_min,y_max,colors='red')\n",
    "observation=-2\n",
    "plt.vlines(observation,0,gaussian(observation, mu, sig),colors='green')\n",
    "plt.hlines(gaussian(observation, mu, sig),x1,observation,colors='green')\n",
    "plt.show()\n"
   ]
  },
  {
   "cell_type": "markdown",
   "metadata": {},
   "source": [
    "The red ares=$P(5<x<10|\\mu=4,\\sigma=2)$"
   ]
  },
  {
   "cell_type": "markdown",
   "metadata": {},
   "source": [
    "## Likelihood\n",
    "Now if you take a random sample (an observation) from the above graph, let say at $x=-2$, then the $y=0.6$ is the likelihood that this observation generated from the this graph ($\\mu=4$ and $\\sigma=2$). The value $y=0.6$ is relatively small, which make sense, because if take a random sample from a gaussian distribution the chance that we get closer to the mean is bigger than the chance of being away from that.\n",
    "\n",
    "$Likelihood(\\mu=4,\\sigma=2|Observation=-2)$\n",
    "\n",
    "Refs: [1](https://www.youtube.com/watch?v=pYxNSUDSFH4&t=182s)"
   ]
  },
  {
   "cell_type": "markdown",
   "metadata": {},
   "source": [
    "## Log Likelihood\n",
    "Since we assume the obeservations are independent of each other and for independent probabilites we have:\n",
    "\n",
    "$P(x_1,x_2|\\theta)=P(x_1|\\theta).P(x_2|\\theta)$\n",
    "\n",
    "$x_i\\perp x_j \\text{indipendent}$ \n",
    "\n",
    "Therefore for likelihood we would also have:\n",
    "$L(distribution|observeation1,observeation2)=L(distribution|observeation1)L(distribution|observeation2)$\n",
    "\n",
    "Since Likelihood values are small and multiplying them will make them smaller which might may round to zero in  computation, we use the **log** function. The **log** function will also truns multipication into summation and power into multipication."
   ]
  },
  {
   "cell_type": "markdown",
   "metadata": {},
   "source": [
    "# Likelihood ratio\n",
    "We usually don't use likelihood function but we compare them :\n",
    "$L(\\theta1|x)>L(\\theta2|x)?$\n",
    "\n",
    "Since **log** function is a monotonically increasig function, when the likelihood increase/ decrease, the log will also increase/ decrease, so we compare log of likelihood \n",
    "# Odds ratio\n",
    "Odds provide a measure of the likelihood of a particular outcome. The odds of rolling a 6 is 1:5, The odds of rolling either a 5 or 6 is 2:4.\n",
    "\n",
    "\n",
    "$odds=\\frac{P(event)}{1-P(event)}$\n",
    "# Log odds\n",
    "\n",
    "The logit function or the log-odds is the logarithm of the odds. If $p$ is a probability, \n",
    "\n",
    "${\\displaystyle \\operatorname {logit} (p)=\\log \\left({\\frac {p}{1-p}}\\right)=\\log(p)-\\log(1-p)=-\\log \\left({\\frac {1}{p}}-1\\right)\\,.}$\n"
   ]
  },
  {
   "cell_type": "code",
   "execution_count": null,
   "metadata": {},
   "outputs": [],
   "source": [
    "\n",
    "\n",
    "\n",
    "Refs: [1](https://www.youtube.com/watch?v=XepXtl9YKwc)\n",
    "## Exponentioal Distribution\n",
    "## Bionominal Distribution\n",
    "## Normal Distribution\n",
    "## Gamma Distribution\n",
    "## Pareto Distribution\n",
    "\n",
    "## Examples\n",
    "Refs [1](https://www.probabilitycourse.com/chapter8/8_2_3_max_likelihood_estimation.php)"
   ]
  }
 ],
 "metadata": {
  "kernelspec": {
   "display_name": "Python 3",
   "language": "python",
   "name": "python3"
  },
  "language_info": {
   "codemirror_mode": {
    "name": "ipython",
    "version": 3
   },
   "file_extension": ".py",
   "mimetype": "text/x-python",
   "name": "python",
   "nbconvert_exporter": "python",
   "pygments_lexer": "ipython3",
   "version": "3.7.10"
  }
 },
 "nbformat": 4,
 "nbformat_minor": 4
}
