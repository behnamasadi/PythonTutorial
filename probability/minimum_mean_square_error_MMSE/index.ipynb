{
 "cells": [
  {
   "cell_type": "markdown",
   "id": "15c7331f",
   "metadata": {},
   "source": [
    "## Minimum Mean Square Error (MMSE)\n",
    "\n",
    "Minimum Mean Square Error (MMSE) is a method used in statistics, control theory, signal processing, and many other fields, to estimate the value of an unknown parameter. The MMSE criterion provides a way to choose an estimator or a filter that minimizes the mean square error (MSE), which is a measure of the difference between the estimator and what is estimated.\n",
    "\n",
    "### How It Works\n",
    "\n",
    "The Mean Square Error (MSE) for an estimator $\\hat{\\theta}$ of a parameter $\\theta$ is given by:\n",
    "\n",
    "$ \\text{MSE} = E[(\\hat{\\theta} - \\theta)^2] $\n",
    "\n",
    "where $E[\\cdot]$ denotes the expectation. The goal of MMSE is to find an estimator $\\hat{\\theta}$ that minimizes this MSE.\n",
    "\n",
    "### Application in Estimation\n",
    "\n",
    "In the context of estimating a parameter, say \\(\\theta\\), from some observations, the MMSE estimator takes into account the noise or uncertainty in the observations as well as any prior knowledge about the parameter's distribution (if available). This approach is particularly powerful in Bayesian estimation, where the prior distribution of the parameter is combined with the likelihood of the observed data to produce a posterior distribution for the parameter. The MMSE estimator is then the mean of this posterior distribution.\n",
    "\n",
    "### Application in Filtering\n",
    "\n",
    "In signal processing, MMSE is widely used for filtering purposes, such as in Wiener filters or Kalman filters. Here, the aim is to estimate the current state of a signal or system based on noisy observations. The MMSE approach helps in formulating filters that can optimally predict or estimate the state of the system by minimizing the mean square error between the estimated signal and the true signal.\n",
    "\n",
    "### Advantages\n",
    "\n",
    "- **Accuracy**: By minimizing the mean square error, MMSE estimators tend to provide more accurate estimates than those that do not consider the error minimization criterion.\n",
    "- **Flexibility**: MMSE can be applied in various contexts, including linear and nonlinear models, and with different types of data and noise models.\n",
    "- **Bayesian Foundation**: The MMSE framework fits well within Bayesian statistics, allowing the incorporation of prior knowledge into the estimation process, which can significantly improve estimation accuracy when prior information is available.\n",
    "\n",
    "### Disadvantages\n",
    "\n",
    "- **Computational Complexity**: Finding the MMSE estimator can be computationally intensive, especially in complex models or high-dimensional spaces.\n",
    "- **Requirement for Prior Knowledge**: In Bayesian applications, the performance of MMSE estimators heavily depends on the accuracy of the prior information, which might not always be available or easy to ascertain.\n",
    "\n"
   ]
  },
  {
   "cell_type": "markdown",
   "id": "1ef4b376",
   "metadata": {},
   "source": [
    "## Example\n",
    "Suppose we have a random variable $X$ representing the true state of some process and a random variable $Y$ representing noisy observations of $X$. Our goal is to estimate $X$ based on $Y$.\n",
    "\n",
    "### Problem Setup\n",
    "\n",
    "Let's assume $X$ and $Y$ have the following relationship:\n",
    "\n",
    "$ Y = X + Z $\n",
    "\n",
    "where $Z$ is a noise variable that is normally distributed with mean $0$ and variance $\\sigma^2_Z$, i.e., $Z \\sim \\mathcal{N}(0, \\sigma^2_Z)$. Suppose $X$ is also normally distributed with mean $\\mu_X$ and variance $\\sigma^2_X$, i.e., $X \\sim \\mathcal{N}(\\mu_X, \\sigma^2_X)$. The noise $Z$ is independent of $X$.\n",
    "\n",
    "Given an observation $y$, we want to estimate $X$. In the MMSE framework, we seek an estimator $\\hat{X}$ that minimizes the mean square error:\n",
    "\n",
    "$ \\text{MSE} = E[(\\hat{X} - X)^2] $\n",
    "\n",
    "### Solution\n",
    "\n",
    "For the Gaussian case, the MMSE estimator of $X$ given $Y = y$ is the conditional expectation $E[X|Y=y]$, which, due to the linear relationship between $X$ and $Y$, and the Gaussian distributions involved, is given by:\n",
    "\n",
    "$ \\hat{X} = \\mu_X + \\frac{\\sigma^2_X}{\\sigma^2_X + \\sigma^2_Z} (y - \\mu_X) $\n",
    "\n",
    "### Numerical Example\n",
    "\n",
    "Let's assume:\n",
    "\n",
    "- $\\mu_X = 2$\n",
    "- $\\sigma^2_X = 1$ (i.e., $\\sigma_X = 1$)\n",
    "- $\\sigma^2_Z = 4$ (i.e., $\\sigma_Z = 2$)\n",
    "- We observe a particular $y = 5$\n",
    "\n",
    "Let's calculate the MMSE estimate of $X$ given this $y$.\n",
    "\n",
    "$ \\hat{X} = 2 + \\frac{1}{1 + 4} (5 - 2) $\n",
    "\n",
    "Let's compute the numerical value:\n",
    "\n",
    "The MMSE estimate of $X$ given the observation $y = 5$ is $\\hat{X} = 2.6$. This means that, based on our observation and under the MMSE criterion, the best estimate for the true state $X$ is $2.6$, taking into account the noise in our observation and the distributions of $X$ and $Z$. This process minimizes the mean square error between our estimate and the true value of $X$."
   ]
  },
  {
   "cell_type": "code",
   "execution_count": 1,
   "id": "ba9aa91b",
   "metadata": {},
   "outputs": [
    {
     "data": {
      "text/plain": [
       "2.6"
      ]
     },
     "execution_count": 1,
     "metadata": {},
     "output_type": "execute_result"
    }
   ],
   "source": [
    "# Given values\n",
    "mu_X = 2\n",
    "sigma2_X = 1\n",
    "sigma2_Z = 4\n",
    "y = 5\n",
    "\n",
    "# MMSE estimator calculation\n",
    "hat_X = mu_X + (sigma2_X / (sigma2_X + sigma2_Z)) * (y - mu_X)\n",
    "hat_X\n"
   ]
  }
 ],
 "metadata": {
  "kernelspec": {
   "display_name": "Python 3 (ipykernel)",
   "language": "python",
   "name": "python3"
  },
  "language_info": {
   "codemirror_mode": {
    "name": "ipython",
    "version": 3
   },
   "file_extension": ".py",
   "mimetype": "text/x-python",
   "name": "python",
   "nbconvert_exporter": "python",
   "pygments_lexer": "ipython3",
   "version": "3.10.13"
  }
 },
 "nbformat": 4,
 "nbformat_minor": 5
}
