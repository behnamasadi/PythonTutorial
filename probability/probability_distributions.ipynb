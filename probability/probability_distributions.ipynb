{
 "cells": [
  {
   "cell_type": "markdown",
   "metadata": {},
   "source": [
    "# Multinomial distributionm\n",
    "\n",
    "The multinomial distribution models the probability of counts for each side of a $k-sided$ die rolled $n$ times.\n",
    "\n",
    "## Probability mass function\n",
    "We make the experiment $n$ times, We have $k$ random variables which they have probability of $p_1,p_2,..p_k$. The probability that the first random variable comes out exactly $x_1$ time, second random variable comes out exactly $x_2$ times, ... is:\n",
    "\n",
    "\n",
    "${\\displaystyle {\\begin{aligned}f(x_{1},\\ldots ,x_{k};n,p_{1},\\ldots ,p_{k})&{}=\\Pr(X_{1}=x_{1}{\\text{ and }}\\dots {\\text{ and }}X_{k}=x_{k})\\\\&{}={\\begin{cases}{\\displaystyle {n! \\over x_{1}!\\cdots x_{k}!}p_{1}^{x_{1}}\\times \\cdots \\times p_{k}^{x_{k}}},\\quad &{\\text{when }}\\sum _{i=1}^{k}x_{i}=n\\\\\\\\0&{\\text{otherwise,}}\\end{cases}}\\end{aligned}}}$\n",
    "\n",
    "\n",
    "The expected number of times the outcome i was observed over n trials is\n",
    "\n",
    "$\\operatorname{E}(X_i) = n p_i.$"
   ]
  },
  {
   "cell_type": "markdown",
   "metadata": {},
   "source": [
    "\n",
    "# Bernoulli distribution\n",
    "When $k$ is $2$ and $n$ is $1$, the multinomial distribution is the **Bernoulli distribution**. \n",
    "\n",
    "# Binomial distribution\n",
    "When $k$ is 2 and $n$ is bigger than 1, it is the **binomial distribution**. \n"
   ]
  }
 ],
 "metadata": {
  "kernelspec": {
   "display_name": "Python 3",
   "language": "python",
   "name": "python3"
  },
  "language_info": {
   "codemirror_mode": {
    "name": "ipython",
    "version": 3
   },
   "file_extension": ".py",
   "mimetype": "text/x-python",
   "name": "python",
   "nbconvert_exporter": "python",
   "pygments_lexer": "ipython3",
   "version": "3.8.5"
  }
 },
 "nbformat": 4,
 "nbformat_minor": 4
}
