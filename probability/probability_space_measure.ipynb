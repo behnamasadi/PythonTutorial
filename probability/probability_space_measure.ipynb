{
 "cells": [
  {
   "cell_type": "markdown",
   "id": "warming-input",
   "metadata": {},
   "source": [
    "## Probability space\n",
    "Probability space or a probability triple ${\\displaystyle (\\Omega ,{\\mathcal {F}},P)}$ \n",
    "\n",
    "1. A sample space, ${\\displaystyle \\Omega }$, which is the set of all possible outcomes.\n",
    "In the example of the throw of a standard dice, sample space is ${\\displaystyle \\{1,2,3,4,5,6\\}}$\n",
    "\n",
    "2. The σ-algebra ${\\displaystyle {\\mathcal {F}}}$ is a collection of all the events we would like to consider. In the example of the throwing the dice, dice lands on an even number ${\\displaystyle \\{2,4,6\\}}$\n",
    "\n",
    "3. A probability function, which assigns each event in the event space a probability, which is a number between 0 and 1.  ${\\displaystyle \\{2,4,6\\}}$ would be mapped to ${\\displaystyle 3/6=1/2}$. \n",
    "\n",
    "\n"
   ]
  },
  {
   "cell_type": "markdown",
   "id": "interested-acoustic",
   "metadata": {},
   "source": [
    "## Measure\n",
    "In mathematics, a measure on a set is a systematic way to assign a number, intuitively interpreted as its size, to some subsets of that set, called measurable sets.\n",
    "\n",
    "Let $X$ be a set and $\\Sigma$ a $\\sigma-algebra$ over $X$. A function $\\mu$ from $\\Sigma$ to the extended real number line is called a measure if it satisfies the following properties:\n",
    "\n",
    "\n",
    "1. Non-negativity: For all E in $\\Sigma$, we have $\\mu(E)$ ≥ 0.\n",
    "2. Null empty set: ${\\displaystyle \\mu (\\varnothing )=0}$.\n",
    "3. Countable additivity (or σ-additivity): For all countable collections ${\\displaystyle \\{E_{k}\\}_{k=1}^{\\infty }}$ of pairwise disjoint sets in $\\Sigma$,\n",
    "${\\displaystyle \\mu \\left(\\bigsqcup _{k=1}^{\\infty }E_{k}\\right)=\\sum _{k=1}^{\\infty }\\mu (E_{k}).}$\n"
   ]
  },
  {
   "cell_type": "markdown",
   "id": "improving-seminar",
   "metadata": {},
   "source": [
    "## Probability measure\n",
    "A probability measure is a real-valued function defined on a set of events in a probability space that satisfies measure properties such as countable additivity.\n",
    "\n",
    "For example, given three elements 1, 2 and 3 with probabilities 1/4, 1/4 and 1/2\n",
    "\n",
    "The requirements for a function $\\mu$  to be a probability measure on a probability space are that:\n",
    "<img src='images/Probability-measure.svg'> \n",
    "\n"
   ]
  },
  {
   "cell_type": "markdown",
   "id": "wanted-march",
   "metadata": {},
   "source": [
    "## Law of total expectation\n",
    "If ${\\displaystyle X}$ is a random variable whose expected value ${\\displaystyle \\operatorname {E} (X)}$ is defined, and ${\\displaystyle Y}$ is any random variable on the same probability space, then\n",
    "\n",
    "${\\displaystyle \\operatorname {E} (X)=\\operatorname {E} (\\operatorname {E} (X\\mid Y))}$\n",
    "\n",
    "${\\displaystyle \\operatorname {E} (X)=\\sum _{i}{\\operatorname {E} (X\\mid A_{i})\\operatorname {P} (A_{i})}.}$\n",
    "\n",
    "### Example\n",
    "Factory ${\\displaystyle X}$'s bulbs work for an average of 5000 hours, whereas factory ${\\displaystyle Y}$'s bulbs work for an average of 4000 hours. It is known that factory ${\\displaystyle X}$ supplies 60% of the total bulbs available. What is the expected length of time that a purchased bulb will work for?\n",
    "\n",
    "By applying expected value for functions $E[h(X)]=\\sum_{D} h(x).p(x) $ and assuming $h(X)=E(X|Y)$\n",
    "\n",
    "\n",
    "${\\displaystyle {\\begin{aligned}\\operatorname {E} (L)&=\\operatorname {E} (L\\mid X)\\operatorname {P} (X)+\\operatorname {E} (L\\mid Y)\\operatorname {P} (Y)\\\\[3pt]&=5000(0.6)+4000(0.4)\\\\[2pt]&=4600\\end{aligned}}}$"
   ]
  },
  {
   "cell_type": "markdown",
   "id": "ideal-check",
   "metadata": {},
   "source": [
    "## probability measures vs  probability distributions vs  measure of probability density"
   ]
  }
 ],
 "metadata": {
  "kernelspec": {
   "display_name": "Python 3",
   "language": "python",
   "name": "python3"
  },
  "language_info": {
   "codemirror_mode": {
    "name": "ipython",
    "version": 3
   },
   "file_extension": ".py",
   "mimetype": "text/x-python",
   "name": "python",
   "nbconvert_exporter": "python",
   "pygments_lexer": "ipython3",
   "version": "3.7.10"
  }
 },
 "nbformat": 4,
 "nbformat_minor": 5
}
