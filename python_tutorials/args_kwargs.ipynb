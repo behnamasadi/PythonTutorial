{
 "cells": [
  {
   "cell_type": "markdown",
   "id": "07a15e3e-7c8c-49db-b8f6-2ba86a03f8ee",
   "metadata": {},
   "source": [
    "**1. `*args` (Arbitrary Positional Arguments)**\n",
    "\n",
    "   - `*args` allows you to pass a variable number of positional arguments to a function.  It collects these arguments into a tuple within the function.\n",
    "\n",
    "   - **Example:**\n"
   ]
  },
  {
   "cell_type": "code",
   "execution_count": 3,
   "id": "b593f78b-e6ca-4972-89b2-9771e329d9c3",
   "metadata": {},
   "outputs": [
    {
     "name": "stdout",
     "output_type": "stream",
     "text": [
      "6\n",
      "15\n",
      "0\n",
      "6\n"
     ]
    }
   ],
   "source": [
    "def add_numbers(*args):\n",
    "    total = 0\n",
    "    for num in args:\n",
    "        total += num\n",
    "    return total\n",
    "\n",
    "result = add_numbers(1, 2, 3)  # Passing 3 arguments\n",
    "print(result)  # Output: 6\n",
    "\n",
    "result = add_numbers(1, 2, 3, 4, 5)  # Passing 5 arguments\n",
    "print(result)  # Output: 15\n",
    "\n",
    "result = add_numbers() # Passing no arguments\n",
    "print(result) # Output: 0\n",
    "\n",
    "params=[1,2,3]\n",
    "print(add_numbers(*params))"
   ]
  },
  {
   "cell_type": "markdown",
   "id": "2e37397d-dd62-44cd-8540-7cd91209b4bb",
   "metadata": {},
   "source": [
    "**2. `**kwargs` (Arbitrary Keyword Arguments)**\n",
    "\n",
    "   - `**kwargs` allows you to pass a variable number of keyword arguments (named arguments) to a function. It collects these arguments into a dictionary within the function.\n",
    "\n",
    "   - **Example:**\n",
    "\n",
    "\n",
    "\n",
    "\n"
   ]
  },
  {
   "cell_type": "code",
   "execution_count": 5,
   "id": "329129be-f3e4-4ebd-a230-d069c9d41eba",
   "metadata": {},
   "outputs": [
    {
     "name": "stdout",
     "output_type": "stream",
     "text": [
      "name: Alice\n",
      "age: 30\n",
      "city: New York\n",
      "name: Bob\n",
      "job: Engineer\n",
      "a: 1\n",
      "b: 2\n"
     ]
    }
   ],
   "source": [
    "\n",
    "def describe_person(**kwargs):\n",
    "    for key, value in kwargs.items():\n",
    "        print(f\"{key}: {value}\")\n",
    "\n",
    "describe_person(name=\"Alice\", age=30, city=\"New York\")\n",
    "# Output:\n",
    "# name: Alice\n",
    "# age: 30\n",
    "# city: New York\n",
    "\n",
    "describe_person(name=\"Bob\", job=\"Engineer\")\n",
    "# Output:\n",
    "# name: Bob\n",
    "# job: Engineer\n",
    "\n",
    "params = {'a': 1, 'b': 2}\n",
    "describe_person(**params)\n"
   ]
  },
  {
   "cell_type": "markdown",
   "id": "e59e3eb0-8ba3-4f4d-85ee-1806611feb15",
   "metadata": {},
   "source": [
    "**3. Why We Need Both**\n",
    "\n",
    "   - `*args` and `**kwargs` provide flexibility when designing functions that need to handle varying input.  They make your functions more reusable and adaptable.\n",
    "\n",
    "   - **Combined Example:**  You can use both `*args` and `**kwargs` in the same function definition:"
   ]
  },
  {
   "cell_type": "code",
   "execution_count": 8,
   "id": "8db9c6ea-df01-4c97-9eb8-30e35ba8ab7b",
   "metadata": {},
   "outputs": [
    {
     "name": "stdout",
     "output_type": "stream",
     "text": [
      "Name: Charlie\n",
      "Positional arguments:\n",
      "1\n",
      "2\n",
      "3\n",
      "Keyword arguments:\n",
      "age: 25\n",
      "city: London\n"
     ]
    }
   ],
   "source": [
    "def print_info(name, *args, **kwargs):\n",
    "    print(f\"Name: {name}\")\n",
    "    print(\"Positional arguments:\")\n",
    "    for arg in args:\n",
    "        print(arg)\n",
    "    print(\"Keyword arguments:\")\n",
    "    for key, value in kwargs.items():\n",
    "        print(f\"{key}: {value}\")\n",
    "\n",
    "print_info(\"Charlie\", 1, 2, 3, age=25, city=\"London\")"
   ]
  },
  {
   "cell_type": "markdown",
   "id": "ea4ce920-e651-4e15-b725-057e13d53a23",
   "metadata": {},
   "source": [
    "   - **Use Cases:**\n",
    "\n",
    "     - **Wrapper functions:**  You might have a function that calls another function but needs to add some extra processing or arguments.  `*args` and `**kwargs` let you easily pass arguments through to the wrapped function.\n",
    "     - **Function with optional parameters:**  You can have some required parameters and then use `*args` and `**kwargs` for optional or less frequently used parameters.\n",
    "     - **Extending functionality:**  If you want to add new parameters to a function in the future without breaking existing code that calls it, `*args` and `**kwargs` are helpful.\n",
    "\n",
    "**Key Points:**\n",
    "\n",
    "- The names `args` and `kwargs` are conventions. You can use other names (e.g., `*positional`, `**named`), but `args` and `kwargs` are widely understood.\n",
    "- The order of parameters in a function definition should be:\n",
    "   1. Regular parameters (e.g., `name` in the example above)\n",
    "   2. `*args`\n",
    "   3. `**kwargs`\n",
    "\n",
    "By using `*args` and `**kwargs`, you make your Python functions more robust and versatile, capable of handling a broader range of inputs. This promotes code reusability and maintainability."
   ]
  }
 ],
 "metadata": {
  "kernelspec": {
   "display_name": "Python 3 (ipykernel)",
   "language": "python",
   "name": "python3"
  },
  "language_info": {
   "codemirror_mode": {
    "name": "ipython",
    "version": 3
   },
   "file_extension": ".py",
   "mimetype": "text/x-python",
   "name": "python",
   "nbconvert_exporter": "python",
   "pygments_lexer": "ipython3",
   "version": "3.13.2"
  }
 },
 "nbformat": 4,
 "nbformat_minor": 5
}
