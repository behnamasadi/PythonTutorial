{
 "cells": [
  {
   "cell_type": "markdown",
   "metadata": {},
   "source": [
    "# **Built-in Types**\n",
    "\n",
    "These are the fundamental data types that are part of the Python language itself.\n",
    "\n",
    "### **1. Numeric Types:**\n",
    "* `int`:  Integers (whole numbers), e.g., `10`, `-5`, `0`\n",
    "* `float`: Floating-point numbers (numbers with a decimal point), e.g., `3.14`, `-2.5`, `1e6`\n",
    "* `complex`: Complex numbers, e.g., `2 + 3j`\n",
    "\n",
    "### **2.Sequence Types:**"
   ]
  },
  {
   "cell_type": "markdown",
   "metadata": {},
   "source": [
    "#### 2.1 `str`\n",
    "Strings (text), e.g., `\"hello\"`, `'Python'`\n"
   ]
  },
  {
   "cell_type": "markdown",
   "metadata": {},
   "source": [
    "#### 2.2 `list`\n",
    "Lists (ordered, mutable sequences), e.g., `[1, 2, 3]`, `['a', 'b', 'c']`\n",
    "\n",
    "\n"
   ]
  },
  {
   "cell_type": "code",
   "execution_count": 64,
   "metadata": {},
   "outputs": [
    {
     "name": "stdout",
     "output_type": "stream",
     "text": [
      "1\n",
      "2\n",
      "True\n"
     ]
    }
   ],
   "source": [
    "#Searching / Counting\n",
    "my_list = [1, 2, 3, 2, 4]\n",
    "print(my_list.index(2))   # First index of value → 1\n",
    "print(my_list.count(2))   # Count occurrences → 2\n",
    "print(3 in my_list)       # Membership test → True\n"
   ]
  },
  {
   "cell_type": "code",
   "execution_count": 65,
   "metadata": {},
   "outputs": [
    {
     "name": "stdout",
     "output_type": "stream",
     "text": [
      "[1, 2, 3, 4]\n"
     ]
    }
   ],
   "source": [
    "# Sorting & Reversing\n",
    "my_list = [4, 1, 3, 2]\n",
    "my_list.sort()            # In-place sort → [1, 2, 3, 4]\n",
    "my_list.sort(reverse=True) # Sort descending\n",
    "print(sorted(my_list))    # Return new sorted list\n",
    "my_list.reverse()         # Reverse in-place"
   ]
  },
  {
   "cell_type": "code",
   "execution_count": 66,
   "metadata": {},
   "outputs": [
    {
     "name": "stdout",
     "output_type": "stream",
     "text": [
      "[1, 2, 3]\n",
      "[0, 1, 2]\n",
      "[0, 2, 4]\n"
     ]
    }
   ],
   "source": [
    "# Slicing\n",
    "my_list = [0, 1, 2, 3, 4, 5]\n",
    "print(my_list[1:4])       # Slice → [1, 2, 3]\n",
    "print(my_list[:3])        # From start → [0, 1, 2]\n",
    "print(my_list[::2])       # Step → [0, 2, 4]\n"
   ]
  },
  {
   "cell_type": "code",
   "execution_count": 67,
   "metadata": {},
   "outputs": [],
   "source": [
    "# List comprehension, zip\n",
    "squares = [x**2 for x in range(5)]   # List comprehension → [0, 1, 4, 9, 16]\n",
    "zipped = list(zip([1, 2], ['a', 'b'])) # [(1, 'a'), (2, 'b')]\n"
   ]
  },
  {
   "cell_type": "markdown",
   "metadata": {},
   "source": [
    "#### 2.3 `tuple`\n",
    "Tuples (ordered, immutable sequences), e.g., `(1, 2, 3)`, `('x', 'y', 'z')`\n"
   ]
  },
  {
   "cell_type": "code",
   "execution_count": 68,
   "metadata": {},
   "outputs": [],
   "source": [
    "# mmutability\n",
    "t = (1, 2, 3, 4)\n",
    "# t[0] = 10  ❌ ERROR (tuples cannot be changed)\n",
    "\n",
    "# If you need to change it:\n",
    "t = (1, 2, 3)\n",
    "t = list(t)        # Convert to list\n",
    "t.append(4)\n",
    "t = tuple(t)       # Convert back to tuple"
   ]
  },
  {
   "cell_type": "code",
   "execution_count": 69,
   "metadata": {},
   "outputs": [
    {
     "name": "stdout",
     "output_type": "stream",
     "text": [
      "10\n",
      "20\n",
      "[3, 4, 5]\n"
     ]
    }
   ],
   "source": [
    "# Tuple Unpacking\n",
    "point = (10, 20)\n",
    "x, y = point\n",
    "print(x)   # 10\n",
    "print(y)   # 20\n",
    "\n",
    "a, b, *rest = (1, 2, 3, 4, 5)\n",
    "print(rest)  # [3, 4, 5]\n"
   ]
  },
  {
   "cell_type": "markdown",
   "metadata": {},
   "source": [
    "#### 2.4 `range`\n",
    "Ranges (sequences of numbers), e.g., `range(10)` (represents 0, 1, ..., 9)"
   ]
  },
  {
   "cell_type": "markdown",
   "metadata": {},
   "source": [
    "## **3. Mapping Type:**\n",
    "\n",
    "#### `3.1 dict`\n",
    "Dictionaries (key-value pairs), e.g., `{'name': 'Alice', 'age': 30}`\n",
    "\n",
    "\n",
    "\n",
    "\n",
    "\n"
   ]
  },
  {
   "cell_type": "code",
   "execution_count": 70,
   "metadata": {},
   "outputs": [
    {
     "name": "stdout",
     "output_type": "stream",
     "text": [
      "1\n",
      "3\n",
      "2\n",
      "0\n"
     ]
    }
   ],
   "source": [
    "# Creating & Accessing\n",
    "d = {\"a\": 1, \"b\": 2, \"c\": 3}\n",
    "\n",
    "print(d[\"a\"])        # Access value → 1, not safe, if key doesn't exist, causes error \n",
    "print(len(d))        # Length → 3\n",
    "\n",
    "print(d.get(\"b\"))    # Safe access → 2\n",
    "print(d.get(\"x\", 0)) # Default if missing → 0\n"
   ]
  },
  {
   "cell_type": "code",
   "execution_count": 71,
   "metadata": {},
   "outputs": [],
   "source": [
    "# Adding & Updating\n",
    "d[\"d\"] = 4            # Add new key\n",
    "d[\"a\"] = 100          # Update existing key\n",
    "d.update({\"e\": 5})    # Update multiple keys\n"
   ]
  },
  {
   "cell_type": "code",
   "execution_count": 72,
   "metadata": {},
   "outputs": [],
   "source": [
    "# Removing Element\n",
    "d.pop(\"b\")            # Remove key & return value\n",
    "d.pop(\"z\", None)      # Avoid error with default\n",
    "del d[\"c\"]            # Delete key\n",
    "d.clear()             # Remove all items\n"
   ]
  },
  {
   "cell_type": "code",
   "execution_count": 73,
   "metadata": {},
   "outputs": [
    {
     "name": "stdout",
     "output_type": "stream",
     "text": [
      "dict_keys(['a', 'b', 'c'])\n",
      "dict_values([1, 2, 3])\n",
      "dict_items([('a', 1), ('b', 2), ('c', 3)])\n",
      "a 1\n",
      "b 2\n",
      "c 3\n"
     ]
    }
   ],
   "source": [
    "# 4. Key, Value, Item Views\n",
    "d = {\"a\": 1, \"b\": 2, \"c\": 3}\n",
    "\n",
    "print(d.keys())       # dict_keys(['a', 'b', 'c'])\n",
    "print(d.values())     # dict_values([1, 2, 3])\n",
    "print(d.items())      # dict_items([('a', 1), ('b', 2), ('c', 3)])\n",
    "\n",
    "for k, v in d.items():\n",
    "    print(k, v)       # Iterating key & value\n"
   ]
  },
  {
   "cell_type": "code",
   "execution_count": 74,
   "metadata": {},
   "outputs": [
    {
     "name": "stdout",
     "output_type": "stream",
     "text": [
      "True\n",
      "True\n"
     ]
    }
   ],
   "source": [
    "# 5. Searching\n",
    "print(\"a\" in d)       # True (checks keys)\n",
    "print(2 in d.values()) # True\n"
   ]
  },
  {
   "cell_type": "markdown",
   "metadata": {},
   "source": [
    "#### `3.2 Set`"
   ]
  },
  {
   "cell_type": "markdown",
   "metadata": {},
   "source": [
    "Sets (unordered collections of **unique** elements), e.g., `{1, 2, 3}`"
   ]
  },
  {
   "cell_type": "code",
   "execution_count": 75,
   "metadata": {},
   "outputs": [
    {
     "name": "stdout",
     "output_type": "stream",
     "text": [
      "4\n",
      "True\n",
      "False\n"
     ]
    }
   ],
   "source": [
    "# Creating & Basics\n",
    "s = {1, 2, 3, 4}\n",
    "print(len(s))     # 4\n",
    "print(2 in s)     # True\n",
    "print(5 in s)     # False\n",
    "\n",
    "empty = set()     # ⚠️ {} makes a dict, not a set"
   ]
  },
  {
   "cell_type": "code",
   "execution_count": 76,
   "metadata": {},
   "outputs": [],
   "source": [
    "# Adding & Removing Elements\n",
    "s.add(5)           # Add single element\n",
    "s.update([6, 7])   # Add multiple elements\n",
    "\n",
    "s.remove(3)        # Remove element (❌ error if not found)\n",
    "s.discard(10)      # Remove element (no error if missing)\n",
    "s.pop()            # Remove and return a random element\n",
    "s.clear()          # Remove all elements"
   ]
  },
  {
   "cell_type": "code",
   "execution_count": 77,
   "metadata": {},
   "outputs": [
    {
     "name": "stdout",
     "output_type": "stream",
     "text": [
      "{1, 2, 3, 4, 5}\n",
      "{3}\n",
      "{1, 2}\n",
      "{1, 2, 4, 5}\n"
     ]
    }
   ],
   "source": [
    "# Set Operations (Math Style)\n",
    "a = {1, 2, 3}\n",
    "b = {3, 4, 5}\n",
    "\n",
    "print(a | b)   # Union → {1, 2, 3, 4, 5}\n",
    "print(a & b)   # Intersection → {3}\n",
    "print(a - b)   # Difference → {1, 2}\n",
    "print(a ^ b)   # Symmetric difference → {1, 2, 4, 5}\n"
   ]
  },
  {
   "cell_type": "code",
   "execution_count": 78,
   "metadata": {},
   "outputs": [
    {
     "name": "stdout",
     "output_type": "stream",
     "text": [
      "True\n",
      "True\n",
      "True\n"
     ]
    }
   ],
   "source": [
    "# Subset & Superset Checks\n",
    "a = {1, 2}\n",
    "b = {1, 2, 3}\n",
    "\n",
    "print(a.issubset(b))    # True\n",
    "print(b.issuperset(a))  # True\n",
    "print(a.isdisjoint({4, 5}))  # True\n"
   ]
  },
  {
   "cell_type": "markdown",
   "metadata": {},
   "source": [
    "### 3.3 **Boolean Type:**\n",
    "* `bool`: Booleans (True or False), e.g., `True`, `False`\n",
    "\n",
    "### 3.4 **None Type:**\n",
    "* `NoneType`: Represents the absence of a value, `None`"
   ]
  },
  {
   "cell_type": "markdown",
   "metadata": {},
   "source": [
    "## **Built-in Functions**\n",
    "\n",
    "Python provides a rich set of built-in functions that perform various operations. Here are some of the most frequently used ones:\n",
    "\n",
    "* **Type Conversion:**\n",
    "    * `int()`: Converts to integer, e.g., `int(\"123\")`\n",
    "    * `float()`: Converts to float, e.g., `float(\"3.14\")`\n",
    "    * `str()`: Converts to string, e.g., `str(10)`\n",
    "    * `list()`: Converts to list, e.g., `list((1, 2, 3))`\n",
    "    * `tuple()`: Converts to tuple, e.g., `tuple([1, 2, 3])`\n",
    "    * `set()`: Converts to set, e.g., `set([1, 2, 2, 3])`\n",
    "    * `dict()`: Creates a dictionary (can take various forms of input)\n",
    "    * `bool()`: Converts to boolean, e.g., `bool(0)` (False), `bool(1)` (True)\n",
    "\n",
    "* **Math Functions:**\n",
    "    * `abs()`: Absolute value, e.g., `abs(-5)`\n",
    "    * `pow()`: Power, e.g., `pow(2, 3)` (2 to the power of 3)\n",
    "    * `round()`: Rounds a number, e.g., `round(3.14159, 2)` (rounds to 2 decimal places)\n",
    "    * `max()`: Maximum value, e.g., `max(1, 2, 3)`\n",
    "    * `min()`: Minimum value, e.g., `min(1, 2, 3)`\n",
    "\n",
    "* **String Functions:**\n",
    "    * `len()`: Length of a string, e.g., `len(\"hello\")`\n",
    "    * `print()`: Prints to the console, e.g., `print(\"Hello, world!\")`\n",
    "    * `input()`: Gets input from the user, e.g., `name = input(\"Enter your name: \")`\n",
    "\n",
    "* **Sequence Functions:**\n",
    "    * `len()`: Length of a sequence (list, tuple, string), e.g., `len([1, 2, 3])`\n",
    "    * `sum()`: Sum of elements in a sequence, e.g., `sum([1, 2, 3])`\n",
    "    * `sorted()`: Returns a sorted list, e.g., `sorted([3, 1, 2])`\n",
    "    * `reversed()`: Returns a reversed iterator, e.g., `list(reversed([1, 2, 3]))`\n",
    "    * `enumerate()`: Returns an enumerate object (index, value pairs)\n",
    "\n",
    "* **Other Useful Functions:**\n",
    "    * `type()`: Returns the type of an object, e.g., `type(10)`\n",
    "    * `id()`: Returns the unique identifier of an object\n",
    "    * `help()`: Provides help documentation for an object or function\n",
    "    * `open()`: Opens a file\n",
    "    * `range()`: Generates a sequence of numbers\n",
    "    * `map()`: Applies a lambda or function to an iterator. \n"
   ]
  },
  {
   "cell_type": "code",
   "execution_count": 79,
   "metadata": {},
   "outputs": [
    {
     "name": "stdout",
     "output_type": "stream",
     "text": [
      "[0, 2, 4, 6, 8]\n"
     ]
    }
   ],
   "source": [
    "l = [i for i in range(5)]\n",
    "print(list(map(lambda i: 2*i, l)))"
   ]
  },
  {
   "cell_type": "markdown",
   "metadata": {},
   "source": [
    "* `zip()`:returns a zip object, which is an iterator of tuples\n"
   ]
  },
  {
   "cell_type": "code",
   "execution_count": 80,
   "metadata": {},
   "outputs": [
    {
     "data": {
      "text/plain": [
       "[(1, 'a'), (2, 'b'), (3, 'c')]"
      ]
     },
     "execution_count": 80,
     "metadata": {},
     "output_type": "execute_result"
    }
   ],
   "source": [
    "l1=[1,2,3]\n",
    "l2=['a', 'b' ,'c']\n",
    "l=zip(l1,l2)\n",
    "list(l)"
   ]
  },
  {
   "cell_type": "markdown",
   "metadata": {},
   "source": [
    "* `filter()`: eturns an iterator where the items are filtered through a function"
   ]
  },
  {
   "cell_type": "code",
   "execution_count": 81,
   "metadata": {},
   "outputs": [
    {
     "name": "stdout",
     "output_type": "stream",
     "text": [
      "[0, 1, 2]\n"
     ]
    }
   ],
   "source": [
    "l = [i for i in range(5)]\n",
    "print(list(filter(lambda i: i < 3, l)))"
   ]
  },
  {
   "cell_type": "markdown",
   "metadata": {},
   "source": [
    "**Example:**"
   ]
  },
  {
   "cell_type": "code",
   "execution_count": 82,
   "metadata": {},
   "outputs": [
    {
     "name": "stdout",
     "output_type": "stream",
     "text": [
      "<class 'int'>\n",
      "<class 'float'>\n",
      "<class 'str'>\n",
      "3\n",
      "6\n",
      "3\n",
      "ALICE\n"
     ]
    },
    {
     "name": "stdin",
     "output_type": "stream",
     "text": [
      "Enter your age:  2\n"
     ]
    },
    {
     "name": "stdout",
     "output_type": "stream",
     "text": [
      "Hello, Alice! You are 2 years old.\n"
     ]
    }
   ],
   "source": [
    "x = 10\n",
    "y = 3.14\n",
    "name = \"Alice\"\n",
    "my_list = [1, 2, 3]\n",
    "\n",
    "print(type(x))      # Output: <class 'int'>\n",
    "print(type(y))      # Output: <class 'float'>\n",
    "print(type(name))   # Output: <class 'str'>\n",
    "print(len(my_list))  # Output: 3\n",
    "print(sum(my_list))  # Output: 6\n",
    "\n",
    "z = int(y)         # Convert y to an integer\n",
    "print(z)          # Output: 3\n",
    "\n",
    "print(name.upper()) # Output: ALICE (string method)\n",
    "\n",
    "# Get input from the user\n",
    "age = int(input(\"Enter your age: \")) #  Important: convert to int!\n",
    "print(f\"Hello, {name}! You are {age} years old.\")"
   ]
  }
 ],
 "metadata": {
  "colab": {
   "from_bard": true
  },
  "kernelspec": {
   "display_name": "Python 3 (ipykernel)",
   "language": "python",
   "name": "python3"
  },
  "language_info": {
   "codemirror_mode": {
    "name": "ipython",
    "version": 3
   },
   "file_extension": ".py",
   "mimetype": "text/x-python",
   "name": "python",
   "nbconvert_exporter": "python",
   "pygments_lexer": "ipython3",
   "version": "3.13.2"
  }
 },
 "nbformat": 4,
 "nbformat_minor": 4
}
