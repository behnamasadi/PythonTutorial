{
 "cells": [
  {
   "cell_type": "markdown",
   "id": "73b1a2fc-4858-4e50-8876-72cf2578e922",
   "metadata": {},
   "source": [
    "## Decorator\n",
    "A decorator is a powerful and elegant way to modify or enhance functions and methods without directly changing their code.  \n",
    "\n",
    "Decorators use the `@` symbol followed by the decorator function name, placed directly above the function you want to modify.\n",
    "\n",
    "\n",
    "**What a Decorator Does:**\n",
    "\n",
    "1. **Takes a function as input:**  A decorator is itself a function that accepts another function as an argument.\n",
    "\n",
    "2. **Wraps the function:** It creates a new function (often called a \"wrapper\" function) that encapsulates the original function.\n",
    "\n",
    "3. **Adds functionality:** The wrapper function can execute code *before* calling the original function, *after* calling the original function, or *both*. This is where the modification or enhancement happens.\n",
    "\n",
    "4. **Returns the modified function:** The decorator returns the wrapper function, effectively replacing the original function with the enhanced version.\n",
    "\n",
    "5.  **`functools.wraps`**: This is a crucial addition. When you use a decorator, the decorated function (`greet` in your example) loses its original metadata, such as its name, docstring, and argument annotations. This can cause issues with debugging and other tools. The `@functools.wraps(func)` decorator copies this metadata from the original function to the new wrapper function.\n",
    "\n",
    "6.  **Type Hinting**: Adding type hints to the decorator's arguments and return values can improve code readability and help with static analysis.\n",
    "\n",
    "Here's the enhanced version:\n",
    "\n",
    "```python\n",
    "import functools\n",
    "from typing import Callable, Any\n",
    "\n",
    "def decorator(func: Callable) -> Callable:\n",
    "    @functools.wraps(func)\n",
    "    def wrapper(*args: Any, **kwargs: Any) -> Any:\n",
    "        print(\"before\")\n",
    "        val = func(*args, **kwargs)\n",
    "        print(\"after\")\n",
    "        return val\n",
    "    return wrapper\n",
    "\n",
    "@decorator\n",
    "def greet(name: str) -> str:\n",
    "    \"\"\"This function greets a person.\"\"\"\n",
    "    return f\"welcome {name}\"\n",
    "\n",
    "# Example of how to use the function\n",
    "print(greet(\"Alice\"))\n",
    "\n",
    "# Now, the function's metadata is preserved\n",
    "print(f\"Function name: {greet.__name__}\")\n",
    "print(f\"Function docstring: {greet.__doc__}\")\n",
    "```\n",
    "\n",
    "In this revised code, `functools.wraps` ensures that when you call `greet.__name__` or `greet.__doc__`, you get the correct information from the original function, not the `wrapper` function created by the decorator. This is considered a **best practice** for writing decorators in Python.\n"
   ]
  }
 ],
 "metadata": {
  "kernelspec": {
   "display_name": "Python 3 (ipykernel)",
   "language": "python",
   "name": "python3"
  },
  "language_info": {
   "codemirror_mode": {
    "name": "ipython",
    "version": 3
   },
   "file_extension": ".py",
   "mimetype": "text/x-python",
   "name": "python",
   "nbconvert_exporter": "python",
   "pygments_lexer": "ipython3",
   "version": "3.13.2"
  }
 },
 "nbformat": 4,
 "nbformat_minor": 5
}
