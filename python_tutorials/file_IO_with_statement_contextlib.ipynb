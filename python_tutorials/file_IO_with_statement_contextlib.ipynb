{
 "cells": [
  {
   "cell_type": "markdown",
   "metadata": {},
   "source": [
    "**1. File I/O (open, read, write)**\n",
    "\n",
    "*   **`open()`:** The built-in `open()` function is the gateway to file interaction. It takes the file path and the mode of operation as arguments.  Common modes include:\n",
    "    *   `'r'`: Read (default). Opens the file for reading. Raises an error if the file doesn't exist.\n",
    "    *   `'w'`: Write. Opens the file for writing. Creates the file if it doesn't exist, or overwrites it if it does.\n",
    "    *   `'a'`: Append. Opens the file for appending. Creates the file if it doesn't exist. Data is added to the end of the file.\n",
    "    *   `'b'`: Binary mode.  Used in conjunction with the other modes (e.g., `'rb'`, `'wb'`) for reading or writing binary data.\n",
    "    *   `'+'`: Update. Opens the file for both reading and writing."
   ]
  },
  {
   "cell_type": "code",
   "execution_count": null,
   "metadata": {},
   "outputs": [],
   "source": [
    "file = open(\"my_file.txt\", \"r\")  # Open for reading"
   ]
  },
  {
   "cell_type": "markdown",
   "metadata": {},
   "source": [
    "*   **`read()`:** Reads data from the file.\n",
    "    *   `file.read()`: Reads the entire file content as a single string.\n",
    "    *   `file.read(size)`: Reads up to `size` characters.\n",
    "    *   `file.readline()`: Reads a single line (including the newline character).\n",
    "    *   `file.readlines()`: Reads all lines into a list."
   ]
  },
  {
   "cell_type": "code",
   "execution_count": null,
   "metadata": {},
   "outputs": [],
   "source": [
    "content = file.read()       # Read the whole file\n",
    "    first_line = file.readline() # Read the first line\n",
    "    lines = file.readlines()     # Read all lines into a list"
   ]
  },
  {
   "cell_type": "markdown",
   "metadata": {},
   "source": [
    "*   **`write()`:** Writes data to the file."
   ]
  },
  {
   "cell_type": "code",
   "execution_count": null,
   "metadata": {},
   "outputs": [],
   "source": [
    "file.write(\"Hello, world!\\n\")"
   ]
  },
  {
   "cell_type": "markdown",
   "metadata": {},
   "source": [
    "*   **`close()`:**  Crucially, you *must* close the file when you're finished with it. This releases system resources and ensures data is properly written to disk."
   ]
  },
  {
   "cell_type": "code",
   "execution_count": null,
   "metadata": {},
   "outputs": [],
   "source": [
    "file.close()"
   ]
  },
  {
   "cell_type": "markdown",
   "metadata": {},
   "source": [
    "**The Problem: Forgetting `close()`**\n",
    "\n",
    "Forgetting to `close()` a file is a common source of bugs. It can lead to data corruption, resource leaks, and other issues.  This is where the `with` statement comes to the rescue.\n",
    "\n",
    "**2. The `with` Statement**\n",
    "\n",
    "The `with` statement provides a clean and elegant way to manage resources, including files. It ensures that the file is automatically closed, even if exceptions occur."
   ]
  },
  {
   "cell_type": "code",
   "execution_count": null,
   "metadata": {},
   "outputs": [],
   "source": [
    "with open(\"my_file.txt\", \"r\") as file:\n",
    "    content = file.read()\n",
    "    # ... process the file content ...\n",
    "# File is automatically closed here, even if an error occurred."
   ]
  },
  {
   "cell_type": "markdown",
   "metadata": {},
   "source": [
    "**How `with` Works: Context Managers**\n",
    "\n",
    "The `with` statement works in conjunction with *context managers*. A context manager is an object that defines what happens when you enter and exit a `with` block.  Files are context managers.\n",
    "\n",
    "*   **`__enter__()`:** The `__enter__()` method of the context manager is called when you enter the `with` block.  For files, this is where the file is opened.  The `__enter__()` method typically returns the resource itself (the file object in this case), which is then assigned to the variable after `as` (e.g., `file` in the example above).\n",
    "\n",
    "*   **`__exit__(exc_type, exc_val, exc_tb)`:** The `__exit__()` method is *always* called when you exit the `with` block, regardless of whether an exception occurred.  Its job is to clean up resources. For files, this is where the `close()` method is called.  The `exc_type`, `exc_val`, and `exc_tb` arguments provide information about any exceptions that were raised. If no exception occurred, they are all `None`.\n",
    "\n",
    "**3. `contextlib` (for creating your own context managers)**\n",
    "\n",
    "The `contextlib` module provides tools for creating your own context managers.  The most common way is using the `@contextmanager` decorator:"
   ]
  },
  {
   "cell_type": "code",
   "execution_count": 2,
   "metadata": {},
   "outputs": [
    {
     "name": "stdout",
     "output_type": "stream",
     "text": [
      "Entering context\n",
      "Using resource: My Resource\n",
      "Exiting context\n"
     ]
    }
   ],
   "source": [
    "from contextlib import contextmanager\n",
    "\n",
    "@contextmanager\n",
    "def my_context():\n",
    "    # Code to run before entering the 'with' block (e.g., acquire a resource)\n",
    "    print(\"Entering context\")\n",
    "    resource = \"My Resource\"  # Example resource\n",
    "    try:\n",
    "        yield resource  # Provide the resource to the 'with' block\n",
    "        # Code to run if no exception occurs in the 'with' block\n",
    "    finally:\n",
    "        # Code to run when exiting the 'with' block (e.g., release the resource)\n",
    "        print(\"Exiting context\")\n",
    "\n",
    "with my_context() as res:\n",
    "    print(f\"Using resource: {res}\")\n",
    "# Output:\n",
    "# Entering context\n",
    "# Using resource: My Resource\n",
    "# Exiting context"
   ]
  },
  {
   "cell_type": "markdown",
   "metadata": {},
   "source": [
    "**Key Advantages of `with` and Context Managers:**\n",
    "\n",
    "*   **Resource safety:** Ensures resources are always cleaned up, even in the face of errors.\n",
    "*   **Code clarity:** Makes code easier to read and reason about.  You don't have to worry about manually closing files.\n",
    "*   **Reduced boilerplate:**  Avoids repetitive `try...finally` blocks for resource management.\n",
    "\n",
    "In summary, always use the `with` statement when working with files (and other resources that support context managers). It's the best practice for writing robust and maintainable Python code.  If you need to manage other kinds of resources, consider creating your own context managers using `contextlib`."
   ]
  }
 ],
 "metadata": {
  "colab": {
   "from_bard": true
  },
  "kernelspec": {
   "display_name": "Python 3 (ipykernel)",
   "language": "python",
   "name": "python3"
  },
  "language_info": {
   "codemirror_mode": {
    "name": "ipython",
    "version": 3
   },
   "file_extension": ".py",
   "mimetype": "text/x-python",
   "name": "python",
   "nbconvert_exporter": "python",
   "pygments_lexer": "ipython3",
   "version": "3.13.2"
  }
 },
 "nbformat": 4,
 "nbformat_minor": 4
}
