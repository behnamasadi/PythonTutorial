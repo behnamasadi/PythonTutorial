{
 "cells": [
  {
   "cell_type": "markdown",
   "id": "cee81c53-bf25-4ef0-8126-e86a71fb45e8",
   "metadata": {},
   "source": [
    "### Python Example\n",
    "\n",
    "In Python, you can use the `json` module to serialize a class object. You typically need to convert the class instance to a dictionary first:\n",
    "\n",
    "```python\n",
    "import json\n",
    "\n",
    "class MyClass:\n",
    "    def __init__(self, name, age):\n",
    "        self.name = name\n",
    "        self.age = age\n",
    "\n",
    "    def to_dict(self):\n",
    "        return {\"name\": self.name, \"age\": self.age}\n",
    "\n",
    "# Create an instance of MyClass\n",
    "obj = MyClass(\"John Doe\", 30)\n",
    "\n",
    "# Convert the object to a dictionary\n",
    "obj_dict = obj.to_dict()\n",
    "\n",
    "# Serialize the dictionary to a JSON string\n",
    "json_str = json.dumps(obj_dict)\n",
    "\n",
    "# Write the JSON string to a file\n",
    "with open(\"data.json\", \"w\") as file:\n",
    "    file.write(json_str)\n",
    "```\n"
   ]
  }
 ],
 "metadata": {
  "kernelspec": {
   "display_name": "Python 3 (ipykernel)",
   "language": "python",
   "name": "python3"
  },
  "language_info": {
   "codemirror_mode": {
    "name": "ipython",
    "version": 3
   },
   "file_extension": ".py",
   "mimetype": "text/x-python",
   "name": "python",
   "nbconvert_exporter": "python",
   "pygments_lexer": "ipython3",
   "version": "3.13.2"
  }
 },
 "nbformat": 4,
 "nbformat_minor": 5
}
