{
 "cells": [
  {
   "cell_type": "markdown",
   "metadata": {},
   "source": [
    "## **Python's lambda functions**\n",
    "\n",
    "\n",
    "**Purpose:**\n",
    "\n",
    "* **Creating small, one-time-use functions:** Lambda functions are handy when you need a function for a short, specific task and don't want to define a full-fledged function using `def`.  They're often used with higher-order functions like `map`, `filter`, and `sorted`.\n",
    "* **Conciseness:** They allow you to write simple functions in a single line, making your code more readable in certain situations.\n",
    "\n",
    "**Syntax:**\n",
    "\n",
    "```python\n",
    "lambda arguments: expression\n",
    "```\n",
    "\n",
    "* **`lambda`:** The keyword that indicates you're creating an anonymous function.\n",
    "* **`arguments`:**  A comma-separated list of input parameters (like regular function arguments).  Can be empty.\n",
    "* **`expression`:** A single expression that is evaluated and returned.  *This is the key limitation of lambda functions: they can only contain a single expression.*  No statements (like `if`, `for`, or `while`) are allowed.\n",
    "\n",
    "**Examples:**\n",
    "\n",
    "1. **Simple addition:**\n",
    "\n",
    "   ```python\n",
    "   add = lambda x, y: x + y\n",
    "   result = add(5, 3)  # result will be 8\n",
    "   print(result)\n",
    "   ```\n",
    "\n",
    "2. **Squaring a number:**\n",
    "\n",
    "   ```python\n",
    "   square = lambda x: x * x\n",
    "   print(square(4)) # Output: 16\n",
    "   ```\n",
    "\n",
    "3. **String manipulation:**\n",
    "\n",
    "   ```python\n",
    "   greet = lambda name: \"Hello, \" + name + \"!\"\n",
    "   print(greet(\"Alice\"))  # Output: Hello, Alice!\n",
    "   ```\n",
    "\n",
    "**Use Cases (where lambdas shine):**\n",
    "\n",
    "1. **`map()`:** Applying a function to each item in an iterable.\n",
    "\n",
    "   ```python\n",
    "   numbers = [1, 2, 3, 4, 5]\n",
    "   squared_numbers = list(map(lambda x: x * x, numbers))\n",
    "   print(squared_numbers)  # Output: [1, 4, 9, 16, 25]\n",
    "   ```\n",
    "\n",
    "2. **`filter()`:** Filtering items in an iterable based on a condition.\n",
    "\n",
    "   ```python\n",
    "   numbers = [1, 2, 3, 4, 5, 6]\n",
    "   even_numbers = list(filter(lambda x: x % 2 == 0, numbers))\n",
    "   print(even_numbers) # Output: [2, 4, 6]\n",
    "   ```\n",
    "\n",
    "3. **`sorted()`:** Sorting a list based on a custom key.\n",
    "\n",
    "   ```python\n",
    "   people = [(\"Alice\", 25), (\"Bob\", 30), (\"Charlie\", 20)]\n",
    "   sorted_people = sorted(people, key=lambda person: person[1])  # Sort by age (second element)\n",
    "   print(sorted_people)  # Output: [('Charlie', 20), ('Alice', 25), ('Bob', 30)]\n",
    "   ```\n",
    "\n",
    "4. **GUI Programming (e.g., Tkinter):**  Often used for event handlers.\n",
    "\n",
    "   ```python\n",
    "   import tkinter as tk\n",
    "\n",
    "   root = tk.Tk()\n",
    "   button = tk.Button(root, text=\"Click me\", command=lambda: print(\"Button clicked!\"))\n",
    "   button.pack()\n",
    "   root.mainloop()\n",
    "   ```\n",
    "\n",
    "**When *not* to use lambdas:**\n",
    "\n",
    "* **Complex logic:** If your function requires multiple statements or complex logic, it's better to define a regular function using `def`.  Lambdas are designed for simple expressions.  Trying to cram complex logic into a lambda will make your code harder to read and maintain.\n",
    "* **Reusability:** If you need to use the function multiple times in different parts of your code, define it using `def` so you can call it by name.  Lambdas are typically for one-time use.\n",
    "\n",
    "**Key takeaway:** Lambdas are a powerful tool for writing concise, simple functions.  Use them when they make your code more readable and efficient, but don't try to force them into situations where a regular function would be more appropriate. They are best for short, sweet, single-expression operations.\n"
   ]
  },
  {
   "cell_type": "markdown",
   "metadata": {
    "id": "1I8Y88MvJNHG"
   },
   "source": [
    "The issue with your current code is that the `sorted()` function's `key` argument expects a function that takes a *single* element from the iterable and returns a value to be used for sorting. Your `des_sort_lambda` takes *two* arguments (`a` and `b`), which doesn't match what `sorted()` needs.\n",
    "\n",
    "You want to sort in descending order based on the *value* of each element in the range.  You don't need to compare pairs of elements within the `key` function itself.  The `sorted()` function handles the comparisons.\n",
    "\n",
    "Here's the corrected code:"
   ]
  },
  {
   "cell_type": "code",
   "execution_count": null,
   "metadata": {
    "id": "eVI2Q-yhJNHK"
   },
   "outputs": [],
   "source": [
    "des_sort_lambda = lambda x: -x  # Negate the value for descending sort\n",
    "\n",
    "print(sorted(range(2, 20, 3), key=des_sort_lambda))\n",
    "\n",
    "# Or, even better, use a simpler approach:\n",
    "\n",
    "print(sorted(range(2, 20, 3), reverse=True)) # More Pythonic and readable"
   ]
  },
  {
   "cell_type": "markdown",
   "metadata": {
    "id": "mcvUhIogJNHL"
   },
   "source": [
    "**Explanation:**\n",
    "\n",
    "1. **`des_sort_lambda = lambda x: -x`:** This lambda function now takes a single argument `x` (representing an element from the `range`).  It returns the *negation* of `x`.  By negating the values, we effectively reverse the sort order.  `sorted()` will sort based on these negated values, resulting in a descending sort of the original values.\n",
    "\n",
    "2. **`sorted(range(2, 20, 3), key=des_sort_lambda)`:**  The `sorted()` function now uses the `des_sort_lambda` to get the sorting key for each element in the `range`.\n",
    "\n",
    "3. **`sorted(range(2, 20, 3), reverse=True)`:** This is the *preferred* and more Pythonic way to sort in descending order.  The `reverse=True` argument directly tells `sorted()` to sort in reverse.  It's much clearer and easier to understand than using a lambda function for this simple case.\n",
    "\n",
    "**Example Output:**\n",
    "\n",
    "Both the lambda version and the `reverse=True` version will produce the same output:\n",
    "\n",
    "```\n",
    "[17, 14, 11, 8, 5, 2]\n",
    "```\n",
    "\n",
    "**Key takeaway:**  The `key` function in `sorted()` should operate on *individual elements* of the iterable, not pairs.  For simple descending sorts, `reverse=True` is the most straightforward and recommended approach.  Only use a `key` lambda when you need to transform the elements in some way *before* sorting."
   ]
  }
 ],
 "metadata": {
  "colab": {
   "provenance": []
  },
  "kernelspec": {
   "display_name": "Python 3 (ipykernel)",
   "language": "python",
   "name": "python3"
  },
  "language_info": {
   "codemirror_mode": {
    "name": "ipython",
    "version": 3
   },
   "file_extension": ".py",
   "mimetype": "text/x-python",
   "name": "python",
   "nbconvert_exporter": "python",
   "pygments_lexer": "ipython3",
   "version": "3.13.2"
  }
 },
 "nbformat": 4,
 "nbformat_minor": 4
}
