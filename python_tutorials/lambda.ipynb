{
 "cells": [
  {
   "cell_type": "markdown",
   "metadata": {
    "id": "1I8Y88MvJNHG"
   },
   "source": [
    "The issue with your current code is that the `sorted()` function's `key` argument expects a function that takes a *single* element from the iterable and returns a value to be used for sorting. Your `des_sort_lambda` takes *two* arguments (`a` and `b`), which doesn't match what `sorted()` needs.\n",
    "\n",
    "You want to sort in descending order based on the *value* of each element in the range.  You don't need to compare pairs of elements within the `key` function itself.  The `sorted()` function handles the comparisons.\n",
    "\n",
    "Here's the corrected code:"
   ]
  },
  {
   "cell_type": "code",
   "execution_count": null,
   "metadata": {
    "id": "eVI2Q-yhJNHK"
   },
   "outputs": [],
   "source": [
    "des_sort_lambda = lambda x: -x  # Negate the value for descending sort\n",
    "\n",
    "print(sorted(range(2, 20, 3), key=des_sort_lambda))\n",
    "\n",
    "# Or, even better, use a simpler approach:\n",
    "\n",
    "print(sorted(range(2, 20, 3), reverse=True)) # More Pythonic and readable"
   ]
  },
  {
   "cell_type": "markdown",
   "metadata": {
    "id": "mcvUhIogJNHL"
   },
   "source": [
    "**Explanation:**\n",
    "\n",
    "1. **`des_sort_lambda = lambda x: -x`:** This lambda function now takes a single argument `x` (representing an element from the `range`).  It returns the *negation* of `x`.  By negating the values, we effectively reverse the sort order.  `sorted()` will sort based on these negated values, resulting in a descending sort of the original values.\n",
    "\n",
    "2. **`sorted(range(2, 20, 3), key=des_sort_lambda)`:**  The `sorted()` function now uses the `des_sort_lambda` to get the sorting key for each element in the `range`.\n",
    "\n",
    "3. **`sorted(range(2, 20, 3), reverse=True)`:** This is the *preferred* and more Pythonic way to sort in descending order.  The `reverse=True` argument directly tells `sorted()` to sort in reverse.  It's much clearer and easier to understand than using a lambda function for this simple case.\n",
    "\n",
    "**Example Output:**\n",
    "\n",
    "Both the lambda version and the `reverse=True` version will produce the same output:\n",
    "\n",
    "```\n",
    "[17, 14, 11, 8, 5, 2]\n",
    "```\n",
    "\n",
    "**Key takeaway:**  The `key` function in `sorted()` should operate on *individual elements* of the iterable, not pairs.  For simple descending sorts, `reverse=True` is the most straightforward and recommended approach.  Only use a `key` lambda when you need to transform the elements in some way *before* sorting."
   ]
  }
 ],
 "metadata": {
  "colab": {
   "provenance": []
  },
  "kernelspec": {
   "display_name": "Python 3 (ipykernel)",
   "language": "python",
   "name": "python3"
  },
  "language_info": {
   "codemirror_mode": {
    "name": "ipython",
    "version": 3
   },
   "file_extension": ".py",
   "mimetype": "text/x-python",
   "name": "python",
   "nbconvert_exporter": "python",
   "pygments_lexer": "ipython3",
   "version": "3.13.2"
  }
 },
 "nbformat": 4,
 "nbformat_minor": 4
}
