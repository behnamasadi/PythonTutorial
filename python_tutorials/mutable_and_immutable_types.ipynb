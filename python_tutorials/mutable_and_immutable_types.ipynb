{
 "cells": [
  {
   "cell_type": "markdown",
   "metadata": {},
   "source": [
    "\n",
    "**Mutable Types**\n",
    "\n",
    "Mutable types are those whose values can be changed *after* they are created.  Modifying a mutable object doesn't create a new object in memory; it changes the original object directly.\n",
    "\n",
    "* **Lists:** Ordered, changeable sequences."
   ]
  },
  {
   "cell_type": "code",
   "execution_count": null,
   "metadata": {},
   "outputs": [],
   "source": [
    "my_list = [1, 2, 3]\n",
    "print(f\"Original list: {my_list}, ID: {id(my_list)}\")\n",
    "\n",
    "my_list.append(4)  # Modifying the list\n",
    "print(f\"Modified list: {my_list}, ID: {id(my_list)}\")  # ID remains the same\n",
    "\n",
    "my_list[0] = 10  # Changing an element\n",
    "print(f\"Modified list: {my_list}, ID: {id(my_list)}\") # ID remains the same"
   ]
  },
  {
   "cell_type": "markdown",
   "metadata": {},
   "source": [
    "* **Dictionaries:** Key-value pairs."
   ]
  },
  {
   "cell_type": "code",
   "execution_count": null,
   "metadata": {},
   "outputs": [],
   "source": [
    "my_dict = {\"a\": 1, \"b\": 2}\n",
    "print(f\"Original dictionary: {my_dict}, ID: {id(my_dict)}\")\n",
    "\n",
    "my_dict[\"c\"] = 3  # Adding a new key-value pair\n",
    "print(f\"Modified dictionary: {my_dict}, ID: {id(my_dict)}\") # ID remains the same\n",
    "\n",
    "my_dict[\"a\"] = 10 # Changing a value\n",
    "print(f\"Modified dictionary: {my_dict}, ID: {id(my_dict)}\") # ID remains the same"
   ]
  },
  {
   "cell_type": "markdown",
   "metadata": {},
   "source": [
    "* **Sets:** Unordered collections of unique elements."
   ]
  },
  {
   "cell_type": "code",
   "execution_count": null,
   "metadata": {},
   "outputs": [],
   "source": [
    "my_set = {1, 2, 3}\n",
    "print(f\"Original set: {my_set}, ID: {id(my_set)}\")\n",
    "\n",
    "my_set.add(4) # Adding an element\n",
    "print(f\"Modified set: {my_set}, ID: {id(my_set)}\") # ID remains the same\n",
    "\n",
    "my_set.remove(1) # Removing an element\n",
    "print(f\"Modified set: {my_set}, ID: {id(my_set)}\") # ID remains the same"
   ]
  },
  {
   "cell_type": "markdown",
   "metadata": {},
   "source": [
    "**Immutable Types**\n",
    "\n",
    "Immutable types, on the other hand, cannot be changed after they are created.  Any operation that *seems* to modify an immutable object actually creates a *new* object in memory with the updated value.\n",
    "\n",
    "* **Integers:** Whole numbers."
   ]
  },
  {
   "cell_type": "code",
   "execution_count": null,
   "metadata": {},
   "outputs": [],
   "source": [
    "x = 10\n",
    "print(f\"Original integer: {x}, ID: {id(x)}\")\n",
    "\n",
    "x = x + 5  # \"Modifying\" x\n",
    "print(f\"Modified integer: {x}, ID: {id(x)}\")  # ID has changed!"
   ]
  },
  {
   "cell_type": "markdown",
   "metadata": {},
   "source": [
    "* **Floats:** Floating-point numbers."
   ]
  },
  {
   "cell_type": "code",
   "execution_count": null,
   "metadata": {},
   "outputs": [],
   "source": [
    "y = 3.14\n",
    "print(f\"Original float: {y}, ID: {id(y)}\")\n",
    "\n",
    "y = y * 2  # \"Modifying\" y\n",
    "print(f\"Modified float: {y}, ID: {id(y)}\")  # ID has changed!"
   ]
  },
  {
   "cell_type": "markdown",
   "metadata": {},
   "source": [
    "* **Strings:** Sequences of characters."
   ]
  },
  {
   "cell_type": "code",
   "execution_count": null,
   "metadata": {},
   "outputs": [],
   "source": [
    "my_string = \"hello\"\n",
    "print(f\"Original string: {my_string}, ID: {id(my_string)}\")\n",
    "\n",
    "my_string = my_string + \" world\"  # \"Modifying\" the string (concatenation)\n",
    "print(f\"Modified string: {my_string}, ID: {id(my_string)}\")  # ID has changed!\n",
    "\n",
    "my_string = \"H\" + my_string[1:] # \"Modifying\" the string (slicing and concatenation)\n",
    "print(f\"Modified string: {my_string}, ID: {id(my_string)}\") # ID has changed!"
   ]
  },
  {
   "cell_type": "markdown",
   "metadata": {},
   "source": [
    "* **Tuples:** Ordered, *unchangeable* sequences.  While they are ordered, they are immutable."
   ]
  },
  {
   "cell_type": "code",
   "execution_count": null,
   "metadata": {},
   "outputs": [],
   "source": [
    "my_tuple = (1, 2, 3)\n",
    "print(f\"Original tuple: {my_tuple}, ID: {id(my_tuple)}\")\n",
    "\n",
    "# my_tuple[0] = 10  # This will raise a TypeError: 'tuple' object does not support item assignment\n",
    "\n",
    "my_tuple = my_tuple + (4,)  # \"Modifying\" the tuple (concatenation creates a new tuple)\n",
    "print(f\"Modified tuple: {my_tuple}, ID: {id(my_tuple)}\")  # ID has changed!"
   ]
  },
  {
   "cell_type": "markdown",
   "metadata": {},
   "source": [
    "* **Booleans:** True or False."
   ]
  },
  {
   "cell_type": "code",
   "execution_count": null,
   "metadata": {},
   "outputs": [],
   "source": [
    "z = True\n",
    "print(f\"Original boolean: {z}, ID: {id(z)}\")\n",
    "\n",
    "z = not z # \"Modifying\" z\n",
    "print(f\"Modified boolean: {z}, ID: {id(z)}\") # ID has changed!"
   ]
  },
  {
   "cell_type": "markdown",
   "metadata": {},
   "source": [
    "* **NoneType:** Represents the absence of a value."
   ]
  },
  {
   "cell_type": "code",
   "execution_count": null,
   "metadata": {},
   "outputs": [],
   "source": [
    "none_val = None\n",
    "print(f\"Original None: {none_val}, ID: {id(none_val)}\")\n",
    "\n",
    "# You can't really \"modify\" None, but re-assignment creates a new reference.\n",
    "none_val = 10 # re-assigning\n",
    "print(f\"Modified None: {none_val}, ID: {id(none_val)}\") # ID has changed!"
   ]
  },
  {
   "cell_type": "markdown",
   "metadata": {},
   "source": [
    "**Verification using `id()`**\n",
    "\n",
    "The `id()` function in Python returns the unique identity of an object in memory.  By comparing the `id()` before and after a \"modification,\" you can definitively determine whether the object is mutable or immutable.  If the `id()` remains the same, the object is mutable (modified in place). If the `id()` changes, the object is immutable (a new object was created).  The examples above demonstrate this principle.\n",
    "\n",
    "**Key takeaway:** Understanding mutability is crucial for avoiding unexpected side effects in your Python code, especially when working with multiple variables referencing the same object.  Be mindful of whether you're modifying an object in place or creating a new one."
   ]
  }
 ],
 "metadata": {
  "colab": {
   "from_bard": true
  },
  "kernelspec": {
   "display_name": "Python 3 (ipykernel)",
   "language": "python",
   "name": "python3"
  },
  "language_info": {
   "codemirror_mode": {
    "name": "ipython",
    "version": 3
   },
   "file_extension": ".py",
   "mimetype": "text/x-python",
   "name": "python",
   "nbconvert_exporter": "python",
   "pygments_lexer": "ipython3",
   "version": "3.13.2"
  }
 },
 "nbformat": 4,
 "nbformat_minor": 4
}
