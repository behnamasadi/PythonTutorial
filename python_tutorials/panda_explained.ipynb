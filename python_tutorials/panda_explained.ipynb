{
 "cells": [
  {
   "cell_type": "markdown",
   "metadata": {},
   "source": [
    "**Series:**\n",
    "\n",
    "A Series is a one-dimensional labeled array capable of holding data of any type (integer, string, float, Python objects, etc.)."
   ]
  },
  {
   "cell_type": "code",
   "execution_count": 17,
   "metadata": {},
   "outputs": [
    {
     "name": "stdout",
     "output_type": "stream",
     "text": [
      "0    10\n",
      "1    20\n",
      "2    30\n",
      "3    40\n",
      "4    50\n",
      "dtype: int64\n"
     ]
    }
   ],
   "source": [
    "import pandas as pd\n",
    "# Creating a Series from a list\n",
    "series1 = pd.Series([10, 20, 30, 40, 50])\n",
    "print(series1)"
   ]
  },
  {
   "cell_type": "code",
   "execution_count": 16,
   "metadata": {},
   "outputs": [
    {
     "name": "stdout",
     "output_type": "stream",
     "text": [
      "a    10\n",
      "b    20\n",
      "c    30\n",
      "dtype: int64\n"
     ]
    }
   ],
   "source": [
    "# Creating a Series with custom index labels\n",
    "series2 = pd.Series([10, 20, 30], index=['a', 'b', 'c'])\n",
    "print(series2)"
   ]
  },
  {
   "cell_type": "code",
   "execution_count": 15,
   "metadata": {},
   "outputs": [
    {
     "name": "stdout",
     "output_type": "stream",
     "text": [
      "10\n",
      "20\n"
     ]
    }
   ],
   "source": [
    "# Accessing elements\n",
    "print(series1[0])  # Output: 10\n",
    "print(series2['b']) # Output: 20"
   ]
  },
  {
   "cell_type": "markdown",
   "metadata": {},
   "source": [
    "**DataFrames:**\n",
    "\n",
    "A DataFrame is a two-dimensional labeled data structure with columns of potentially different types.  It's like a table in a database or a spreadsheet."
   ]
  },
  {
   "cell_type": "code",
   "execution_count": 21,
   "metadata": {},
   "outputs": [
    {
     "name": "stdout",
     "output_type": "stream",
     "text": [
      "      Name  Age      City\n",
      "0    Alice   25  New York\n",
      "1      Bob   30    London\n",
      "2  Charlie   28     Paris\n"
     ]
    }
   ],
   "source": [
    "# Creating a DataFrame from a dictionary\n",
    "data = {'Name': ['Alice', 'Bob', 'Charlie'],\n",
    "        'Age': [25, 30, 28],\n",
    "        'City': ['New York', 'London', 'Paris']}\n",
    "df = pd.DataFrame(data)\n",
    "print(df)"
   ]
  },
  {
   "cell_type": "code",
   "execution_count": 22,
   "metadata": {},
   "outputs": [
    {
     "name": "stdout",
     "output_type": "stream",
     "text": [
      "      Name  Age      City\n",
      "0    Alice   25  New York\n",
      "1      Bob   30    London\n",
      "2  Charlie   28     Paris\n"
     ]
    }
   ],
   "source": [
    "# Creating a DataFrame from a list of dictionaries\n",
    "data2 = [{'Name': 'Alice', 'Age': 25, 'City': 'New York'},\n",
    "         {'Name': 'Bob', 'Age': 30, 'City': 'London'},\n",
    "         {'Name': 'Charlie', 'Age': 28, 'City': 'Paris'}]\n",
    "df2 = pd.DataFrame(data2)\n",
    "print(df2)"
   ]
  },
  {
   "cell_type": "code",
   "execution_count": 23,
   "metadata": {},
   "outputs": [
    {
     "name": "stdout",
     "output_type": "stream",
     "text": [
      "0      Alice\n",
      "1        Bob\n",
      "2    Charlie\n",
      "Name: Name, dtype: object\n",
      "      Name  Age\n",
      "0    Alice   25\n",
      "1      Bob   30\n",
      "2  Charlie   28\n",
      "Name       Alice\n",
      "Age           25\n",
      "City    New York\n",
      "Name: 0, dtype: object\n",
      "Name       Alice\n",
      "Age           25\n",
      "City    New York\n",
      "Name: 0, dtype: object\n"
     ]
    }
   ],
   "source": [
    "# Accessing columns\n",
    "print(df['Name'])  # Output: a Series containing the names\n",
    "print(df[['Name', 'Age']]) # Output: a DataFrame with 'Name' and 'Age' columns"
   ]
  },
  {
   "cell_type": "code",
   "execution_count": 24,
   "metadata": {},
   "outputs": [
    {
     "name": "stdout",
     "output_type": "stream",
     "text": [
      "Name       Alice\n",
      "Age           25\n",
      "City    New York\n",
      "Name: 0, dtype: object\n",
      "Name       Alice\n",
      "Age           25\n",
      "City    New York\n",
      "Name: 0, dtype: object\n"
     ]
    }
   ],
   "source": [
    "# Accessing rows (using .loc or .iloc)\n",
    "print(df.loc[0])    # Output: the first row (indexed by label)\n",
    "print(df.iloc[0])   # Output: the first row (indexed by position)"
   ]
  },
  {
   "cell_type": "code",
   "execution_count": 36,
   "metadata": {},
   "outputs": [
    {
     "name": "stdout",
     "output_type": "stream",
     "text": [
      "            Name  Age      City  Salary\n",
      "person1    Alice   25  New York   60000\n",
      "person2      Bob   30    London   70000\n",
      "person3  Charlie   28     Paris   65000\n"
     ]
    }
   ],
   "source": [
    "# Adding a new column\n",
    "df['Salary'] = [60000, 70000, 65000]\n",
    "print(df)"
   ]
  },
  {
   "cell_type": "code",
   "execution_count": 37,
   "metadata": {},
   "outputs": [
    {
     "name": "stdout",
     "output_type": "stream",
     "text": [
      "            Name  Age      City\n",
      "person1    Alice   25  New York\n",
      "person2      Bob   30    London\n",
      "person3  Charlie   28     Paris\n"
     ]
    }
   ],
   "source": [
    "# Deleting a column\n",
    "df = df.drop('Salary', axis=1) # axis=1 means column\n",
    "print(df)"
   ]
  },
  {
   "cell_type": "code",
   "execution_count": 41,
   "metadata": {},
   "outputs": [
    {
     "name": "stdout",
     "output_type": "stream",
     "text": [
      "  First Name  Years    City\n",
      "1        Bob     30  London\n",
      "2    Charlie     28   Paris\n"
     ]
    }
   ],
   "source": [
    "# Deleting a row\n",
    "df = df.drop(0, axis=0) # axis=0 means row\n",
    "print(df)"
   ]
  },
  {
   "cell_type": "code",
   "execution_count": 40,
   "metadata": {},
   "outputs": [
    {
     "name": "stdout",
     "output_type": "stream",
     "text": [
      "  First Name  Years      City\n",
      "0      Alice     25  New York\n",
      "1        Bob     30    London\n",
      "2    Charlie     28     Paris\n",
      "  First Name  Years      City\n",
      "0      Alice     25  New York\n",
      "1        Bob     30    London\n",
      "2    Charlie     28     Paris\n"
     ]
    }
   ],
   "source": [
    "#Renaming columns\n",
    "df = df.rename(columns={'Name': 'First Name', 'Age': 'Years'})\n",
    "print(df)\n",
    "\n",
    "# Resetting the index\n",
    "df = df.reset_index(drop=True) # drop=True avoids adding the old index as a new column\n",
    "print(df)"
   ]
  },
  {
   "cell_type": "markdown",
   "metadata": {},
   "source": [
    "**Reading and Writing Data:**\n",
    "\n",
    "Pandas can read and write data from various file formats:"
   ]
  },
  {
   "cell_type": "code",
   "execution_count": 10,
   "metadata": {},
   "outputs": [],
   "source": [
    "# Reading from a CSV file\n",
    "df_csv = pd.read_csv('data/data.csv')\n",
    "\n",
    "# Writing to a CSV file\n",
    "df.to_csv('data/output_file.csv', index=False) # index=False prevents writing the index\n",
    "\n",
    "# Reading from an Excel file\n",
    "#df_excel = pd.read_excel('your_file.xlsx') # You might need to install openpyxl: pip install openpyxl\n",
    "\n",
    "# Writing to an Excel file\n",
    "#df.to_excel('output_file.xlsx', index=False)"
   ]
  },
  {
   "cell_type": "markdown",
   "metadata": {},
   "source": [
    "**Data Manipulation:**\n",
    "\n",
    "*   **Filtering:**\n",
    "Basically what happens, you pass a list of `True` and `False` values, and the indexes for `True` values are return from original data."
   ]
  },
  {
   "cell_type": "code",
   "execution_count": 12,
   "metadata": {},
   "outputs": [
    {
     "name": "stdout",
     "output_type": "stream",
     "text": [
      "0    True\n",
      "1    True\n",
      "Name: Years, dtype: bool\n",
      "  First Name  Years    City\n",
      "0        Bob     30  London\n",
      "1    Charlie     28   Paris\n"
     ]
    }
   ],
   "source": [
    "# Get rows where Age is greater than 25\n",
    "filtered_df = df[df['Years'] > 25]\n",
    "print(df['Years'] > 25)\n",
    "\n",
    "print(filtered_df)"
   ]
  },
  {
   "cell_type": "markdown",
   "metadata": {},
   "source": [
    "*   **Sorting:**"
   ]
  },
  {
   "cell_type": "code",
   "execution_count": null,
   "metadata": {},
   "outputs": [],
   "source": [
    "sorted_df = df.sort_values('Years', ascending=False)  # Sort by Age in descending order\n",
    "print(sorted_df)"
   ]
  },
  {
   "cell_type": "markdown",
   "metadata": {},
   "source": [
    "*   **Grouping:**"
   ]
  },
  {
   "cell_type": "code",
   "execution_count": null,
   "metadata": {},
   "outputs": [],
   "source": [
    "grouped_df = df.groupby('City')['Years'].mean()  # Group by City and calculate the mean Age\n",
    "print(grouped_df)"
   ]
  },
  {
   "cell_type": "markdown",
   "metadata": {},
   "source": [
    "*   **Applying functions:**"
   ]
  },
  {
   "cell_type": "code",
   "execution_count": null,
   "metadata": {},
   "outputs": [],
   "source": [
    "#Apply a function to a column\n",
    "df['Years_Doubled'] = df['Years'].apply(lambda x: x * 2)\n",
    "print(df)"
   ]
  },
  {
   "cell_type": "markdown",
   "metadata": {},
   "source": [
    "**Missing Data:**\n",
    "\n",
    "Pandas provides tools for handling missing data:"
   ]
  },
  {
   "cell_type": "code",
   "execution_count": null,
   "metadata": {},
   "outputs": [],
   "source": [
    "# Check for missing values\n",
    "print(df.isnull())\n",
    "\n",
    "# Fill missing values\n",
    "df.fillna(0, inplace=True)  # Fill with 0\n",
    "# or\n",
    "df['Years'].fillna(df['Years'].mean(), inplace=True) # Fill with mean of the 'Years' column\n",
    "\n",
    "# Drop rows with missing values\n",
    "df.dropna(inplace=True)"
   ]
  },
  {
   "cell_type": "markdown",
   "metadata": {},
   "source": [
    "**Basic Statistics:**"
   ]
  },
  {
   "cell_type": "code",
   "execution_count": null,
   "metadata": {},
   "outputs": [],
   "source": [
    "print(df.describe())  # Get descriptive statistics (mean, std, min, max, etc.)\n",
    "print(df['Years'].mean())\n",
    "print(df['Years'].median())\n",
    "print(df['Years'].max())"
   ]
  },
  {
   "cell_type": "markdown",
   "metadata": {},
   "source": [
    "**The Key Difference: Labels vs. Positions**\n",
    "\n",
    "*   **`df.loc`**: This is primarily label-based. You use it when you know the specific row and/or column *names* (labels) you want to access.\n",
    "*   **`df.iloc`**: This is integer-based. You use it when you know the *numerical position* of the rows and/or columns you want.\n"
   ]
  },
  {
   "cell_type": "code",
   "execution_count": 27,
   "metadata": {},
   "outputs": [
    {
     "name": "stdout",
     "output_type": "stream",
     "text": [
      "            Name  Age      City\n",
      "person1    Alice   25  New York\n",
      "person2      Bob   30    London\n",
      "person3  Charlie   28     Paris\n"
     ]
    }
   ],
   "source": [
    "import pandas as pd\n",
    "\n",
    "data = {'Name': ['Alice', 'Bob', 'Charlie'],\n",
    "        'Age': [25, 30, 28],\n",
    "        'City': ['New York', 'London', 'Paris']}\n",
    "df = pd.DataFrame(data, index=['person1', 'person2', 'person3'])  # Custom index labels\n",
    "print(df)"
   ]
  },
  {
   "cell_type": "markdown",
   "metadata": {},
   "source": [
    "This creates a DataFrame with custom row labels ('person1', 'person2', 'person3') and default column labels ('Name', 'Age', 'City').\n",
    "\n",
    "**Using `loc`**"
   ]
  },
  {
   "cell_type": "code",
   "execution_count": 28,
   "metadata": {},
   "outputs": [
    {
     "name": "stdout",
     "output_type": "stream",
     "text": [
      "Name       Bob\n",
      "Age         30\n",
      "City    London\n",
      "Name: person2, dtype: object\n",
      "25\n",
      "            Name      City\n",
      "person1    Alice  New York\n",
      "person3  Charlie     Paris\n",
      "            Name  Age      City\n",
      "person1    Alice   25  New York\n",
      "person2      Bob   30    London\n",
      "person3  Charlie   28     Paris\n"
     ]
    }
   ],
   "source": [
    "# Select the row with label 'person2'\n",
    "print(df.loc['person2'])\n",
    "\n",
    "# Select the 'Age' column for the row with label 'person1'\n",
    "print(df.loc['person1', 'Age'])\n",
    "\n",
    "# Select multiple rows and columns using labels\n",
    "print(df.loc[['person1', 'person3'], ['Name', 'City']])\n",
    "\n",
    "# Slicing with labels (inclusive of the end label)\n",
    "print(df.loc['person1':'person3', 'Name':'City'])"
   ]
  },
  {
   "cell_type": "markdown",
   "metadata": {},
   "source": [
    "**Using `iloc`**"
   ]
  },
  {
   "cell_type": "code",
   "execution_count": 29,
   "metadata": {},
   "outputs": [
    {
     "name": "stdout",
     "output_type": "stream",
     "text": [
      "Name       Bob\n",
      "Age         30\n",
      "City    London\n",
      "Name: person2, dtype: object\n",
      "25\n",
      "            Name      City\n",
      "person1    Alice  New York\n",
      "person3  Charlie     Paris\n",
      "            Name  Age      City\n",
      "person1    Alice   25  New York\n",
      "person2      Bob   30    London\n",
      "person3  Charlie   28     Paris\n"
     ]
    }
   ],
   "source": [
    "# Select the row at position 1 (second row)\n",
    "print(df.iloc[1])\n",
    "\n",
    "# Select the element at row position 0 and column position 1\n",
    "print(df.iloc[0, 1])\n",
    "\n",
    "# Select multiple rows and columns using positions\n",
    "print(df.iloc[[0, 2], [0, 2]])\n",
    "\n",
    "# Slicing with positions (exclusive of the end position)\n",
    "print(df.iloc[0:3, 0:3])"
   ]
  },
  {
   "cell_type": "markdown",
   "metadata": {},
   "source": [
    "**Important Notes:**\n",
    "\n",
    "*   **Slicing:** When using `loc` with slices, the end label is *inclusive*. When using `iloc` with slices, the end position is *exclusive* (like regular Python slicing).\n",
    "*   **Mixed Indexing:** You can technically mix labels and positions with `loc`, but it's generally best to stick to one for clarity.\n",
    "*   **Boolean Indexing:** Both `loc` and `iloc` can also be used with boolean arrays for more complex filtering.\n",
    "\n",
    "**When to Use Which**\n",
    "\n",
    "*   Use `loc` when you're working with data where you know the row and column labels, or when you want to use meaningful names to select data.\n",
    "*   Use `iloc` when you're working with data where you only know the numerical positions of the rows and columns, or when you need to iterate through rows/columns using their index.\n"
   ]
  }
 ],
 "metadata": {
  "colab": {
   "from_bard": true
  },
  "kernelspec": {
   "display_name": "Python 3 (ipykernel)",
   "language": "python",
   "name": "python3"
  },
  "language_info": {
   "codemirror_mode": {
    "name": "ipython",
    "version": 3
   },
   "file_extension": ".py",
   "mimetype": "text/x-python",
   "name": "python",
   "nbconvert_exporter": "python",
   "pygments_lexer": "ipython3",
   "version": "3.13.2"
  }
 },
 "nbformat": 4,
 "nbformat_minor": 4
}
