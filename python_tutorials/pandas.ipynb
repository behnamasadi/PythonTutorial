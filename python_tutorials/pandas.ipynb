{
 "cells": [
  {
   "cell_type": "markdown",
   "id": "1e35a7b4-7c6f-4875-ab38-aafec862e45d",
   "metadata": {},
   "source": [
    "**Series**\n",
    "\n",
    "A Series is a one-dimensional labeled array capable of holding data of any type (integer, string, float, Python objects, etc.)."
   ]
  },
  {
   "cell_type": "code",
   "execution_count": 2,
   "id": "b0aa9726-8307-4bb1-8a3d-2100b85ee168",
   "metadata": {},
   "outputs": [
    {
     "name": "stdout",
     "output_type": "stream",
     "text": [
      "0    10\n",
      "1    20\n",
      "2    30\n",
      "3    40\n",
      "4    50\n",
      "dtype: int64\n",
      "a    10\n",
      "b    20\n",
      "c    30\n",
      "dtype: int64\n",
      "10\n",
      "20\n"
     ]
    }
   ],
   "source": [
    "import pandas as pd\n",
    "# Creating a Series from a list\n",
    "series1 = pd.Series([10, 20, 30, 40, 50])\n",
    "print(series1)\n",
    "\n",
    "# Creating a Series with custom index labels\n",
    "series2 = pd.Series([10, 20, 30], index=['a', 'b', 'c'])\n",
    "print(series2)\n",
    "\n",
    "# Accessing elements\n",
    "print(series1[0])  # Output: 10\n",
    "print(series2['b']) # Output: 20"
   ]
  },
  {
   "cell_type": "markdown",
   "id": "d1445f99-28af-40f6-8a01-cef2669bd9db",
   "metadata": {},
   "source": [
    "**DataFrames:**\n",
    "\n",
    "A DataFrame is a two-dimensional labeled data structure with columns of potentially different types.  It's like a table in a database or a spreadsheet."
   ]
  },
  {
   "cell_type": "code",
   "execution_count": 3,
   "id": "cb9d8d36-133d-4c9d-9eac-cb19d38cf279",
   "metadata": {},
   "outputs": [
    {
     "name": "stdout",
     "output_type": "stream",
     "text": [
      "      Name  Age      City\n",
      "0    Alice   25  New York\n",
      "1      Bob   30    London\n",
      "2  Charlie   28     Paris\n",
      "      Name  Age      City\n",
      "0    Alice   25  New York\n",
      "1      Bob   30    London\n",
      "2  Charlie   28     Paris\n",
      "0      Alice\n",
      "1        Bob\n",
      "2    Charlie\n",
      "Name: Name, dtype: object\n",
      "      Name  Age\n",
      "0    Alice   25\n",
      "1      Bob   30\n",
      "2  Charlie   28\n",
      "Name       Alice\n",
      "Age           25\n",
      "City    New York\n",
      "Name: 0, dtype: object\n",
      "Name       Alice\n",
      "Age           25\n",
      "City    New York\n",
      "Name: 0, dtype: object\n",
      "      Name  Age      City  Salary\n",
      "0    Alice   25  New York   60000\n",
      "1      Bob   30    London   70000\n",
      "2  Charlie   28     Paris   65000\n",
      "      Name  Age      City\n",
      "0    Alice   25  New York\n",
      "1      Bob   30    London\n",
      "2  Charlie   28     Paris\n",
      "      Name  Age    City\n",
      "1      Bob   30  London\n",
      "2  Charlie   28   Paris\n",
      "  First Name  Years    City\n",
      "1        Bob     30  London\n",
      "2    Charlie     28   Paris\n",
      "  First Name  Years    City\n",
      "0        Bob     30  London\n",
      "1    Charlie     28   Paris\n"
     ]
    }
   ],
   "source": [
    "# Creating a DataFrame from a dictionary\n",
    "data = {'Name': ['Alice', 'Bob', 'Charlie'],\n",
    "        'Age': [25, 30, 28],\n",
    "        'City': ['New York', 'London', 'Paris']}\n",
    "df = pd.DataFrame(data)\n",
    "print(df)\n",
    "\n",
    "# Creating a DataFrame from a list of dictionaries\n",
    "data2 = [{'Name': 'Alice', 'Age': 25, 'City': 'New York'},\n",
    "         {'Name': 'Bob', 'Age': 30, 'City': 'London'},\n",
    "         {'Name': 'Charlie', 'Age': 28, 'City': 'Paris'}]\n",
    "df2 = pd.DataFrame(data2)\n",
    "print(df2)\n",
    "\n",
    "# Accessing columns\n",
    "print(df['Name'])  # Output: a Series containing the names\n",
    "print(df[['Name', 'Age']]) # Output: a DataFrame with 'Name' and 'Age' columns\n",
    "\n",
    "# Accessing rows (using .loc or .iloc)\n",
    "print(df.loc[0])    # Output: the first row (indexed by label)\n",
    "print(df.iloc[0])   # Output: the first row (indexed by position)\n",
    "\n",
    "# Adding a new column\n",
    "df['Salary'] = [60000, 70000, 65000]\n",
    "print(df)\n",
    "\n",
    "# Deleting a column\n",
    "df = df.drop('Salary', axis=1) # axis=1 means column\n",
    "print(df)\n",
    "\n",
    "# Deleting a row\n",
    "df = df.drop(0, axis=0) # axis=0 means row\n",
    "print(df)\n",
    "\n",
    "#Renaming columns\n",
    "df = df.rename(columns={'Name': 'First Name', 'Age': 'Years'})\n",
    "print(df)\n",
    "\n",
    "# Resetting the index\n",
    "df = df.reset_index(drop=True) # drop=True avoids adding the old index as a new column\n",
    "print(df)\n"
   ]
  },
  {
   "cell_type": "markdown",
   "id": "48443155-1ae4-4846-ac00-ce54faf15974",
   "metadata": {},
   "source": [
    "**Reading and Writing Data:**\n",
    "\n",
    "Pandas can read and write data from various file formats:"
   ]
  },
  {
   "cell_type": "code",
   "execution_count": 18,
   "id": "72b6ebf2-4194-4f61-b832-0b995b4b8172",
   "metadata": {},
   "outputs": [],
   "source": [
    "# Reading from a CSV file\n",
    "df_csv = pd.read_csv('../Tutorials/data/data.csv')\n",
    "\n",
    "# Writing to a CSV file\n",
    "df.to_csv('output_file.csv', index=False) # index=False prevents writing the index\n",
    "\n",
    "# Reading from an Excel file\n",
    "#df_excel = pd.read_excel('your_file.xlsx') # You might need to install openpyxl: pip install openpyxl\n",
    "\n",
    "# Writing to an Excel file\n",
    "#df.to_excel('output_file.xlsx', index=False)\n"
   ]
  },
  {
   "cell_type": "markdown",
   "id": "a936f1b8-7e70-4a44-b526-2f42083abdbe",
   "metadata": {},
   "source": [
    "**Data Manipulation:**\n",
    "\n",
    "*   **Filtering:**"
   ]
  },
  {
   "cell_type": "code",
   "execution_count": 7,
   "id": "85cce48d-99e4-451f-8eae-70ba3511c4c4",
   "metadata": {},
   "outputs": [
    {
     "name": "stdout",
     "output_type": "stream",
     "text": [
      "  First Name  Years    City\n",
      "0        Bob     30  London\n",
      "1    Charlie     28   Paris\n"
     ]
    }
   ],
   "source": [
    "# Get rows where Age is greater than 25\n",
    "filtered_df = df[df['Years'] > 25]\n",
    "print(filtered_df)"
   ]
  },
  {
   "cell_type": "markdown",
   "id": "afe72d25-0e1c-4730-82ba-15e68d28ce87",
   "metadata": {},
   "source": [
    "*   **Sorting:**\n",
    "\n",
    "\n",
    "\n"
   ]
  },
  {
   "cell_type": "code",
   "execution_count": 8,
   "id": "ffbaff3e-27a0-495c-8784-0948c8f3e960",
   "metadata": {},
   "outputs": [
    {
     "name": "stdout",
     "output_type": "stream",
     "text": [
      "  First Name  Years    City\n",
      "0        Bob     30  London\n",
      "1    Charlie     28   Paris\n"
     ]
    }
   ],
   "source": [
    "sorted_df = df.sort_values('Years', ascending=False)  # Sort by Age in descending order\n",
    "print(sorted_df)"
   ]
  },
  {
   "cell_type": "markdown",
   "id": "698f0600-e124-4186-b7ca-4bccf263eb61",
   "metadata": {},
   "source": [
    "*   **Grouping:**\n",
    "\n"
   ]
  },
  {
   "cell_type": "code",
   "execution_count": 9,
   "id": "b12568d0-63b6-4f81-892c-7b74b5c1792b",
   "metadata": {},
   "outputs": [
    {
     "name": "stdout",
     "output_type": "stream",
     "text": [
      "City\n",
      "London    30.0\n",
      "Paris     28.0\n",
      "Name: Years, dtype: float64\n"
     ]
    }
   ],
   "source": [
    "\n",
    "grouped_df = df.groupby('City')['Years'].mean()  # Group by City and calculate the mean Age\n",
    "print(grouped_df)\n"
   ]
  },
  {
   "cell_type": "markdown",
   "id": "0b81bc60-6e6a-4967-99d7-b1dc81e3e5e9",
   "metadata": {},
   "source": [
    "*   **Applying functions:**\n",
    "\n",
    "\n"
   ]
  },
  {
   "cell_type": "code",
   "execution_count": 10,
   "id": "287a66a2-7799-46a6-a755-5af882047507",
   "metadata": {},
   "outputs": [
    {
     "name": "stdout",
     "output_type": "stream",
     "text": [
      "  First Name  Years    City  Years_Doubled\n",
      "0        Bob     30  London             60\n",
      "1    Charlie     28   Paris             56\n"
     ]
    }
   ],
   "source": [
    "#Apply a function to a column\n",
    "df['Years_Doubled'] = df['Years'].apply(lambda x: x * 2)\n",
    "print(df)\n"
   ]
  },
  {
   "cell_type": "markdown",
   "id": "82f6a0b6-53a6-42ca-839b-d307144a4257",
   "metadata": {},
   "source": [
    "**Missing Data:**\n",
    "\n",
    "Pandas provides tools for handling missing data:"
   ]
  },
  {
   "cell_type": "code",
   "execution_count": 11,
   "id": "e285f291-69e3-4879-93ac-8081636513e0",
   "metadata": {},
   "outputs": [
    {
     "name": "stdout",
     "output_type": "stream",
     "text": [
      "   First Name  Years   City  Years_Doubled\n",
      "0       False  False  False          False\n",
      "1       False  False  False          False\n"
     ]
    },
    {
     "name": "stderr",
     "output_type": "stream",
     "text": [
      "/tmp/ipykernel_59527/1359994211.py:7: FutureWarning: A value is trying to be set on a copy of a DataFrame or Series through chained assignment using an inplace method.\n",
      "The behavior will change in pandas 3.0. This inplace method will never work because the intermediate object on which we are setting values always behaves as a copy.\n",
      "\n",
      "For example, when doing 'df[col].method(value, inplace=True)', try using 'df.method({col: value}, inplace=True)' or df[col] = df[col].method(value) instead, to perform the operation inplace on the original object.\n",
      "\n",
      "\n",
      "  df['Years'].fillna(df['Years'].mean(), inplace=True) # Fill with mean of the 'Years' column\n"
     ]
    }
   ],
   "source": [
    "\n",
    "# Check for missing values\n",
    "print(df.isnull())\n",
    "\n",
    "# Fill missing values\n",
    "df.fillna(0, inplace=True)  # Fill with 0\n",
    "# or\n",
    "df['Years'].fillna(df['Years'].mean(), inplace=True) # Fill with mean of the 'Years' column\n",
    "\n",
    "# Drop rows with missing values\n",
    "df.dropna(inplace=True)"
   ]
  },
  {
   "cell_type": "markdown",
   "id": "31c3f87c-1b95-4822-b60a-caa89cbd0384",
   "metadata": {},
   "source": [
    "**Basic Statistics:**"
   ]
  },
  {
   "cell_type": "code",
   "execution_count": 15,
   "id": "3f088474-16f3-45e9-8a49-b70fa6c30b5d",
   "metadata": {},
   "outputs": [
    {
     "name": "stdout",
     "output_type": "stream",
     "text": [
      "           Years  Years_Doubled\n",
      "count   2.000000       2.000000\n",
      "mean   29.000000      58.000000\n",
      "std     1.414214       2.828427\n",
      "min    28.000000      56.000000\n",
      "25%    28.500000      57.000000\n",
      "50%    29.000000      58.000000\n",
      "75%    29.500000      59.000000\n",
      "max    30.000000      60.000000\n",
      "29.0\n",
      "29.0\n",
      "30\n"
     ]
    }
   ],
   "source": [
    "\n",
    "print(df.describe())  # Get descriptive statistics (mean, std, min, max, etc.)\n",
    "print(df['Years'].mean())\n",
    "print(df['Years'].median())\n",
    "print(df['Years'].max())"
   ]
  },
  {
   "cell_type": "markdown",
   "id": "78084f41-e0de-4e08-bb48-2ab8e88cd6e1",
   "metadata": {},
   "source": [
    "This is just a starting point. Pandas is a very extensive library with many more features. As you work with data, you'll discover more useful functionalities.  Practice is key! Try working with some sample datasets to get comfortable with these concepts. Let me know if you have any more specific questions."
   ]
  },
  {
   "cell_type": "markdown",
   "id": "e56b41fb-2c44-4cb3-ba7e-4df9fe8ea4ca",
   "metadata": {},
   "source": [
    "**The Key Difference: Labels vs. Positions**\n",
    "\n",
    "*   **`df.loc`**: This is primarily label-based. You use it when you know the specific row and/or column *names* (labels) you want to access.\n",
    "*   **`df.iloc`**: This is integer-based. You use it when you know the *numerical position* of the rows and/or columns you want.\n",
    "\n",
    "Think of it this way:\n",
    "\n",
    "*   `loc` is like looking up a word in a dictionary by its spelling (label).\n",
    "*   `iloc` is like finding a word in a dictionary by its page number (position).\n",
    "\n",
    "**Illustrative Example**\n",
    "\n",
    "Let's use a simple DataFrame:"
   ]
  },
  {
   "cell_type": "code",
   "execution_count": 19,
   "id": "41b9ebee-aed7-4097-96f9-e149469e7957",
   "metadata": {},
   "outputs": [
    {
     "name": "stdout",
     "output_type": "stream",
     "text": [
      "            Name  Age      City\n",
      "person1    Alice   25  New York\n",
      "person2      Bob   30    London\n",
      "person3  Charlie   28     Paris\n"
     ]
    }
   ],
   "source": [
    "import pandas as pd\n",
    "\n",
    "data = {'Name': ['Alice', 'Bob', 'Charlie'],\n",
    "        'Age': [25, 30, 28],\n",
    "        'City': ['New York', 'London', 'Paris']}\n",
    "df = pd.DataFrame(data, index=['person1', 'person2', 'person3'])  # Custom index labels\n",
    "print(df)"
   ]
  },
  {
   "cell_type": "markdown",
   "id": "d2bbcfaa-b00a-4224-9a82-62b3f9069f6f",
   "metadata": {},
   "source": [
    "This creates a DataFrame with custom row labels ('person1', 'person2', 'person3') and default column labels ('Name', 'Age', 'City').\n",
    "\n",
    "**Using `loc`**"
   ]
  },
  {
   "cell_type": "code",
   "execution_count": 21,
   "id": "cf3c5b1a-e3ab-41a8-b221-d75f6976df07",
   "metadata": {},
   "outputs": [
    {
     "name": "stdout",
     "output_type": "stream",
     "text": [
      "Name       Bob\n",
      "Age         30\n",
      "City    London\n",
      "Name: person2, dtype: object\n",
      "25\n",
      "            Name      City\n",
      "person1    Alice  New York\n",
      "person3  Charlie     Paris\n",
      "            Name  Age      City\n",
      "person1    Alice   25  New York\n",
      "person2      Bob   30    London\n",
      "person3  Charlie   28     Paris\n"
     ]
    }
   ],
   "source": [
    "# Select the row with label 'person2'\n",
    "print(df.loc['person2'])\n",
    "\n",
    "# Select the 'Age' column for the row with label 'person1'\n",
    "print(df.loc['person1', 'Age'])\n",
    "\n",
    "# Select multiple rows and columns using labels\n",
    "print(df.loc[['person1', 'person3'], ['Name', 'City']])\n",
    "\n",
    "# Slicing with labels (inclusive of the end label)\n",
    "print(df.loc['person1':'person3', 'Name':'City'])"
   ]
  },
  {
   "cell_type": "markdown",
   "id": "992d7888-dafb-4bdd-bc71-33190ae52ada",
   "metadata": {},
   "source": [
    "**Using `iloc`**\n"
   ]
  },
  {
   "cell_type": "code",
   "execution_count": null,
   "id": "67be567c-383b-4ef4-af15-4e4f146b99ab",
   "metadata": {},
   "outputs": [],
   "source": [
    "# Select the row at position 1 (second row)\n",
    "print(df.iloc[1])\n",
    "\n",
    "# Select the element at row position 0 and column position 1\n",
    "print(df.iloc[0, 1])\n",
    "\n",
    "# Select multiple rows and columns using positions\n",
    "print(df.iloc[[0, 2], [0, 2]])\n",
    "\n",
    "# Slicing with positions (exclusive of the end position)\n",
    "print(df.iloc[0:3, 0:3])\n"
   ]
  },
  {
   "cell_type": "markdown",
   "id": "45b70f1a-c05b-48f5-98e4-c5d96b8d8f23",
   "metadata": {},
   "source": [
    "**Important Notes:**\n",
    "\n",
    "*   **Slicing:** When using `loc` with slices, the end label is *inclusive*. When using `iloc` with slices, the end position is *exclusive* (like regular Python slicing).\n",
    "*   **Mixed Indexing:** You can technically mix labels and positions with `loc`, but it's generally best to stick to one for clarity.\n",
    "*   **Boolean Indexing:** Both `loc` and `iloc` can also be used with boolean arrays for more complex filtering.\n",
    "\n",
    "**When to Use Which**\n",
    "\n",
    "*   Use `loc` when you're working with data where you know the row and column labels, or when you want to use meaningful names to select data.\n",
    "*   Use `iloc` when you're working with data where you only know the numerical positions of the rows and columns, or when you need to iterate through rows/columns using their index.\n",
    "\n",
    "**In Summary**\n",
    "\n",
    "`df.loc` and `df.iloc` are powerful tools for data selection in Pandas. Understanding the difference between label-based (`loc`) and position-based (`iloc`) indexing is crucial for efficient data manipulation."
   ]
  }
 ],
 "metadata": {
  "kernelspec": {
   "display_name": "Python 3 (ipykernel)",
   "language": "python",
   "name": "python3"
  },
  "language_info": {
   "codemirror_mode": {
    "name": "ipython",
    "version": 3
   },
   "file_extension": ".py",
   "mimetype": "text/x-python",
   "name": "python",
   "nbconvert_exporter": "python",
   "pygments_lexer": "ipython3",
   "version": "3.13.2"
  }
 },
 "nbformat": 4,
 "nbformat_minor": 5
}
