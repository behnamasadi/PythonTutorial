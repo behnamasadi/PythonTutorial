{
 "cells": [
  {
   "cell_type": "markdown",
   "metadata": {},
   "source": [
    "**Series:**\n",
    "\n",
    "A Series is a one-dimensional labeled array capable of holding data of any type (integer, string, float, Python objects, etc.)."
   ]
  },
  {
   "cell_type": "code",
   "execution_count": 17,
   "metadata": {},
   "outputs": [
    {
     "name": "stdout",
     "output_type": "stream",
     "text": [
      "0    10\n",
      "1    20\n",
      "2    30\n",
      "3    40\n",
      "4    50\n",
      "dtype: int64\n"
     ]
    }
   ],
   "source": [
    "import pandas as pd\n",
    "# Creating a Series from a list\n",
    "series1 = pd.Series([10, 20, 30, 40, 50])\n",
    "print(series1)"
   ]
  },
  {
   "cell_type": "code",
   "execution_count": 16,
   "metadata": {},
   "outputs": [
    {
     "name": "stdout",
     "output_type": "stream",
     "text": [
      "a    10\n",
      "b    20\n",
      "c    30\n",
      "dtype: int64\n"
     ]
    }
   ],
   "source": [
    "# Creating a Series with custom index labels\n",
    "series2 = pd.Series([10, 20, 30], index=['a', 'b', 'c'])\n",
    "print(series2)"
   ]
  },
  {
   "cell_type": "code",
   "execution_count": 15,
   "metadata": {},
   "outputs": [
    {
     "name": "stdout",
     "output_type": "stream",
     "text": [
      "10\n",
      "20\n"
     ]
    }
   ],
   "source": [
    "# Accessing elements\n",
    "print(series1[0])  # Output: 10\n",
    "print(series2['b']) # Output: 20"
   ]
  },
  {
   "cell_type": "markdown",
   "metadata": {},
   "source": [
    "**DataFrames:**\n",
    "\n",
    "A DataFrame is a two-dimensional labeled data structure with columns of potentially different types.  It's like a table in a database or a spreadsheet."
   ]
  },
  {
   "cell_type": "code",
   "execution_count": 21,
   "metadata": {},
   "outputs": [
    {
     "name": "stdout",
     "output_type": "stream",
     "text": [
      "      Name  Age      City\n",
      "0    Alice   25  New York\n",
      "1      Bob   30    London\n",
      "2  Charlie   28     Paris\n"
     ]
    }
   ],
   "source": [
    "# Creating a DataFrame from a dictionary\n",
    "data = {'Name': ['Alice', 'Bob', 'Charlie'],\n",
    "        'Age': [25, 30, 28],\n",
    "        'City': ['New York', 'London', 'Paris']}\n",
    "df = pd.DataFrame(data)\n",
    "print(df)"
   ]
  },
  {
   "cell_type": "code",
   "execution_count": 22,
   "metadata": {},
   "outputs": [
    {
     "name": "stdout",
     "output_type": "stream",
     "text": [
      "      Name  Age      City\n",
      "0    Alice   25  New York\n",
      "1      Bob   30    London\n",
      "2  Charlie   28     Paris\n"
     ]
    }
   ],
   "source": [
    "# Creating a DataFrame from a list of dictionaries\n",
    "data2 = [{'Name': 'Alice', 'Age': 25, 'City': 'New York'},\n",
    "         {'Name': 'Bob', 'Age': 30, 'City': 'London'},\n",
    "         {'Name': 'Charlie', 'Age': 28, 'City': 'Paris'}]\n",
    "df2 = pd.DataFrame(data2)\n",
    "print(df2)"
   ]
  },
  {
   "cell_type": "code",
   "execution_count": 23,
   "metadata": {},
   "outputs": [
    {
     "name": "stdout",
     "output_type": "stream",
     "text": [
      "0      Alice\n",
      "1        Bob\n",
      "2    Charlie\n",
      "Name: Name, dtype: object\n",
      "      Name  Age\n",
      "0    Alice   25\n",
      "1      Bob   30\n",
      "2  Charlie   28\n",
      "Name       Alice\n",
      "Age           25\n",
      "City    New York\n",
      "Name: 0, dtype: object\n",
      "Name       Alice\n",
      "Age           25\n",
      "City    New York\n",
      "Name: 0, dtype: object\n"
     ]
    }
   ],
   "source": [
    "# Accessing columns\n",
    "print(df['Name'])  # Output: a Series containing the names\n",
    "print(df[['Name', 'Age']]) # Output: a DataFrame with 'Name' and 'Age' columns"
   ]
  },
  {
   "cell_type": "code",
   "execution_count": 24,
   "metadata": {},
   "outputs": [
    {
     "name": "stdout",
     "output_type": "stream",
     "text": [
      "Name       Alice\n",
      "Age           25\n",
      "City    New York\n",
      "Name: 0, dtype: object\n",
      "Name       Alice\n",
      "Age           25\n",
      "City    New York\n",
      "Name: 0, dtype: object\n"
     ]
    }
   ],
   "source": [
    "# Accessing rows (using .loc or .iloc)\n",
    "print(df.loc[0])    # Output: the first row (indexed by label)\n",
    "print(df.iloc[0])   # Output: the first row (indexed by position)"
   ]
  },
  {
   "cell_type": "code",
   "execution_count": 36,
   "metadata": {},
   "outputs": [
    {
     "name": "stdout",
     "output_type": "stream",
     "text": [
      "            Name  Age      City  Salary\n",
      "person1    Alice   25  New York   60000\n",
      "person2      Bob   30    London   70000\n",
      "person3  Charlie   28     Paris   65000\n"
     ]
    }
   ],
   "source": [
    "# Adding a new column\n",
    "df['Salary'] = [60000, 70000, 65000]\n",
    "print(df)"
   ]
  },
  {
   "cell_type": "code",
   "execution_count": 37,
   "metadata": {},
   "outputs": [
    {
     "name": "stdout",
     "output_type": "stream",
     "text": [
      "            Name  Age      City\n",
      "person1    Alice   25  New York\n",
      "person2      Bob   30    London\n",
      "person3  Charlie   28     Paris\n"
     ]
    }
   ],
   "source": [
    "# Deleting a column\n",
    "df = df.drop('Salary', axis=1) # axis=1 means column\n",
    "print(df)"
   ]
  },
  {
   "cell_type": "code",
   "execution_count": 41,
   "metadata": {},
   "outputs": [
    {
     "name": "stdout",
     "output_type": "stream",
     "text": [
      "  First Name  Years    City\n",
      "1        Bob     30  London\n",
      "2    Charlie     28   Paris\n"
     ]
    }
   ],
   "source": [
    "# Deleting a row\n",
    "df = df.drop(0, axis=0) # axis=0 means row\n",
    "print(df)"
   ]
  },
  {
   "cell_type": "code",
   "execution_count": 40,
   "metadata": {},
   "outputs": [
    {
     "name": "stdout",
     "output_type": "stream",
     "text": [
      "  First Name  Years      City\n",
      "0      Alice     25  New York\n",
      "1        Bob     30    London\n",
      "2    Charlie     28     Paris\n",
      "  First Name  Years      City\n",
      "0      Alice     25  New York\n",
      "1        Bob     30    London\n",
      "2    Charlie     28     Paris\n"
     ]
    }
   ],
   "source": [
    "#Renaming columns\n",
    "df = df.rename(columns={'Name': 'First Name', 'Age': 'Years'})\n",
    "print(df)\n",
    "\n",
    "# Resetting the index\n",
    "df = df.reset_index(drop=True) # drop=True avoids adding the old index as a new column\n",
    "print(df)"
   ]
  },
  {
   "cell_type": "markdown",
   "metadata": {},
   "source": [
    "**Reading and Writing Data:**\n",
    "\n",
    "Pandas can read and write data from various file formats:"
   ]
  },
  {
   "cell_type": "code",
   "execution_count": 10,
   "metadata": {},
   "outputs": [],
   "source": [
    "# Reading from a CSV file\n",
    "df_csv = pd.read_csv('data/data.csv')\n",
    "\n",
    "# Writing to a CSV file\n",
    "df.to_csv('data/output_file.csv', index=False) # index=False prevents writing the index\n",
    "\n",
    "# Reading from an Excel file\n",
    "#df_excel = pd.read_excel('your_file.xlsx') # You might need to install openpyxl: pip install openpyxl\n",
    "\n",
    "# Writing to an Excel file\n",
    "#df.to_excel('output_file.xlsx', index=False)"
   ]
  },
  {
   "cell_type": "markdown",
   "metadata": {},
   "source": [
    "**Data Manipulation:**\n",
    "\n",
    "*   **Filtering:**\n",
    "Basically what happens, you pass a list of `True` and `False` values, and the indexes for `True` values are return from original data."
   ]
  },
  {
   "cell_type": "code",
   "execution_count": 12,
   "metadata": {},
   "outputs": [
    {
     "name": "stdout",
     "output_type": "stream",
     "text": [
      "0    True\n",
      "1    True\n",
      "Name: Years, dtype: bool\n",
      "  First Name  Years    City\n",
      "0        Bob     30  London\n",
      "1    Charlie     28   Paris\n"
     ]
    }
   ],
   "source": [
    "# Get rows where Age is greater than 25\n",
    "filtered_df = df[df['Years'] > 25]\n",
    "print(df['Years'] > 25)\n",
    "\n",
    "print(filtered_df)"
   ]
  },
  {
   "cell_type": "markdown",
   "metadata": {},
   "source": [
    "*   **Sorting:**"
   ]
  },
  {
   "cell_type": "code",
   "execution_count": null,
   "metadata": {},
   "outputs": [],
   "source": [
    "sorted_df = df.sort_values('Years', ascending=False)  # Sort by Age in descending order\n",
    "print(sorted_df)"
   ]
  },
  {
   "cell_type": "markdown",
   "metadata": {},
   "source": [
    "*   **Grouping:**"
   ]
  },
  {
   "cell_type": "code",
   "execution_count": null,
   "metadata": {},
   "outputs": [],
   "source": [
    "grouped_df = df.groupby('City')['Years'].mean()  # Group by City and calculate the mean Age\n",
    "print(grouped_df)"
   ]
  },
  {
   "cell_type": "markdown",
   "metadata": {},
   "source": [
    "*   **Applying functions:**"
   ]
  },
  {
   "cell_type": "code",
   "execution_count": null,
   "metadata": {},
   "outputs": [],
   "source": [
    "#Apply a function to a column\n",
    "df['Years_Doubled'] = df['Years'].apply(lambda x: x * 2)\n",
    "print(df)"
   ]
  },
  {
   "cell_type": "markdown",
   "metadata": {},
   "source": [
    "**Missing Data:**\n",
    "\n",
    "Pandas provides tools for handling missing data:"
   ]
  },
  {
   "cell_type": "code",
   "execution_count": null,
   "metadata": {},
   "outputs": [],
   "source": [
    "# Check for missing values\n",
    "print(df.isnull())\n",
    "\n",
    "# Fill missing values\n",
    "df.fillna(0, inplace=True)  # Fill with 0\n",
    "# or\n",
    "df['Years'].fillna(df['Years'].mean(), inplace=True) # Fill with mean of the 'Years' column\n",
    "\n",
    "# Drop rows with missing values\n",
    "df.dropna(inplace=True)"
   ]
  },
  {
   "cell_type": "markdown",
   "metadata": {},
   "source": [
    "**Basic Statistics:**"
   ]
  },
  {
   "cell_type": "code",
   "execution_count": null,
   "metadata": {},
   "outputs": [],
   "source": [
    "print(df.describe())  # Get descriptive statistics (mean, std, min, max, etc.)\n",
    "print(df['Years'].mean())\n",
    "print(df['Years'].median())\n",
    "print(df['Years'].max())"
   ]
  },
  {
   "cell_type": "markdown",
   "metadata": {},
   "source": [
    "**The Key Difference: Labels vs. Positions**\n",
    "\n",
    "*   **`df.loc`**: This is primarily label-based. You use it when you know the specific row and/or column *names* (labels) you want to access.\n",
    "*   **`df.iloc`**: This is integer-based. You use it when you know the *numerical position* of the rows and/or columns you want.\n"
   ]
  },
  {
   "cell_type": "code",
   "execution_count": 27,
   "metadata": {},
   "outputs": [
    {
     "name": "stdout",
     "output_type": "stream",
     "text": [
      "            Name  Age      City\n",
      "person1    Alice   25  New York\n",
      "person2      Bob   30    London\n",
      "person3  Charlie   28     Paris\n"
     ]
    }
   ],
   "source": [
    "import pandas as pd\n",
    "\n",
    "data = {'Name': ['Alice', 'Bob', 'Charlie'],\n",
    "        'Age': [25, 30, 28],\n",
    "        'City': ['New York', 'London', 'Paris']}\n",
    "df = pd.DataFrame(data, index=['person1', 'person2', 'person3'])  # Custom index labels\n",
    "print(df)"
   ]
  },
  {
   "cell_type": "markdown",
   "metadata": {},
   "source": [
    "This creates a DataFrame with custom row labels ('person1', 'person2', 'person3') and default column labels ('Name', 'Age', 'City').\n",
    "\n",
    "**Using `loc`**"
   ]
  },
  {
   "cell_type": "code",
   "execution_count": 28,
   "metadata": {},
   "outputs": [
    {
     "name": "stdout",
     "output_type": "stream",
     "text": [
      "Name       Bob\n",
      "Age         30\n",
      "City    London\n",
      "Name: person2, dtype: object\n",
      "25\n",
      "            Name      City\n",
      "person1    Alice  New York\n",
      "person3  Charlie     Paris\n",
      "            Name  Age      City\n",
      "person1    Alice   25  New York\n",
      "person2      Bob   30    London\n",
      "person3  Charlie   28     Paris\n"
     ]
    }
   ],
   "source": [
    "# Select the row with label 'person2'\n",
    "print(df.loc['person2'])\n",
    "\n",
    "# Select the 'Age' column for the row with label 'person1'\n",
    "print(df.loc['person1', 'Age'])\n",
    "\n",
    "# Select multiple rows and columns using labels\n",
    "print(df.loc[['person1', 'person3'], ['Name', 'City']])\n",
    "\n",
    "# Slicing with labels (inclusive of the end label)\n",
    "print(df.loc['person1':'person3', 'Name':'City'])"
   ]
  },
  {
   "cell_type": "markdown",
   "metadata": {},
   "source": [
    "**Using `iloc`**"
   ]
  },
  {
   "cell_type": "code",
   "execution_count": 29,
   "metadata": {},
   "outputs": [
    {
     "name": "stdout",
     "output_type": "stream",
     "text": [
      "Name       Bob\n",
      "Age         30\n",
      "City    London\n",
      "Name: person2, dtype: object\n",
      "25\n",
      "            Name      City\n",
      "person1    Alice  New York\n",
      "person3  Charlie     Paris\n",
      "            Name  Age      City\n",
      "person1    Alice   25  New York\n",
      "person2      Bob   30    London\n",
      "person3  Charlie   28     Paris\n"
     ]
    }
   ],
   "source": [
    "# Select the row at position 1 (second row)\n",
    "print(df.iloc[1])\n",
    "\n",
    "# Select the element at row position 0 and column position 1\n",
    "print(df.iloc[0, 1])\n",
    "\n",
    "# Select multiple rows and columns using positions\n",
    "print(df.iloc[[0, 2], [0, 2]])\n",
    "\n",
    "# Slicing with positions (exclusive of the end position)\n",
    "print(df.iloc[0:3, 0:3])"
   ]
  },
  {
   "cell_type": "markdown",
   "metadata": {},
   "source": [
    "**Important Notes:**\n",
    "\n",
    "*   **Slicing:** When using `loc` with slices, the end label is *inclusive*. When using `iloc` with slices, the end position is *exclusive* (like regular Python slicing).\n",
    "*   **Mixed Indexing:** You can technically mix labels and positions with `loc`, but it's generally best to stick to one for clarity.\n",
    "*   **Boolean Indexing:** Both `loc` and `iloc` can also be used with boolean arrays for more complex filtering.\n",
    "\n",
    "**When to Use Which**\n",
    "\n",
    "*   Use `loc` when you're working with data where you know the row and column labels, or when you want to use meaningful names to select data.\n",
    "*   Use `iloc` when you're working with data where you only know the numerical positions of the rows and columns, or when you need to iterate through rows/columns using their index.\n"
   ]
  },
  {
   "cell_type": "markdown",
   "metadata": {
    "jp-MarkdownHeadingCollapsed": true
   },
   "source": [
    "### What is a DataFrame?\n",
    "\n",
    "A `DataFrame` is a two-dimensional, size-mutable, and heterogeneous tabular data structure with labeled axes (rows and columns) in `pandas`. You can think of it like an in-memory spreadsheet or SQL table, or even a dict of Series objects.\n",
    "\n",
    "Here's a breakdown of its key features:\n",
    "\n",
    "1. **Two-Dimensional Structure**: Like a table in a spreadsheet, a DataFrame consists of rows and columns. This makes it ideal for representing real-world data like financial records, sports statistics, etc.\n",
    "\n",
    "2. **Labeled Axes**: Each row and column in a DataFrame has a label. By default, the row labels are known as the Index, and the column labels are simply the names of each column.\n",
    "\n",
    "3. **Heterogeneous Data Types**: A DataFrame can contain different types of data — integers, strings, floating-point numbers, Python objects, and more. Each column typically holds data of the same type.\n",
    "\n",
    "4. **Size Mutable**: You can add or remove rows and columns from a DataFrame after it has been created.\n",
    "\n",
    "5. **Functionality**: Pandas provides a vast array of functions to manipulate, transform, and analyze data in a DataFrame. This includes operations like filtering, sorting, groupby, merging, concatenation, and more.\n",
    "\n",
    "6. **Data Alignment**: One of the key features of Pandas is data alignment. It automatically aligns data in operations involving multiple DataFrames or Series (a one-dimensional array in Pandas).\n",
    "\n",
    "7. **Handling Missing Data**: Pandas is equipped to handle missing data using methods like `isna()`, `fillna()`, `dropna()`, etc.\n",
    "\n",
    "8. **Efficient Storage and Processing**: Under the hood, Pandas DataFrames are built on top of NumPy arrays, making them efficient for numerical computations.\n",
    "\n",
    "Here's a simple example of a Pandas DataFrame:\n",
    "\n",
    "```python\n",
    "import pandas as pd\n",
    "\n",
    "# Create a DataFrame\n",
    "data = {'Name': ['Alice', 'Bob', 'Charlie'],\n",
    "        'Age': [25, 30, 35],\n",
    "        'City': ['New York', 'Paris', 'London']}\n",
    "df = pd.DataFrame(data)\n",
    "\n",
    "# Display the DataFrame\n",
    "print(df)\n",
    "```\n",
    "\n",
    "This code will output a DataFrame with three columns (Name, Age, City) and three rows, each representing a person's record.\n",
    "\n",
    "\n",
    "\n",
    "\n",
    "\n",
    "\n",
    "\n",
    "### Creating a DataFrame:\n",
    "\n",
    "There are many ways to create a DataFrame. Here's one of the simplest ways using a dictionary:\n",
    "\n",
    "```python\n",
    "\n",
    "data = {\n",
    "    'Name': ['Alice', 'Bob', 'Charlie'],\n",
    "    'Age': [25, 30, 35],\n",
    "    'City': ['New York', 'San Francisco', 'Los Angeles']\n",
    "}\n",
    "\n",
    "df = pd.DataFrame(data)\n",
    "```\n",
    "\n",
    "This will give:\n",
    "\n",
    "```\n",
    "      Name  Age           City\n",
    "0    Alice   25       New York\n",
    "1      Bob   30  San Francisco\n",
    "2  Charlie   35    Los Angeles\n",
    "```\n",
    "\n",
    "or you can simply create an empty DataFram:\n",
    "\n",
    "```\n",
    "df = pd.DataFrame(columns=[\"Name\", \"Article\", \"Quantity\"])\n",
    "```\n",
    "\n",
    "### append columns to an empty DataFrame \n",
    "```\n",
    "df['Name'] = ['Tv', 'PC', 'Desk']\n",
    "df['Article'] = [97, 600, 200]\n",
    "df['Quantity'] = [2200, 75, 100]\n",
    "```\n",
    "\n",
    "\n",
    "#### iterate rows\n",
    "```\n",
    "for index, row in df.iterrows():\n",
    "    print(index, row['Name'])\n",
    "```\n",
    "\n",
    "### append rows\n",
    "```\n",
    "df_new_row = pd.DataFrame(\n",
    "    {'Name': ['Fridge'], 'Article': [97], 'Quantity': [2200]})\n",
    "df = pd.concat([df, df_new_row])\n",
    "```\n",
    "\n",
    "\n",
    "### printing headers (columns names)\n",
    "```\n",
    "cols = df.columns.tolist()\n",
    "print(\"columns are: \", cols)\n",
    "print(\"head: \", df.head())\n",
    "```\n",
    "\n",
    "\n",
    "### Basic Operations:\n",
    "\n",
    "You can do a variety of operations on DataFrames:\n",
    "\n",
    "\n",
    "### selecting columns\n",
    "\n",
    "```\n",
    "df['Name']\n",
    "```\n",
    "or\n",
    "\n",
    "```\n",
    "df[['Name', 'Age']]\n",
    "```\n",
    "\n",
    "### filtering rows\n",
    "```\n",
    "df[df['Age'] > 30]\n",
    "```\n",
    "\n",
    "### merging/ joining data\n",
    "\n",
    "```\n",
    "pd.merge(df1, df2, on='key_column')\n",
    "```\n",
    "\n",
    "### accessing rows by index\n",
    "```\n",
    "print(\"the value of column Name at row index 1:\", df.loc[1, ['Name']])\n",
    "```\n",
    "### updating rows\n",
    "```\n",
    "df.at[1, 'Name'] = 'new value'\n",
    "print(\"the value of column Name at row index 1 after update is:\",\n",
    "      df.loc[1, ['Name']])\n",
    "```\n",
    "### updating rows in loop\n",
    "```\n",
    "for index in df.index:\n",
    "    df.loc[index, ['Name']] = \"*\" + df.loc[index, ['Name']] + \"*\"\n",
    "```\n",
    "\n",
    "\n",
    "### delete columns\n",
    "```\n",
    "# or df.pop(\"temp\") or del df[\"temp\"]\n",
    "df.drop('Quantity', inplace=True, axis=1)\n",
    "print('removing the Quantity column')\n",
    "print(df)\n",
    "```\n",
    "\n",
    "### rename columns\n",
    "```\n",
    "df.rename(columns={'Article': 'New-Article'}, inplace=True)\n",
    "```\n",
    "\n",
    "### reset index column\n",
    "```\n",
    "df = df.reset_index(drop=True)\n",
    "df.set_index('Name', inplace=True)\n",
    "print(df)\n",
    "```\n",
    "### remove index when writhing to csv\n",
    "```\n",
    "df.to_csv('data/tmp.csv', index=False)\n",
    "```\n",
    "### read csv \n",
    "```\n",
    "df = pd.read_csv(\"data/tmp.csv\", index_col=False)\n",
    "print(df)\n",
    "```\n",
    "\n",
    "\n",
    "### processing data without iterating\n",
    "\n",
    "In Pandas, it's often recommended to avoid explicit iteration (e.g., with `for` loops) over DataFrame rows or Series elements. Iterating over DataFrame rows using methods like `iterrows()` or `itertuples()` can be quite slow. Instead, one should leverage Pandas' built-in vectorized operations, which are optimized for performance.\n",
    "\n",
    "Here are some common ways to process data in Pandas without iterating:\n",
    "\n",
    "### 1. **Vectorized Operations**\n",
    "\n",
    "For arithmetic operations, you can apply them directly to the whole DataFrame or Series.\n",
    "\n",
    "```python\n",
    "import pandas as pd\n",
    "\n",
    "df = pd.DataFrame({'A': [1, 2, 3], 'B': [4, 5, 6]})\n",
    "df['A'] = df['A'] * 2\n",
    "```\n",
    "\n",
    "### 2. **Using `apply()`**\n",
    "\n",
    "You can apply a function along the axis of a DataFrame.\n",
    "\n",
    "```python\n",
    "def some_function(x):\n",
    "    return x * x\n",
    "\n",
    "df['A'] = df['A'].apply(some_function)\n",
    "```\n",
    "or some lambda function:\n",
    "\n",
    "```python\n",
    "df[\"age\"]=df[\"age\"].apply(lambda x:x*2)\n",
    "```\n",
    "\n",
    "### 3. **Using `map()` for Series**\n",
    "\n",
    "The `map()` function is used to map each value in a Series to some other value.\n",
    "\n",
    "```python\n",
    "s = pd.Series(['cat', 'dog', 'mouse'])\n",
    "s = s.map(str.upper)\n",
    "```\n",
    "\n",
    "### 4. **Boolean Indexing**\n",
    "\n",
    "You can filter rows based on some condition without iterating.\n",
    "\n",
    "```python\n",
    "df_filtered = df[df['A'] > 2]\n",
    "```\n",
    "\n",
    "### 5. **Using `where()`**\n",
    "\n",
    "The `where()` function is used to replace values in rows or columns based on some condition.\n",
    "\n",
    "```python\n",
    "df['A'] = df['A'].where(df['A'] > 2, 0)\n",
    "```\n",
    "\n",
    "### 6. **Using `assign()` for Creating New Columns**\n",
    "\n",
    "```python\n",
    "df = df.assign(C = df['A'] + df['B'])\n",
    "```\n",
    "\n",
    "### 7. **String Operations with `str` Accessor**\n",
    "\n",
    "You can apply string operations directly on a Series without iterating.\n",
    "\n",
    "```python\n",
    "df['text_column'] = df['text_column'].str.lower()\n",
    "```\n",
    "\n",
    "### 8. **Datetime Operations with `dt` Accessor**\n",
    "\n",
    "If you have a datetime column, you can extract components without iterating.\n",
    "\n",
    "```python\n",
    "df['year'] = df['date_column'].dt.year\n",
    "```\n",
    "\n",
    "### 9. **Aggregation Functions**\n",
    "\n",
    "Aggregation functions like `sum()`, `mean()`, `max()`, etc., are inherently vectorized.\n",
    "\n",
    "```python\n",
    "total = df['A'].sum()\n",
    "```\n",
    "\n",
    "### 10. **Using `eval()` for Computation**\n",
    "`eval()` apply an string operation on the variable. For large DataFrames, `eval()` can be faster than standard operations.\n",
    "\n",
    "```python\n",
    "df.eval('age=age+quantity', inplace=True)\n",
    "```\n",
    "\n",
    "The key takeaway is that Pandas provides numerous built-in functionalities that allow you to perform operations on entire columns or DataFrames at once. By leveraging these capabilities, you can make your code cleaner, more concise, and often much faster.\n",
    "\n",
    "\n",
    "\n",
    "### iloc\n",
    " `iloc` stands for \"integer-location\" and is used primarily for selecting rows and columns in a DataFrame by their integer index positions. \n",
    "\n",
    "Here's a basic overview:\n",
    "\n",
    "1. **Single Selection**\n",
    "    ```python\n",
    "    import pandas as pd\n",
    "    df = pd.DataFrame({\n",
    "        'A': [1, 2, 3],\n",
    "        'B': [4, 5, 6],\n",
    "        'C': [7, 8, 9]\n",
    "    })\n",
    "\n",
    "    # Select the value in the first row and first column\n",
    "    value = df.iloc[0, 0]  # returns 1\n",
    "    ```\n",
    "\n",
    "2. **Selecting Rows**\n",
    "    ```python\n",
    "    # Select the first row\n",
    "    first_row = df.iloc[0]\n",
    "\n",
    "    # Select the first and second rows\n",
    "    first_two_rows = df.iloc[0:2]\n",
    "    ```\n",
    "\n",
    "3. **Selecting Columns**\n",
    "    ```python\n",
    "    # Select the first column\n",
    "    first_column = df.iloc[:, 0]\n",
    "\n",
    "    # Select the first and second columns\n",
    "    first_two_columns = df.iloc[:, 0:2]\n",
    "    ```\n",
    "\n",
    "4. **Selecting Multiple Rows and Columns**\n",
    "    ```python\n",
    "    # Select the first two rows and the first two columns\n",
    "    subset = df.iloc[0:2, 0:2]\n",
    "    ```\n",
    "\n",
    "5. **Using Lists**\n",
    "    ```python\n",
    "    # Select the first and third rows and the first and third columns\n",
    "    subset = df.iloc[[0, 2], [0, 2]]\n",
    "    ```\n",
    "\n",
    "6. **Conditional Selection (using boolean indexing)**\n",
    "    While `iloc` doesn't support boolean indexing directly, we can achieve this by combining it with boolean indexing on the dataframe:\n",
    "    ```python\n",
    "    mask = df['A'] > 1  # Boolean mask where column 'A' is greater than 1\n",
    "    filtered_rows = df[mask]\n",
    "\n",
    "    # Using iloc on the filtered dataframe\n",
    "    subset = filtered_rows.iloc[:, 0:2]\n",
    "    ```\n",
    "\n",
    "Remember, `iloc` uses integer-based indexing, so it doesn't consider named indices (row labels) or column labels, unlike `loc` which is label-based indexing. If you try to access an index or column that doesn't exist, you will get an `IndexError`. Ensure that the indices you're using are valid for the DataFrame you're working with."
   ]
  }
 ],
 "metadata": {
  "colab": {
   "from_bard": true
  },
  "kernelspec": {
   "display_name": "Python 3 (ipykernel)",
   "language": "python",
   "name": "python3"
  },
  "language_info": {
   "codemirror_mode": {
    "name": "ipython",
    "version": 3
   },
   "file_extension": ".py",
   "mimetype": "text/x-python",
   "name": "python",
   "nbconvert_exporter": "python",
   "pygments_lexer": "ipython3",
   "version": "3.13.2"
  }
 },
 "nbformat": 4,
 "nbformat_minor": 4
}
