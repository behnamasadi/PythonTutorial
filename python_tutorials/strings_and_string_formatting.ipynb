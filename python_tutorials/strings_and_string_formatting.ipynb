{
 "cells": [
  {
   "cell_type": "markdown",
   "metadata": {},
   "source": [
    "**Strings**\n",
    "\n",
    "* **Creation:** Strings are created using single quotes (`'`) or double quotes (`\"`) to enclose a sequence of characters. For example:"
   ]
  },
  {
   "cell_type": "code",
   "execution_count": 4,
   "metadata": {},
   "outputs": [],
   "source": [
    "string1 = 'Hello, world!'\n",
    "string2 = \"Python is awesome.\""
   ]
  },
  {
   "cell_type": "markdown",
   "metadata": {},
   "source": [
    "* **Immutability:** Strings in Python are immutable, meaning their values cannot be changed after creation. If you need to modify a string, you'll have to create a new one.\n",
    "\n",
    "* **Operations:** Python provides various built-in functions and operators for working with strings, such as:\n",
    "    * Concatenation (`+`): Combines two or more strings.\n",
    "    * Slicing (`[]`): Extracts a portion of a string.\n",
    "    * Length (`len()`): Returns the number of characters in a string.\n",
    "    * Case conversion (`lower()`, `upper()`): Changes the case of a string.\n",
    "    * Searching and replacing (`find()`, `replace()`): Locates substrings and replaces them.\n",
    "\n",
    "**String Formatting**\n",
    "\n",
    "Python offers several ways to format strings, each with its own advantages:\n",
    "\n",
    "1. **f-strings (Formatted String Literals)**\n",
    "\n",
    "   * Introduced in Python 3.6, f-strings provide a concise and readable way to embed expressions within strings.\n",
    "   * You prefix a string with `f` or `F` and enclose expressions in curly braces `{}`.\n",
    "   * Expressions are evaluated at runtime and their values are inserted into the string."
   ]
  },
  {
   "cell_type": "code",
   "execution_count": 5,
   "metadata": {},
   "outputs": [
    {
     "name": "stdout",
     "output_type": "stream",
     "text": [
      "My name is Alice and I am 30 years old.\n"
     ]
    }
   ],
   "source": [
    "name = \"Alice\"\n",
    "age = 30\n",
    "message = f\"My name is {name} and I am {age} years old.\"\n",
    "print(message)  # Output: My name is Alice and I am 30 years old."
   ]
  },
  {
   "cell_type": "markdown",
   "metadata": {},
   "source": [
    "2. **`str.format()` Method**\n",
    "\n",
    "   * This method allows you to format strings using placeholders within the string and then passing the values as arguments to the `format()` method."
   ]
  },
  {
   "cell_type": "code",
   "execution_count": 6,
   "metadata": {},
   "outputs": [
    {
     "name": "stdout",
     "output_type": "stream",
     "text": [
      "Hello, Bob! Your score is 95.\n"
     ]
    }
   ],
   "source": [
    "name = \"Bob\"\n",
    "score = 95\n",
    "message = \"Hello, {}! Your score is {}.\".format(name, score)\n",
    "print(message)  # Output: Hello, Bob! Your score is 95."
   ]
  },
  {
   "cell_type": "markdown",
   "metadata": {},
   "source": [
    "3. **Old-style String Formatting (using `%`)**\n",
    "\n",
    "   * This is the oldest method, similar to `printf` formatting in C.\n",
    "   * It uses `%` as a placeholder for variables, followed by a conversion specifier (e.g., `%s` for strings, `%d` for integers)."
   ]
  },
  {
   "cell_type": "code",
   "execution_count": 7,
   "metadata": {},
   "outputs": [
    {
     "name": "stdout",
     "output_type": "stream",
     "text": [
      "Name: Charlie, Height: 1.85 meters\n"
     ]
    }
   ],
   "source": [
    "name = \"Charlie\"\n",
    "height = 1.85\n",
    "message = \"Name: %s, Height: %.2f meters\" % (name, height)\n",
    "print(message)  # Output: Name: Charlie, Height: 1.85 meters"
   ]
  },
  {
   "cell_type": "markdown",
   "metadata": {},
   "source": [
    "**Choosing a Formatting Method**\n",
    "\n",
    "* f-strings are generally preferred for their readability and conciseness, especially for simple formatting tasks.\n",
    "* The `str.format()` method is useful for more complex scenarios, such as when you need to reuse values or format them in different ways.\n",
    "* Old-style formatting is still supported but is less commonly used in modern Python code.\n",
    "\n",
    "**Additional Formatting Options**\n",
    "\n",
    "* You can use format specifiers to control the appearance of values within strings, such as:\n",
    "    * Precision for floating-point numbers (`:.2f`)\n",
    "    * Alignment (`:<10`, `:>10`, `:^10`)\n",
    "    * Padding (`:05d`)\n",
    "    * Thousands separators (`,`)\n",
    "\n",
    "* Refer to the Python documentation for a comprehensive list of format specifiers.\n",
    "\n",
    "Remember that string formatting is a powerful tool for creating dynamic and well-structured text in your Python programs. Choose the method that best suits your needs and coding style."
   ]
  }
 ],
 "metadata": {
  "colab": {
   "from_bard": true
  },
  "kernelspec": {
   "display_name": "Python 3 (ipykernel)",
   "language": "python",
   "name": "python3"
  },
  "language_info": {
   "codemirror_mode": {
    "name": "ipython",
    "version": 3
   },
   "file_extension": ".py",
   "mimetype": "text/x-python",
   "name": "python",
   "nbconvert_exporter": "python",
   "pygments_lexer": "ipython3",
   "version": "3.13.2"
  }
 },
 "nbformat": 4,
 "nbformat_minor": 4
}
