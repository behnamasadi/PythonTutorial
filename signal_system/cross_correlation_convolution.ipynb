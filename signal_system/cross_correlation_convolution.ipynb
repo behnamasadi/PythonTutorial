{
 "cells": [
  {
   "cell_type": "markdown",
   "metadata": {},
   "source": [
    "# Signals and Systems\n",
    "\n",
    "The **signals**, which are functions of one or more independent variables, contain information about the behavior or nature of some phenomenon (i.e. voltages and currents as a function of time in an electrical circuit are examples of signals) , whereas the **systems** respond to particular signals by producing other signals or some desired behavior (a circuit is itself an example of a system, which in this case responds to applied voltages and currents)\n",
    "\n",
    "\n",
    "In the many contexts in which signals and systems arise, there are a variety of prob-\n",
    "lems and questions that are of importance. In some cases, we are presented with a specific\n",
    "system and are interested in characterizing it in detail to understand how it will respond to\n",
    "various inputs.\n",
    "\n",
    "\n",
    "Examples include the analysis of a circuit in order to quantify its response\n",
    "to different voltage and current sources and the determination of an aircraft's response\n",
    "characteristics both to pilot commands and to wind gusts.\n"
   ]
  },
  {
   "cell_type": "markdown",
   "metadata": {},
   "source": [
    "# Transformation of the  Independent Variable\n",
    "\n",
    "\n",
    "It is often of interest to determine the effect of transforming the independent variable\n",
    "of a given signal $x(t)$ to obtain a signal of the form $y(t)=x(\\alpha t + \\beta)$, where $\\alpha$ and $\\beta$ are given\n",
    "numbers.\n",
    "\n",
    "\n",
    "\n",
    "Such a transformation of the independent variable preserves the shape of $x(t)$,\n",
    "except that the resulting signal may be\n",
    "\n",
    "linearly stretched if $|\\alpha|$  < 1, \n",
    "\n",
    "linearly compressed if $|\\alpha|$  > 1, \n",
    "\n",
    "reversed in time if $\\alpha < 0$, \n",
    "\n",
    "and shifted in time if $\\beta$ is nonzero.\n",
    "\n",
    "To get the new signal, we always first apply $\\beta$, if $\\beta>0$, we shift to the left, if $\\beta<0$ we shift to the right, then we apply $\\alpha$\n",
    "\n",
    "\n",
    "<img src='images/lti.jpg'>\n",
    "\n"
   ]
  },
  {
   "cell_type": "markdown",
   "metadata": {},
   "source": [
    "# Periodic Signals\n",
    "\n",
    "An important class of signals is the class of periodic signals. A periodic continuous-time signal $x(t)$ has the property that there is a positive value of $T$ for which: $x(t)=x(t+T)$.\n",
    "\n",
    "\n",
    "In other words, a periodic signal has the property that it is unchanged by a\n",
    "time shift of $T$. In this case, we say that $x(t)$ is periodic with period $T$\n",
    "\n",
    "<img src='images/periodic.jpg'>\n"
   ]
  },
  {
   "cell_type": "markdown",
   "metadata": {},
   "source": [
    "# Even and Odd Signal\n",
    "### Odd Signal\n",
    "for continous signals:\n",
    "\n",
    "$x(-t)=x(t)$\n",
    "\n",
    "for discrete signals:\n",
    "\n",
    "$x[-n]=x[n]$\n",
    "### Even Signal\n",
    "for continous signals:\n",
    "\n",
    "$x(-t)=-x(t)$\n",
    "\n",
    "for discrete signals:\n",
    "\n",
    "$x[-n]=-x[n]$\n",
    "\n",
    "any signal can be broken into a sum of two signals, one of which is even and one of which is odd:\n",
    "\n",
    "$E\\{x(t)\\}=\\frac{1}{2}[x(t)+x(-t)]$\n",
    "\n",
    "$O\\{x(t)\\}=\\frac{1}{2}[x(t)-x(-t)]$\n",
    "\n",
    "\n",
    "<img src='images/even_odd.jpg' />"
   ]
  },
  {
   "cell_type": "markdown",
   "metadata": {},
   "source": [
    "# Complex number\n",
    "\n",
    "### Cartesian form\n",
    "$z=x+iy$\n",
    "\n",
    "### Polar form\n",
    "\n",
    "\n",
    "$z=re^{i\\varphi}=r(cos(\\varphi) + isin(\\varphi))$\n",
    "\n",
    "\n",
    "\n",
    "${\\displaystyle r=|z|={\\sqrt {x^{2}+y^{2}}}.}$\n",
    "\n",
    "\n",
    "\n",
    "\n",
    "${\\displaystyle \\varphi =\\arg(x+yi)={\\begin{cases}2\\arctan \\left({\\dfrac {y}{{\\sqrt {x^{2}+y^{2}}}+x}}\\right)&{\\text{if }}y\\neq 0{\\text{ or }}x>0,\\\\\\pi &{\\text{if }}x<0{\\text{ and }}y=0,\\\\{\\text{undefined}}&{\\text{if }}x=0{\\text{ and }}y=0.\\end{cases}}}$\n"
   ]
  },
  {
   "cell_type": "markdown",
   "metadata": {},
   "source": [
    "# The Discrete Unit Impulse and Unit Step Functions\n",
    "\n",
    "\n",
    "$\\delta (n)={\\begin{cases}+1 ,&n=0\\\\0,&n\\neq 0\\end{cases}}$\n",
    "\n",
    "<img src='images/unit_impulse.jpg'>\n",
    "\n",
    "\n",
    "\n",
    "\n",
    "\n",
    "\n",
    "$u(n)={\\begin{cases}0 ,&n<0\\\\1,&n\\ge 0\\end{cases}}$\n",
    "\n",
    "<img src='images/unit_step.jpg'>"
   ]
  },
  {
   "cell_type": "markdown",
   "metadata": {},
   "source": [
    "$\\delta[n]=u[n]-u[n-1]$\n",
    "\n",
    "\n",
    "$u[n]=\\sum_{m=-\\infty}^{n} \\delta[m]$\n",
    "\n",
    "\n",
    "Example:\n",
    "\n",
    "\n",
    "$u[-1]= \\delta[-\\infty]+...   + \\delta[-2]+\\delta[-1]=0$\n",
    "\n",
    "\n",
    "$u[2]=\\delta[-\\infty]+...+ \\delta[-2]+ \\delta[-1]+ \\delta[0] + \\delta[1]+\\delta[2]=1$\n",
    "\n",
    "\n",
    "By changing the variable of summation from $m$ to $k = n - m$, we would have:\n",
    "\n",
    "$m = n -k $\n",
    "\n",
    "$-\\infty <m < n $\n",
    "\n",
    "\n",
    "$-n <-m < +\\infty $\n",
    "\n",
    "$0 <n-m < n+\\infty $\n",
    "\n",
    "\n",
    "$u[n]=\\sum_{k=0}^{+\\infty} \\delta[n-k]$\n",
    "\n"
   ]
  },
  {
   "cell_type": "markdown",
   "metadata": {},
   "source": [
    "$n<0$\n",
    "<img src='images/delta_n-k+.jpg' />\n",
    "\n",
    "\n",
    "$n>0$\n",
    "<img src='images/delta_n-k-.jpg' />\n"
   ]
  },
  {
   "cell_type": "markdown",
   "metadata": {},
   "source": [
    "# The Continuous Unit Impulse and Unit Step Functions\n",
    "\n",
    "Continuous unit Step function:\n",
    "\n",
    "$u(t)={\\begin{cases}+1 ,&t>0\\\\0,&t< 0\\end{cases}}$\n",
    "\n",
    "\n",
    "to the relationship between the discrete-time unit impulse and step functions. In particular, the continuous-time unit step is the running integral of the unit impulse:\n",
    "\n",
    "$u(t)\\int _{-\\infty}^{t}\\delta(\\tau)d\\tau   $ \n",
    "\n",
    "or by changing the variable of integration from $\\tau$ to $\\sigma = t- \\tau$\n",
    "\n",
    "\n",
    "$\\tau = t- \\sigma$\n",
    "\n",
    "\n",
    "$u(t)=\\int _{-\\infty}^{t}\\delta(\\tau)d\\tau = \\int _{+\\infty}^{0}\\delta(t-\\sigma)(-d\\sigma)= \\int _{0}^{+\\infty}\\delta(t-\\sigma)d\\sigma$ \n",
    "\n",
    "\n",
    "$\\delta(t)=\\frac{du(t)}{dt}$\n"
   ]
  },
  {
   "cell_type": "markdown",
   "metadata": {},
   "source": [
    "# Basic System Propeties\n",
    "\n",
    "\n",
    "\n"
   ]
  },
  {
   "cell_type": "markdown",
   "metadata": {},
   "source": [
    "## Systems with and without Memory\n",
    "A system is said to be memory less if its output for each value of the independent variable\n",
    "at a given time is dependent only on the input at that same time"
   ]
  },
  {
   "cell_type": "markdown",
   "metadata": {},
   "source": [
    "## Time Invariant\n",
    "\n",
    "Conceptually, a system is time invariant if the behavior and characteristics of the system\n",
    "are fixed over time. For example, a $RC$ circuit is time invariant if the\n",
    "resistance and capacitance values $R$ and $C$ are constant over time. We would expect to\n",
    "get the same results from an experiment with this circuit today as we would if we ran the\n",
    "identical experiment tomorrow.\n",
    "\n",
    "a system is time invariant if a time shift in the input signal results in an identical time shift in the output signal. That is, if $y[n]$ is the output of a discrete-time, time-invariant system when $x[n]$ is the input, then $y [n- n_0 ]$ is the output when $x [n-n_0 ]$ is applied."
   ]
  },
  {
   "cell_type": "markdown",
   "metadata": {},
   "source": [
    "## Linearity\n",
    "If an input consists of the weighted sum of several signals,then the output is the superposition-that is, the weighted sum-of the responses of the\n",
    "system to each of those signals. let $y_1(t)$ be the response of a continuous-\n",
    "time system to an input $x_1(t)$, and let $y_2(t)$ be the output corresponding to the input $x_2(t)$.\n",
    "\n",
    "Then the system is linear if:\n",
    "1. The response to $x_1 (t)+ x_2(t)$ is $y_1(t)$ + $y_2(t)$ (additivity property).\n",
    "2. The response to $ax_1(t)$ is $ay_1(t)$, where $a$ is any complex constant (scaling or homogeneity).\n",
    "\n",
    "The two properties defining a linear system can be combined into a single statement:\n",
    "\n",
    "\n",
    "continuous time: $ax_1 (t) + bx2(t) \\rightarrow ay_1(t) + by_2(t)$,\n",
    "\n",
    "\n",
    "discrete time: $ax_1[n] + bx_2[n] \\rightarrow ay_1[n] + by_2[n]$.\n",
    "\n",
    "\n",
    "it is straightforward to show from the definition of linearity that if $x_k[n]$, $k = 1, 2, 3, ... ,$ are a set of inputs to a discrete-time linear system with corresponding outputs $y_k[n], k = 1, 2, 3, ...$ , then the response to a linear combination of these inputs given by:\n",
    "\n",
    "\n",
    "$x[n]=\\sum_{k}a_{k}x_k[n]=a_{1}x_1[n]+a_{2}x_2[n]+a_{3}x_k[3]+...$\n",
    "\n",
    "is:\n",
    "\n",
    "$y[n]=\\sum_{k}a_{k}y_k[n]=a_{1}y_1[n]+a_{2}y_2[n]+a_{3}y_k[3]+...$\n",
    "\n",
    "This very important fact is known as the **superposition property**"
   ]
  },
  {
   "cell_type": "markdown",
   "metadata": {},
   "source": [
    "# The Representation of Discrete-Time Signals in Terms of Impulses\n",
    "\n",
    "The key idea in visualizing how the discrete-time unit impulse can be used to construct\n",
    "any discrete-time signal is to think of a discrete-time signal as a sequence of individual impulses. For example consider the following signal:\n",
    "\n",
    "\n",
    "<img src='images/discrete_time_signals.jpg' />\n",
    "\n",
    "\n",
    "\n",
    "It can be depicted as five time-shifted, scaled unit impulse sequences, where the scaling on each impulse equals the value of $x[n]$ at the particular instant the unit sample occurs.\n",
    "<img src='images/representation_of_discrete_time_signals_in_terms_of_impulses.jpg' />\n"
   ]
  },
  {
   "cell_type": "markdown",
   "metadata": {},
   "source": [
    "$x[-1]\\delta[n+1]=\n",
    "\\left\\{\\begin{matrix}\n",
    "x[-1] & n=-1 \\\\\n",
    "0 & n\\neq-1 \\\\\n",
    "\\end{matrix}\\right.$\n",
    "\n",
    "$x[0]\\delta[n]=\n",
    "\\left\\{\\begin{matrix}\n",
    "x[0] & n=0 \\\\\n",
    "0 & n\\neq0 \\\\\n",
    "\\end{matrix}\\right.$\n",
    "\n",
    "$x[1]\\delta[n-1]=\n",
    "\\left\\{\\begin{matrix}\n",
    "x[1] & n=1 \\\\\n",
    "0 & n\\neq1 \\\\\n",
    "\\end{matrix}\\right.$\n",
    "\n",
    "\n",
    "$x[n]=...+ x[-3]\\delta[n+3]+x[-2]\\delta[n+2]+x[-1]\\delta[n+1]+x[0]\\delta[n]+x[1]\\delta[n-1]+x[2]\\delta[n-2]+x[3]\\delta[n-3]+...  $\n",
    "\n",
    "so it can be written as:\n",
    "\n",
    "$x[n]=\\sum_{k=-\\infty}^{+\\infty}x[k]\\delta[n-k]$\n",
    "which is **sifting property** of the discrete-time unit impulse\n",
    "\n",
    "This corresponds to the representation of an arbitrary sequence as a linear combination of\n",
    "shifted unit impulses $\\delta[n- k]$, where the weights in this linear combination are $x[k]$.\n"
   ]
  },
  {
   "cell_type": "markdown",
   "metadata": {},
   "source": [
    "# The Discrete-Time Unit Impulse Response and the Convolution-Sum Representation of LTI Systems\n",
    "Let $h_k[n]$ denote the response of the linear system to the shifted unit impulse $\\delta[n - k]$, Then, from the superposition property for a linear system, the response $y[n]$ of the linear system to the input $x[n]=\\sum_{k=-\\infty}^{+\\infty}x[k]\\delta[n-k]$\n",
    " is simply the weighted linear combination of these basic responses, the output $y[n]$\n",
    "can be expressed as:\n",
    "\n",
    "$y[n]=\\sum_{k=-\\infty}^{+\\infty}x[k]h_k[n]$\n",
    "\n",
    "\n"
   ]
  },
  {
   "cell_type": "markdown",
   "metadata": {},
   "source": [
    "### Example of Response of Linear System to Unit Impulse\n",
    "\n",
    "The following signal $x[n]$ is applied as the input to a linear system (**not necessarily time/ shift invariant**)\n",
    "\n",
    "<img src='images/input.jpg'  />"
   ]
  },
  {
   "cell_type": "markdown",
   "metadata": {},
   "source": [
    "<img src='images/input_delta_responses.jpg'>"
   ]
  },
  {
   "cell_type": "markdown",
   "metadata": {},
   "source": [
    "### Response of Linear System and Time Invariant to Unit Impulse\n",
    "In general, of course, the responses $h_k[n]$ need not be related to each other for differ\n",
    "ent values of $k$. However, if the linear system is also **time invariant**, then these responses to time-shifted unit impulses are all time-shifted versions of each other. Specifically, since $\\delta[n- k]$ is a time-shifted version of $\\delta[n]$, the response $h_k[n]$ is a time-shifted version of $h_0[n]$ i.e.\n",
    "\n",
    "$h_k[n]=h_0[n-k]$\n",
    "\n",
    "For notational convenience, we will drop the subscript on $h_0[n]$ and define the unit impulse (sample) response:\n",
    "\n",
    "$h[n]=h_0[n]$\n",
    "\n",
    "That is, $h[n]$ is the output ofthe LTI system when $\\delta[n]$ is the input. Then for an LTI system, the equation \n",
    "\n",
    "$y[n]=\\sum_{k=-\\infty}^{+\\infty}x[k]h_k[n]$\n",
    "\n",
    "will become:\n",
    "\n",
    "$y[n]=\\sum_{k=-\\infty}^{+\\infty}x[k]h[n-k]$\n",
    "\n",
    "This result is referred to as the convolution:\n",
    "\n",
    "$y[n]=x[n]*h[n]$\n"
   ]
  },
  {
   "cell_type": "markdown",
   "metadata": {},
   "source": [
    "# Two Interpretation of Convolution\n"
   ]
  },
  {
   "cell_type": "markdown",
   "metadata": {},
   "source": [
    "### First Interpretation\n",
    "\n",
    "\n",
    "\n",
    "<img src='images/lti_input.jpg'/>\n",
    "\n",
    "$y[n]=x[0]h[n-0]+x[1]h[n-1]=0.5h[n-0]+2h[n-1]$\n",
    "\n",
    "<img src='images/lti_pulse_response.jpg'/>\n"
   ]
  },
  {
   "cell_type": "markdown",
   "metadata": {},
   "source": [
    "### Second Interpretation\n",
    "\n",
    "Input Signal\n",
    "<img src='images/convolution_interpretation_input.svg' />\n",
    "\n",
    "Reponse of the system to $\\delta$\n",
    "\n",
    "\n",
    "<img src='images/convolution_interpretation_delta_reposne.svg' />\n"
   ]
  },
  {
   "cell_type": "markdown",
   "metadata": {},
   "source": [
    "$y[n]=\\sum_{k=-\\infty}^{+\\infty}x[k]h[n-k]$\n",
    "\n",
    "$x[k]h[n-k]$\n",
    "\n",
    "$n=0$\n",
    "\n",
    "$y[0]=...+x[-2]h[2]+x[-1]h[1]+x[0]h[0]+x[1]h[-1] +x[2]h[-2] +x[3]h[-3]+... $\n",
    "\n",
    "$h: 3 \\qquad 1 \\qquad 2 $ \n",
    "\n",
    "$x: 0\\qquad 0\\qquad 1\\qquad 3\\qquad 1\\qquad 2\\qquad 0\\qquad 0\\qquad$"
   ]
  },
  {
   "cell_type": "markdown",
   "metadata": {},
   "source": [
    "$n=1$\n",
    "\n",
    "\n",
    "\n",
    "$y[1]=...+  x[-1]h[2]+ x[0]h[1]+ x[1]h[0]+ x[2]h[-1]+x[3]h[-2]  +... $\n",
    "\n",
    "$h: \\ \\   \\qquad 3 \\qquad 1 \\qquad 2 $ \n",
    "\n",
    "$x: 0\\qquad 0\\qquad 1\\qquad 3\\qquad 1\\qquad 2\\qquad 0\\qquad 0\\qquad$"
   ]
  },
  {
   "cell_type": "markdown",
   "metadata": {},
   "source": [
    "$n=2$\n",
    "\n",
    "\n",
    "\n",
    "$y[2]=...+x[0]h[2] + x[1]h[1] + x[2]h[0]+ x[3]h[-1]+...$\n",
    "\n",
    "$h: \\ \\   \\qquad \\ \\ \\qquad 3 \\qquad 1 \\qquad 2 $ \n",
    "\n",
    "$x: 0\\qquad 0\\qquad 1\\qquad 3\\qquad 1\\qquad 2\\qquad 0\\qquad 0\\qquad$"
   ]
  },
  {
   "cell_type": "markdown",
   "metadata": {},
   "source": [
    "$y[n]=x[n]*h[n]= [2\\quad 7\\quad 8\\quad 14\\quad 5\\quad 6]$\n",
    "\n",
    "The lenght of convolution response is: $m+n-1$"
   ]
  },
  {
   "cell_type": "markdown",
   "metadata": {},
   "source": [
    "# 2D Convolution\n",
    "\n",
    "By convolving both horizontal and vertical directions in a two-dimensional spatial domain, 2D convolution is simply an expansion of prior 1D convolution. Smoothing, sharpening, and edge detection of images are all common applications for convolution.\n",
    "\n",
    "\n",
    "The impulse in 2D space is $\\delta[m, n]$ where m and n is zero and zeros at $m,n \\neq 0$. The impulse response in 2D is usually called **kernel** or **filter** in image processing.\n",
    "\n",
    "\n",
    "\n",
    "<figure>\n",
    "  <img src='images/conv2d_delta.jpg' alt=\"Trulli\" style=\"width:30%\">\n",
    "  <img src='images/conv_img10.png' alt=\"Trulli\" style=\"width:30%\">\n",
    "  <figcaption>impulse in 2D, image courtesy www.songho.ca</figcaption>\n",
    "</figure>\n",
    "\n",
    "2D signal can be written as  sum of scaled and shifted impulse functions:  $x[m,n]=\\sum_{j=-\\infty}^{+\\infty} \\sum_{i=-\\infty}^{+\\infty} x[i,j]\\delta[m-i,nj]$\n",
    "\n",
    "\n",
    "\n",
    "\n",
    "The **x-coordinate** is defined here as increasing in the **\"right\"-direction** ( [column, row]), and the **y-coordinate** is defined as increasing in the **\"down\"-direction**.\n",
    "\n",
    "\n",
    "<img src='images/x_y_coordinate.svg' alt=\"Trulli\" style=\"width:30%\">\n",
    "\n",
    "\n",
    "\n",
    "\n",
    "<img src=\"https://latex.codecogs.com/svg.latex?{\\displaystyle \\begin{bmatrix}\n",
    "x,y   &  x+1,y   & ... & x+n,y  \\\\\n",
    "x,y+1 &  x+2,y+1  & ... & x+n,y+1  \\\\\n",
    "\\vdots &  &  \\ddots & \\vdots \\\\ \n",
    " x,y+m  & x+2,y+m  & ... & x+n,y+m  \\\\\n",
    "\\end{bmatrix} }\" />\n",
    "\n",
    "\n",
    "The output of linear and time invariant system can be written by convolution of input signal $x[m, n]$, and response to delta function, $h[m, n]$\n",
    "\n",
    "$y[m,n]=x[m,n]*h[m,n]= \\sum_{j=-\\infty}^{+\\infty} \\sum_{i=-\\infty}^{+\\infty} x[i,j]h[m-i,n-j] $\n",
    "\n",
    "\n",
    "kernels in 2D are center originated, meaning $h[0, 0]$ is the center point of a kernel. \n",
    "\n",
    "\n",
    "<figure>\n",
    "  <img src='images/conv_img11.png' alt=\"Trulli\" style=\"width:30%\">\n",
    "  <figcaption>image courtesy www.songho.ca</figcaption>\n",
    "</figure>\n",
    "\n",
    "\n",
    "\n",
    "\n",
    "$y[1,1]=x[1,1]*h[1,1]= \\sum_{j=-\\infty}^{+\\infty} \\sum_{i=-\\infty}^{+\\infty} x[i,j]h[1-i,1-j]=\\\\ \n",
    "x[0,0]h[1,1]+x[1,0]h[0,1]+x[2,0]h[-1,1]+\\\\\n",
    "x[0,1]h[1,0]+x[1,1]h[0,0]+x[2,1]h[-1,0]+\\\\\n",
    "x[0,2]h[1,-1]+x[1,2]h[0,-1]+x[2,2]h[-1,-1]$\n",
    "\n",
    "\n",
    "\n",
    "Note that the kernel matrix is turned upside down and then mirrored before multiplying the overlapped input data.\n",
    "\n",
    "<figure>\n",
    "  <img src='images/conv2d_matrix.jpg' alt=\"Trulli\" style=\"width:30%\">\n",
    "  <figcaption>image courtesy www.songho.ca</figcaption>\n",
    "</figure>\n",
    "\n",
    "\n",
    "\n",
    "Refs: [1](http://www.songho.ca/dsp/convolution/convolution.html#convolution_2d)"
   ]
  },
  {
   "cell_type": "markdown",
   "metadata": {},
   "source": [
    "## Separable Convolution 2D\n"
   ]
  },
  {
   "cell_type": "markdown",
   "metadata": {},
   "source": [
    "# Cross Correlation\n",
    "\n",
    "Each output unit is a linear function of localized subset of input units\n",
    "\n",
    "\n",
    "![SegmentLocal](images/no_padding_no_strides.gif \"segment\")\n"
   ]
  },
  {
   "cell_type": "markdown",
   "metadata": {},
   "source": [
    "$H[x,y]=\\sum_{v=-k}^{k} \\sum_{u=-k}^{k} I[x+u,y+v] F[u,v]$"
   ]
  },
  {
   "cell_type": "markdown",
   "metadata": {},
   "source": [
    "# Convolution"
   ]
  },
  {
   "cell_type": "markdown",
   "metadata": {},
   "source": [
    "Refs: [1](https://github.com/vdumoulin/conv_arithmetic) [2](https://theblog.github.io/post/convolution-in-autoregressive-neural-networks/)"
   ]
  },
  {
   "cell_type": "markdown",
   "metadata": {},
   "source": [
    "# Shape of the Convolution Output"
   ]
  },
  {
   "cell_type": "markdown",
   "metadata": {},
   "source": [
    "$H_{out} =\\left \\lfloor \\frac{ H_{in} +2 \\times \\text{padding[0]}-\\text{dilation[0]} \\times(\\text{kernel_size}[0]-1)-1}{stride[0]}   +1\\right \\rfloor$\n",
    "\n",
    "\n",
    "\n",
    "$W_{out} =\\left \\lfloor \\frac{ W_{in} +2\\times \\text{padding[1]}-\\text{dilation[1]} \\times(\\text{kernel_size}[1]-1)-1}{stride[1]}   +1\\right \\rfloor$"
   ]
  },
  {
   "cell_type": "markdown",
   "metadata": {},
   "source": [
    "# 2D Convolution as Matrix Multiplication"
   ]
  },
  {
   "cell_type": "markdown",
   "metadata": {},
   "source": [
    "You can write 2D Convolution as Matrix Multiplication. There are several way to do that\n",
    "\n",
    "## 1) Discrete convolution\n",
    "You should use a **doubly block circulant matrix** which is a special case of **Toeplitz matrix**.\n",
    "\n",
    "The following matrix is a Toeplitz matrix:\n",
    "\n",
    "\n",
    "$\\begin{bmatrix}\n",
    "a & b & c & d & e \\\\\n",
    "f & a & b & c & d \\\\\n",
    "g & f & a & b & c \\\\\n",
    "h & g & f & a & b \\\\\n",
    "i & h & g & f & a \n",
    "\\end{bmatrix}$\n",
    "\n",
    "Toeplitz matrix of a $n×n$ matrix A is:\n",
    "\n",
    "\n",
    "${\\displaystyle {\\begin{bmatrix}a_{0}&a_{-1}&a_{-2}&\\cdots &\\cdots &a_{-(n-1)}\\\\a_{1}&a_{0}&a_{-1}&\\ddots &&\\vdots \\\\a_{2}&a_{1}&\\ddots &\\ddots &\\ddots &\\vdots \\\\\\vdots &\\ddots &\\ddots &\\ddots &a_{-1}&a_{-2}\\\\\\vdots &&\\ddots &a_{1}&a_{0}&a_{-1}\\\\a_{n-1}&\\cdots &\\cdots &a_{2}&a_{1}&a_{0}\\end{bmatrix}}}$\n",
    "\n",
    "\n",
    "If the i,j element of A is denoted $A_{i,j}$, then we have\n",
    "\n",
    "${\\displaystyle A_{i,j}=A_{i+1,j+1}=a_{i-j}.\\ }$ "
   ]
  },
  {
   "cell_type": "markdown",
   "metadata": {},
   "source": [
    "${\\displaystyle y=k\\ast x={\\begin{bmatrix}k_{1}&0&\\cdots &0&0\\\\k_{2}&k_{1}&&\\vdots &\\vdots \\\\k_{3}&k_{2}&\\cdots &0&0\\\\\\vdots &k_{3}&\\cdots &k_{1}&0\\\\k_{m-1}&\\vdots &\\ddots &k_{2}&k_{1}\\\\k_{m}&k_{m-1}&&\\vdots &k_{2}\\\\0&k_{m}&\\ddots &k_{m-2}&\\vdots \\\\0&0&\\cdots &k_{m-1}&k_{m-2}\\\\\\vdots &\\vdots &&k_{m}&k_{m-1}\\\\0&0&0&\\cdots &k_{m}\\end{bmatrix}}{\\begin{bmatrix}x_{1}\\\\x_{2}\\\\x_{3}\\\\\\vdots \\\\x_{n}\\end{bmatrix}}}$\n",
    "\n",
    "Refs: [1](https://en.wikipedia.org/wiki/Toeplitz_matrix#Discrete_convolution)"
   ]
  },
  {
   "cell_type": "markdown",
   "metadata": {},
   "source": [
    "## 2) Using im2col\n",
    "\n",
    "Suppose we have a single channel 4 x 4 image, X, and its pixel values are as follows:\n",
    "\n",
    "<img src='images/im2col_1.png'>\n",
    "\n",
    "and our weight is:\n",
    "\n",
    "$\\begin{bmatrix}\n",
    "1 &2 \\\\ \n",
    " 3& 4\n",
    "\\end{bmatrix}$\n",
    "\n",
    "This means that there will be 9 2 x 2 image patches that will be element-wise multiplied with the matrix W, like so:\n",
    "<img src='images/im2col_2.png'>\n",
    "\n",
    "\n",
    "These image patches can be represented as 4-dimensional column vectors and concatenated to form a single 4 x 9 matrix, P, like so:\n",
    "\n",
    "\n",
    "<img src='images/im2col_3.png'>\n",
    "\n",
    "To perform the convolution, we first matrix multiply K with P to get a 9-dimensional row vector (1 x 9 matrix) which gives us:\n",
    "\n",
    "<img src='images/im2col_4.png'>\n",
    "\n",
    "\n",
    "Then we reshape the result of K P to the correct shape, which is a 3 x 3 x 1\n",
    "\n",
    "Refs: [1](https://medium.com/@_init_/an-illustrated-explanation-of-performing-2d-convolutions-using-matrix-multiplications-1e8de8cd2544)"
   ]
  },
  {
   "cell_type": "markdown",
   "metadata": {},
   "source": [
    "## 3) Using Doubly Block Circulant Matrix"
   ]
  },
  {
   "cell_type": "markdown",
   "metadata": {},
   "source": [
    "Let's say we have a filter $k$ of size $ m\\times m$ and your input data $\\times$ is of size $n\\timesn$.\n",
    "\n",
    "\n"
   ]
  },
  {
   "cell_type": "markdown",
   "metadata": {},
   "source": [
    "<img src='images/input.png'>  <img src='images/k.png'>"
   ]
  },
  {
   "cell_type": "markdown",
   "metadata": {},
   "source": [
    "You should unroll $k$ into a sparse matrix of size $(n-m+1)^2 \\times  n^2$, and unroll x into a long vector $n^2 \\times 1$"
   ]
  },
  {
   "cell_type": "markdown",
   "metadata": {},
   "source": [
    "<img src='images/conv_mult.png'>"
   ]
  },
  {
   "cell_type": "markdown",
   "metadata": {},
   "source": [
    "<img src='images/conv_result.png'>\n"
   ]
  },
  {
   "cell_type": "markdown",
   "metadata": {},
   "source": [
    "In the end you should reshape your vector. Convert the resulting vector (which will have a size $(n-m+1)^2 \\times 1)$ into a $n-m+1$ square matrix \n",
    "\n",
    "Refs: [1](https://stackoverflow.com/questions/16798888/2-d-convolution-as-a-matrix-matrix-multiplication), [2](https://dsp.stackexchange.com/questions/35373/2d-convolution-as-a-doubly-block-circulant-matrix-operating-on-a-vector)"
   ]
  },
  {
   "cell_type": "markdown",
   "metadata": {},
   "source": [
    "# Convolution in RGB Images"
   ]
  },
  {
   "cell_type": "markdown",
   "metadata": {},
   "source": [
    "Number of channels in our image must match the number of channels in our filter, so these two numbers have to be equal. The output of this will be a $4 \\times 4 \\times 1$. We ofetn have $k$ filters of size $3\\times3\\times3$ so the output would be $k$ images of size $4 \\times 4 \\times 1$"
   ]
  },
  {
   "cell_type": "markdown",
   "metadata": {},
   "source": [
    "<img src='images/06_03.png'/>"
   ]
  },
  {
   "cell_type": "markdown",
   "metadata": {},
   "source": [
    "<img src='images/06_09.png'>"
   ]
  },
  {
   "cell_type": "markdown",
   "metadata": {},
   "source": [
    "<img src='images/3_channel_conv.gif'>"
   ]
  },
  {
   "cell_type": "markdown",
   "metadata": {},
   "source": [
    "Refs: [1](http://datahacker.rs/convolution-rgb-image/), [2](https://cs231n.github.io/convolutional-networks/#conv)"
   ]
  },
  {
   "cell_type": "markdown",
   "metadata": {},
   "source": [
    "# Transpose Convolution"
   ]
  },
  {
   "cell_type": "markdown",
   "metadata": {},
   "source": [
    "AKA :\n",
    "- Deconvolution (bad)\n",
    "- Upconvolution\n",
    "- Fractionally strided convolution\n",
    "- Backward strided convolution\n",
    "\n",
    "\n",
    "No padding, no strides, transposed\n",
    "<img src='images/no_padding_no_strides_transposed.gif'>\n",
    "\n",
    "\n",
    "Full padding, no strides, transposed\n",
    "\n",
    "<img src='images/full_padding_no_strides_transposed.gif'>"
   ]
  },
  {
   "cell_type": "markdown",
   "metadata": {},
   "source": [
    "# 1x1 Convolution (Network-in-Network)"
   ]
  },
  {
   "cell_type": "markdown",
   "metadata": {},
   "source": [
    "Lets say you have tensor $(N, C, H, W)$, ($N$ is the batch size, $CF$ is the number of channel, $\n",
    "H,W$ are the spatial dimensions). Suppose this output is fed into a conv layer with $F_1$ $1\\times1\\times C$ with zero padding and stride 1. Then the output of this $1\\times1$ conv layer will have shape $(N,1,H,W)$. We dot product every element of the filter with the tensor and apply a RelU function on the output. You can imagine this a single neuron which has $C$ input. Thats why it is called **Network-in-Network**.\n",
    "\n",
    "\n",
    "You can use a $1\\times1$ convolutional layer to reduce $n_C$ but not $n_H, n_W$.\n",
    "\n",
    "You can use a pooling layer to reduce $n_H$, $n_W$, and $n_C$.\n",
    "\n"
   ]
  },
  {
   "cell_type": "markdown",
   "metadata": {},
   "source": [
    "Refs: [1](https://arxiv.org/abs/1312.4400), [2](https://www.youtube.com/watch?v=vcp0XvDAX68), [3](https://stats.stackexchange.com/questions/194142/what-does-1x1-convolution-mean-in-a-neural-network)"
   ]
  },
  {
   "cell_type": "markdown",
   "metadata": {},
   "source": [
    "# Dilated Convolutions\n",
    "\n",
    "\n",
    "This can be very useful in some settings to use in conjunction with 0-dilated filters because it allows you to merge spatial information across the inputs much more agressively with fewer layers. For example, if you stack two 3x3 CONV layers on top of each other then you can convince yourself that the neurons on the 2nd layer are a function of a 5x5 patch of the input (we would say that the effective receptive field of these neurons is 5x5). If we use dilated convolutions then this effective receptive field would grow much quicker.\n",
    "\n",
    "\n",
    "\n",
    "\n",
    "\n",
    "<img src='images/dilation.gif'>\n",
    "\n",
    "Refs: [1](https://arxiv.org/abs/1511.07122)"
   ]
  },
  {
   "cell_type": "markdown",
   "metadata": {},
   "source": [
    "# Fourier series\n"
   ]
  }
 ],
 "metadata": {
  "kernelspec": {
   "display_name": "Python 3",
   "language": "python",
   "name": "python3"
  },
  "language_info": {
   "codemirror_mode": {
    "name": "ipython",
    "version": 3
   },
   "file_extension": ".py",
   "mimetype": "text/x-python",
   "name": "python",
   "nbconvert_exporter": "python",
   "pygments_lexer": "ipython3",
   "version": "3.8.12"
  }
 },
 "nbformat": 4,
 "nbformat_minor": 4
}
