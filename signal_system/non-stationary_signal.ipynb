{
 "cells": [
  {
   "cell_type": "markdown",
   "id": "46e64655",
   "metadata": {},
   "source": [
    "Non-stationary signals are those whose statistical properties change over time. Unlike stationary signals, where these properties (such as **mean**, **variance**, and **[autocorrelation](autocorrelation.ipynb)**) are constant over time, non-stationary signals exhibit variations in these parameters. This makes analyzing and processing non-stationary signals more complex than their stationary counterparts.\n",
    "\n",
    "There are several key aspects to consider regarding non-stationary signals:\n",
    "\n",
    "### 1. **Changing Mean and Variance**\n",
    "   - The mean (average value) and variance (measure of signal's spread) of non-stationary signals can change over time. For example, a temperature reading from a weather station might gradually increase or decrease throughout the day, indicating a non-stationary mean.\n",
    "\n",
    "### 2. **Time-Varying Frequency Content**\n",
    "   - Non-stationary signals may have frequency components that change over time. For instance, in music or speech, the pitch and tone can vary, reflecting changes in the frequency content of the signal.\n",
    "\n",
    "### 3. **Modulation**\n",
    "   - Signals may be modulated with time, causing their properties to change. Modulation can affect amplitude, frequency, or phase of the signal, leading to non-stationarity.\n",
    "\n",
    "### 4. **Transient Phenomena**\n",
    "   - Sudden changes or events within a signal, such as spikes or drops, contribute to its non-stationary nature. These can be caused by external disturbances or system dynamics.\n",
    "\n",
    "### 5. **Seasonality**\n",
    "   - Some signals exhibit patterns that repeat over time, such as daily temperature variations or yearly sales trends in retail. These seasonal effects introduce non-stationarity due to the periodic change in signal properties.\n",
    "\n",
    "### Analysis and Processing\n",
    "Analyzing non-stationary signals often involves techniques that can adapt to or track changes in the signal’s statistical properties. Some of these techniques include:\n",
    "\n",
    "- **Time-Frequency Analysis**: Tools like the Short-Time Fourier Transform (STFT) or wavelet transforms are used to analyze the signal in both time and frequency domains simultaneously, capturing changes in its content over time.\n",
    "\n",
    "- **Adaptive Filtering**: Filters that adjust their parameters in real-time to track changes in the signal's properties.\n",
    "\n",
    "- **Empirical Mode Decomposition (EMD)**: A method to decompose a signal into so-called intrinsic mode functions (IMFs) that can capture the non-stationary aspects of the signal.\n",
    "\n",
    "- **Machine Learning Approaches**: Machine learning models, especially those capable of handling time series data (like recurrent neural networks), can be trained to predict or classify non-stationary signals based on their changing features."
   ]
  }
 ],
 "metadata": {
  "kernelspec": {
   "display_name": "Python 3 (ipykernel)",
   "language": "python",
   "name": "python3"
  },
  "language_info": {
   "codemirror_mode": {
    "name": "ipython",
    "version": 3
   },
   "file_extension": ".py",
   "mimetype": "text/x-python",
   "name": "python",
   "nbconvert_exporter": "python",
   "pygments_lexer": "ipython3",
   "version": "3.10.13"
  }
 },
 "nbformat": 4,
 "nbformat_minor": 5
}
